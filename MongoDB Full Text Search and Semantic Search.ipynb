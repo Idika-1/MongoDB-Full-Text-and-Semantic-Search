{
  "cells": [
    {
      "cell_type": "code",
      "execution_count": null,
      "id": "7ff49028-7014-4d7a-93e2-a7a07158ce29",
      "metadata": {
        "id": "7ff49028-7014-4d7a-93e2-a7a07158ce29"
      },
      "outputs": [],
      "source": [
        "#Importing the Pandas library for data analysis\n",
        "import pandas as pd\n",
        "\n",
        "#Importing numpy for mathematical computations\n",
        "import numpy as np"
      ]
    },
    {
      "cell_type": "code",
      "execution_count": null,
      "id": "eac5f678-ef91-4a59-a39a-5f089a1c995e",
      "metadata": {
        "id": "eac5f678-ef91-4a59-a39a-5f089a1c995e"
      },
      "outputs": [],
      "source": [
        "#Importing the tabular dataset\n",
        "df = pd.read_csv(\"Reviews.csv\")"
      ]
    },
    {
      "cell_type": "code",
      "execution_count": null,
      "id": "0679de43-512f-4b23-a769-ff7f3b821143",
      "metadata": {
        "id": "0679de43-512f-4b23-a769-ff7f3b821143",
        "outputId": "d3c67e63-70ac-4ef1-e6a1-a40543d56be2"
      },
      "outputs": [
        {
          "data": {
            "text/html": [
              "<div>\n",
              "<style scoped>\n",
              "    .dataframe tbody tr th:only-of-type {\n",
              "        vertical-align: middle;\n",
              "    }\n",
              "\n",
              "    .dataframe tbody tr th {\n",
              "        vertical-align: top;\n",
              "    }\n",
              "\n",
              "    .dataframe thead th {\n",
              "        text-align: right;\n",
              "    }\n",
              "</style>\n",
              "<table border=\"1\" class=\"dataframe\">\n",
              "  <thead>\n",
              "    <tr style=\"text-align: right;\">\n",
              "      <th></th>\n",
              "      <th>Id</th>\n",
              "      <th>ProductId</th>\n",
              "      <th>UserId</th>\n",
              "      <th>ProfileName</th>\n",
              "      <th>HelpfulnessNumerator</th>\n",
              "      <th>HelpfulnessDenominator</th>\n",
              "      <th>Score</th>\n",
              "      <th>Time</th>\n",
              "      <th>Summary</th>\n",
              "      <th>Text</th>\n",
              "    </tr>\n",
              "  </thead>\n",
              "  <tbody>\n",
              "    <tr>\n",
              "      <th>0</th>\n",
              "      <td>1</td>\n",
              "      <td>B001E4KFG0</td>\n",
              "      <td>A3SGXH7AUHU8GW</td>\n",
              "      <td>delmartian</td>\n",
              "      <td>1</td>\n",
              "      <td>1</td>\n",
              "      <td>5</td>\n",
              "      <td>1303862400</td>\n",
              "      <td>Good Quality Dog Food</td>\n",
              "      <td>I have bought several of the Vitality canned d...</td>\n",
              "    </tr>\n",
              "    <tr>\n",
              "      <th>1</th>\n",
              "      <td>2</td>\n",
              "      <td>B00813GRG4</td>\n",
              "      <td>A1D87F6ZCVE5NK</td>\n",
              "      <td>dll pa</td>\n",
              "      <td>0</td>\n",
              "      <td>0</td>\n",
              "      <td>1</td>\n",
              "      <td>1346976000</td>\n",
              "      <td>Not as Advertised</td>\n",
              "      <td>Product arrived labeled as Jumbo Salted Peanut...</td>\n",
              "    </tr>\n",
              "    <tr>\n",
              "      <th>2</th>\n",
              "      <td>3</td>\n",
              "      <td>B000LQOCH0</td>\n",
              "      <td>ABXLMWJIXXAIN</td>\n",
              "      <td>Natalia Corres \"Natalia Corres\"</td>\n",
              "      <td>1</td>\n",
              "      <td>1</td>\n",
              "      <td>4</td>\n",
              "      <td>1219017600</td>\n",
              "      <td>\"Delight\" says it all</td>\n",
              "      <td>This is a confection that has been around a fe...</td>\n",
              "    </tr>\n",
              "    <tr>\n",
              "      <th>3</th>\n",
              "      <td>4</td>\n",
              "      <td>B000UA0QIQ</td>\n",
              "      <td>A395BORC6FGVXV</td>\n",
              "      <td>Karl</td>\n",
              "      <td>3</td>\n",
              "      <td>3</td>\n",
              "      <td>2</td>\n",
              "      <td>1307923200</td>\n",
              "      <td>Cough Medicine</td>\n",
              "      <td>If you are looking for the secret ingredient i...</td>\n",
              "    </tr>\n",
              "    <tr>\n",
              "      <th>4</th>\n",
              "      <td>5</td>\n",
              "      <td>B006K2ZZ7K</td>\n",
              "      <td>A1UQRSCLF8GW1T</td>\n",
              "      <td>Michael D. Bigham \"M. Wassir\"</td>\n",
              "      <td>0</td>\n",
              "      <td>0</td>\n",
              "      <td>5</td>\n",
              "      <td>1350777600</td>\n",
              "      <td>Great taffy</td>\n",
              "      <td>Great taffy at a great price.  There was a wid...</td>\n",
              "    </tr>\n",
              "  </tbody>\n",
              "</table>\n",
              "</div>"
            ],
            "text/plain": [
              "   Id   ProductId          UserId                      ProfileName  \\\n",
              "0   1  B001E4KFG0  A3SGXH7AUHU8GW                       delmartian   \n",
              "1   2  B00813GRG4  A1D87F6ZCVE5NK                           dll pa   \n",
              "2   3  B000LQOCH0   ABXLMWJIXXAIN  Natalia Corres \"Natalia Corres\"   \n",
              "3   4  B000UA0QIQ  A395BORC6FGVXV                             Karl   \n",
              "4   5  B006K2ZZ7K  A1UQRSCLF8GW1T    Michael D. Bigham \"M. Wassir\"   \n",
              "\n",
              "   HelpfulnessNumerator  HelpfulnessDenominator  Score        Time  \\\n",
              "0                     1                       1      5  1303862400   \n",
              "1                     0                       0      1  1346976000   \n",
              "2                     1                       1      4  1219017600   \n",
              "3                     3                       3      2  1307923200   \n",
              "4                     0                       0      5  1350777600   \n",
              "\n",
              "                 Summary                                               Text  \n",
              "0  Good Quality Dog Food  I have bought several of the Vitality canned d...  \n",
              "1      Not as Advertised  Product arrived labeled as Jumbo Salted Peanut...  \n",
              "2  \"Delight\" says it all  This is a confection that has been around a fe...  \n",
              "3         Cough Medicine  If you are looking for the secret ingredient i...  \n",
              "4            Great taffy  Great taffy at a great price.  There was a wid...  "
            ]
          },
          "metadata": {},
          "output_type": "display_data"
        }
      ],
      "source": [
        "display(df.head())"
      ]
    },
    {
      "cell_type": "code",
      "execution_count": null,
      "id": "6be32cba-671a-42a0-aec3-d152a7b670b7",
      "metadata": {
        "id": "6be32cba-671a-42a0-aec3-d152a7b670b7",
        "outputId": "bed377e3-9069-4f63-9c88-ad760bc1508b"
      },
      "outputs": [
        {
          "name": "stdout",
          "output_type": "stream",
          "text": [
            "The number of rows present in the dataset: 568454 rows\n",
            "The number of columns present in the dataset: 10 columns\n",
            "\n",
            "Number of missing values in each column of the data:\n",
            "Id                         0\n",
            "ProductId                  0\n",
            "UserId                     0\n",
            "ProfileName               26\n",
            "HelpfulnessNumerator       0\n",
            "HelpfulnessDenominator     0\n",
            "Score                      0\n",
            "Time                       0\n",
            "Summary                   27\n",
            "Text                       0\n",
            "dtype: int64\n",
            "\n",
            "Number of duplicate rows in the data: 0 rows\n",
            "None\n"
          ]
        }
      ],
      "source": [
        "#Defining a function to examine the dataset\n",
        "def examine(data):\n",
        "    #Determining the number of rows and columns of the dataset\n",
        "    print(f\"The number of rows present in the dataset: {data.shape[0]} rows\")\n",
        "    print(f\"The number of columns present in the dataset: {data.shape[1]} columns\\n\")\n",
        "\n",
        "    #Determining if there are missing values in the data\n",
        "    print(f\"Number of missing values in each column of the data:\\n{data.isna().sum()}\\n\")\n",
        "\n",
        "    #Determining if there are duplicate rows in the data\n",
        "    print(f\"Number of duplicate rows in the data: {data.duplicated().sum()} rows\")\n",
        "\n",
        "data_description = examine(df)\n",
        "print(data_description)"
      ]
    },
    {
      "cell_type": "code",
      "execution_count": null,
      "id": "b3933bfd-c43d-47fa-a924-0a38a027e674",
      "metadata": {
        "id": "b3933bfd-c43d-47fa-a924-0a38a027e674",
        "outputId": "726f1489-0919-4e42-e124-76210c569708"
      },
      "outputs": [
        {
          "name": "stdout",
          "output_type": "stream",
          "text": [
            "The number of rows present in the dataset: 568401 rows\n",
            "The number of columns present in the dataset: 10 columns\n",
            "\n",
            "Number of missing values in each column of the data:\n",
            "Id                        0\n",
            "ProductId                 0\n",
            "UserId                    0\n",
            "ProfileName               0\n",
            "HelpfulnessNumerator      0\n",
            "HelpfulnessDenominator    0\n",
            "Score                     0\n",
            "Time                      0\n",
            "Summary                   0\n",
            "Text                      0\n",
            "dtype: int64\n",
            "\n",
            "Number of duplicate rows in the data: 0 rows\n",
            "None\n"
          ]
        }
      ],
      "source": [
        "#Cleaning the dataset\n",
        "#Removing missing entries for ProfileName and Summary\n",
        "df = df.dropna(axis=0, how=\"any\")\n",
        "\n",
        "data_description_clean = examine(df)\n",
        "print(data_description_clean)\n"
      ]
    },
    {
      "cell_type": "code",
      "execution_count": null,
      "id": "804e3669-d5e1-4f2e-b56f-ac301e2341df",
      "metadata": {
        "id": "804e3669-d5e1-4f2e-b56f-ac301e2341df",
        "outputId": "67f7c68e-c443-4e20-f288-4d04f1c6a944"
      },
      "outputs": [
        {
          "data": {
            "text/html": [
              "<div>\n",
              "<style scoped>\n",
              "    .dataframe tbody tr th:only-of-type {\n",
              "        vertical-align: middle;\n",
              "    }\n",
              "\n",
              "    .dataframe tbody tr th {\n",
              "        vertical-align: top;\n",
              "    }\n",
              "\n",
              "    .dataframe thead th {\n",
              "        text-align: right;\n",
              "    }\n",
              "</style>\n",
              "<table border=\"1\" class=\"dataframe\">\n",
              "  <thead>\n",
              "    <tr style=\"text-align: right;\">\n",
              "      <th></th>\n",
              "      <th>Id</th>\n",
              "      <th>ProductId</th>\n",
              "      <th>UserId</th>\n",
              "      <th>ProfileName</th>\n",
              "      <th>HelpfulnessNumerator</th>\n",
              "      <th>HelpfulnessDenominator</th>\n",
              "      <th>Score</th>\n",
              "      <th>Time</th>\n",
              "      <th>Summary</th>\n",
              "      <th>Text</th>\n",
              "      <th>Date</th>\n",
              "    </tr>\n",
              "  </thead>\n",
              "  <tbody>\n",
              "    <tr>\n",
              "      <th>0</th>\n",
              "      <td>1</td>\n",
              "      <td>B001E4KFG0</td>\n",
              "      <td>A3SGXH7AUHU8GW</td>\n",
              "      <td>delmartian</td>\n",
              "      <td>1</td>\n",
              "      <td>1</td>\n",
              "      <td>5</td>\n",
              "      <td>1303862400</td>\n",
              "      <td>Good Quality Dog Food</td>\n",
              "      <td>I have bought several of the Vitality canned d...</td>\n",
              "      <td>2011-04-27</td>\n",
              "    </tr>\n",
              "    <tr>\n",
              "      <th>1</th>\n",
              "      <td>2</td>\n",
              "      <td>B00813GRG4</td>\n",
              "      <td>A1D87F6ZCVE5NK</td>\n",
              "      <td>dll pa</td>\n",
              "      <td>0</td>\n",
              "      <td>0</td>\n",
              "      <td>1</td>\n",
              "      <td>1346976000</td>\n",
              "      <td>Not as Advertised</td>\n",
              "      <td>Product arrived labeled as Jumbo Salted Peanut...</td>\n",
              "      <td>2012-09-07</td>\n",
              "    </tr>\n",
              "    <tr>\n",
              "      <th>2</th>\n",
              "      <td>3</td>\n",
              "      <td>B000LQOCH0</td>\n",
              "      <td>ABXLMWJIXXAIN</td>\n",
              "      <td>Natalia Corres \"Natalia Corres\"</td>\n",
              "      <td>1</td>\n",
              "      <td>1</td>\n",
              "      <td>4</td>\n",
              "      <td>1219017600</td>\n",
              "      <td>\"Delight\" says it all</td>\n",
              "      <td>This is a confection that has been around a fe...</td>\n",
              "      <td>2008-08-18</td>\n",
              "    </tr>\n",
              "    <tr>\n",
              "      <th>3</th>\n",
              "      <td>4</td>\n",
              "      <td>B000UA0QIQ</td>\n",
              "      <td>A395BORC6FGVXV</td>\n",
              "      <td>Karl</td>\n",
              "      <td>3</td>\n",
              "      <td>3</td>\n",
              "      <td>2</td>\n",
              "      <td>1307923200</td>\n",
              "      <td>Cough Medicine</td>\n",
              "      <td>If you are looking for the secret ingredient i...</td>\n",
              "      <td>2011-06-13</td>\n",
              "    </tr>\n",
              "    <tr>\n",
              "      <th>4</th>\n",
              "      <td>5</td>\n",
              "      <td>B006K2ZZ7K</td>\n",
              "      <td>A1UQRSCLF8GW1T</td>\n",
              "      <td>Michael D. Bigham \"M. Wassir\"</td>\n",
              "      <td>0</td>\n",
              "      <td>0</td>\n",
              "      <td>5</td>\n",
              "      <td>1350777600</td>\n",
              "      <td>Great taffy</td>\n",
              "      <td>Great taffy at a great price.  There was a wid...</td>\n",
              "      <td>2012-10-21</td>\n",
              "    </tr>\n",
              "  </tbody>\n",
              "</table>\n",
              "</div>"
            ],
            "text/plain": [
              "   Id   ProductId          UserId                      ProfileName  \\\n",
              "0   1  B001E4KFG0  A3SGXH7AUHU8GW                       delmartian   \n",
              "1   2  B00813GRG4  A1D87F6ZCVE5NK                           dll pa   \n",
              "2   3  B000LQOCH0   ABXLMWJIXXAIN  Natalia Corres \"Natalia Corres\"   \n",
              "3   4  B000UA0QIQ  A395BORC6FGVXV                             Karl   \n",
              "4   5  B006K2ZZ7K  A1UQRSCLF8GW1T    Michael D. Bigham \"M. Wassir\"   \n",
              "\n",
              "   HelpfulnessNumerator  HelpfulnessDenominator  Score        Time  \\\n",
              "0                     1                       1      5  1303862400   \n",
              "1                     0                       0      1  1346976000   \n",
              "2                     1                       1      4  1219017600   \n",
              "3                     3                       3      2  1307923200   \n",
              "4                     0                       0      5  1350777600   \n",
              "\n",
              "                 Summary                                               Text  \\\n",
              "0  Good Quality Dog Food  I have bought several of the Vitality canned d...   \n",
              "1      Not as Advertised  Product arrived labeled as Jumbo Salted Peanut...   \n",
              "2  \"Delight\" says it all  This is a confection that has been around a fe...   \n",
              "3         Cough Medicine  If you are looking for the secret ingredient i...   \n",
              "4            Great taffy  Great taffy at a great price.  There was a wid...   \n",
              "\n",
              "        Date  \n",
              "0 2011-04-27  \n",
              "1 2012-09-07  \n",
              "2 2008-08-18  \n",
              "3 2011-06-13  \n",
              "4 2012-10-21  "
            ]
          },
          "metadata": {},
          "output_type": "display_data"
        }
      ],
      "source": [
        "#Formatting the time column\n",
        "df[\"Date\"] = pd.to_datetime(df[\"Time\"], unit='s')   #Converting Unix time to datetime (assumption: the time presented is in Unix and it shows the number of seconds from 01/01/1970\n",
        "display(df.head())"
      ]
    },
    {
      "cell_type": "code",
      "execution_count": null,
      "id": "cf2abc99-4b93-42fe-ba68-e97f50da6156",
      "metadata": {
        "id": "cf2abc99-4b93-42fe-ba68-e97f50da6156",
        "outputId": "6a562184-5c32-4ec5-faa7-1d26eda76d48"
      },
      "outputs": [
        {
          "data": {
            "text/html": [
              "<div>\n",
              "<style scoped>\n",
              "    .dataframe tbody tr th:only-of-type {\n",
              "        vertical-align: middle;\n",
              "    }\n",
              "\n",
              "    .dataframe tbody tr th {\n",
              "        vertical-align: top;\n",
              "    }\n",
              "\n",
              "    .dataframe thead th {\n",
              "        text-align: right;\n",
              "    }\n",
              "</style>\n",
              "<table border=\"1\" class=\"dataframe\">\n",
              "  <thead>\n",
              "    <tr style=\"text-align: right;\">\n",
              "      <th></th>\n",
              "      <th>Id</th>\n",
              "      <th>HelpfulnessNumerator</th>\n",
              "      <th>HelpfulnessDenominator</th>\n",
              "      <th>Score</th>\n",
              "      <th>Time</th>\n",
              "      <th>Date</th>\n",
              "    </tr>\n",
              "  </thead>\n",
              "  <tbody>\n",
              "    <tr>\n",
              "      <th>count</th>\n",
              "      <td>568401.000000</td>\n",
              "      <td>568401.000000</td>\n",
              "      <td>568401.000000</td>\n",
              "      <td>568401.000000</td>\n",
              "      <td>5.684010e+05</td>\n",
              "      <td>568401</td>\n",
              "    </tr>\n",
              "    <tr>\n",
              "      <th>mean</th>\n",
              "      <td>284228.120582</td>\n",
              "      <td>1.743903</td>\n",
              "      <td>2.227911</td>\n",
              "      <td>4.183297</td>\n",
              "      <td>1.296261e+09</td>\n",
              "      <td>2011-01-29 00:23:52.802545664</td>\n",
              "    </tr>\n",
              "    <tr>\n",
              "      <th>min</th>\n",
              "      <td>1.000000</td>\n",
              "      <td>0.000000</td>\n",
              "      <td>0.000000</td>\n",
              "      <td>1.000000</td>\n",
              "      <td>9.393408e+08</td>\n",
              "      <td>1999-10-08 00:00:00</td>\n",
              "    </tr>\n",
              "    <tr>\n",
              "      <th>25%</th>\n",
              "      <td>142116.000000</td>\n",
              "      <td>0.000000</td>\n",
              "      <td>0.000000</td>\n",
              "      <td>4.000000</td>\n",
              "      <td>1.271290e+09</td>\n",
              "      <td>2010-04-15 00:00:00</td>\n",
              "    </tr>\n",
              "    <tr>\n",
              "      <th>50%</th>\n",
              "      <td>284225.000000</td>\n",
              "      <td>0.000000</td>\n",
              "      <td>1.000000</td>\n",
              "      <td>5.000000</td>\n",
              "      <td>1.311120e+09</td>\n",
              "      <td>2011-07-20 00:00:00</td>\n",
              "    </tr>\n",
              "    <tr>\n",
              "      <th>75%</th>\n",
              "      <td>426342.000000</td>\n",
              "      <td>2.000000</td>\n",
              "      <td>2.000000</td>\n",
              "      <td>5.000000</td>\n",
              "      <td>1.332720e+09</td>\n",
              "      <td>2012-03-26 00:00:00</td>\n",
              "    </tr>\n",
              "    <tr>\n",
              "      <th>max</th>\n",
              "      <td>568454.000000</td>\n",
              "      <td>866.000000</td>\n",
              "      <td>923.000000</td>\n",
              "      <td>5.000000</td>\n",
              "      <td>1.351210e+09</td>\n",
              "      <td>2012-10-26 00:00:00</td>\n",
              "    </tr>\n",
              "    <tr>\n",
              "      <th>std</th>\n",
              "      <td>164098.955187</td>\n",
              "      <td>7.636845</td>\n",
              "      <td>8.288820</td>\n",
              "      <td>1.310376</td>\n",
              "      <td>4.803804e+07</td>\n",
              "      <td>NaN</td>\n",
              "    </tr>\n",
              "  </tbody>\n",
              "</table>\n",
              "</div>"
            ],
            "text/plain": [
              "                  Id  HelpfulnessNumerator  HelpfulnessDenominator  \\\n",
              "count  568401.000000         568401.000000           568401.000000   \n",
              "mean   284228.120582              1.743903                2.227911   \n",
              "min         1.000000              0.000000                0.000000   \n",
              "25%    142116.000000              0.000000                0.000000   \n",
              "50%    284225.000000              0.000000                1.000000   \n",
              "75%    426342.000000              2.000000                2.000000   \n",
              "max    568454.000000            866.000000              923.000000   \n",
              "std    164098.955187              7.636845                8.288820   \n",
              "\n",
              "               Score          Time                           Date  \n",
              "count  568401.000000  5.684010e+05                         568401  \n",
              "mean        4.183297  1.296261e+09  2011-01-29 00:23:52.802545664  \n",
              "min         1.000000  9.393408e+08            1999-10-08 00:00:00  \n",
              "25%         4.000000  1.271290e+09            2010-04-15 00:00:00  \n",
              "50%         5.000000  1.311120e+09            2011-07-20 00:00:00  \n",
              "75%         5.000000  1.332720e+09            2012-03-26 00:00:00  \n",
              "max         5.000000  1.351210e+09            2012-10-26 00:00:00  \n",
              "std         1.310376  4.803804e+07                            NaN  "
            ]
          },
          "metadata": {},
          "output_type": "display_data"
        }
      ],
      "source": [
        "display(df.describe())"
      ]
    },
    {
      "cell_type": "code",
      "execution_count": null,
      "id": "514e8222-2942-4e63-8041-fa68b50f4b6e",
      "metadata": {
        "id": "514e8222-2942-4e63-8041-fa68b50f4b6e",
        "outputId": "0124859f-405f-4158-ef4e-294a771c0225"
      },
      "outputs": [
        {
          "name": "stdout",
          "output_type": "stream",
          "text": [
            "<class 'pandas.core.frame.DataFrame'>\n",
            "Index: 568401 entries, 0 to 568453\n",
            "Data columns (total 11 columns):\n",
            " #   Column                  Non-Null Count   Dtype         \n",
            "---  ------                  --------------   -----         \n",
            " 0   Id                      568401 non-null  int64         \n",
            " 1   ProductId               568401 non-null  object        \n",
            " 2   UserId                  568401 non-null  object        \n",
            " 3   ProfileName             568401 non-null  object        \n",
            " 4   HelpfulnessNumerator    568401 non-null  int64         \n",
            " 5   HelpfulnessDenominator  568401 non-null  int64         \n",
            " 6   Score                   568401 non-null  int64         \n",
            " 7   Time                    568401 non-null  int64         \n",
            " 8   Summary                 568401 non-null  object        \n",
            " 9   Text                    568401 non-null  object        \n",
            " 10  Date                    568401 non-null  datetime64[ns]\n",
            "dtypes: datetime64[ns](1), int64(5), object(5)\n",
            "memory usage: 52.0+ MB\n"
          ]
        },
        {
          "data": {
            "text/plain": [
              "None"
            ]
          },
          "metadata": {},
          "output_type": "display_data"
        }
      ],
      "source": [
        "display(df.info())"
      ]
    },
    {
      "cell_type": "markdown",
      "id": "9e07e63f-43f4-43c5-85a3-715c06483ed1",
      "metadata": {
        "id": "9e07e63f-43f4-43c5-85a3-715c06483ed1"
      },
      "source": [
        "__<h2>Converting the Tabular Data to JSON</h2>__"
      ]
    },
    {
      "cell_type": "code",
      "execution_count": null,
      "id": "67d2ac16-c6c7-484c-b1bf-c425e3fcff89",
      "metadata": {
        "id": "67d2ac16-c6c7-484c-b1bf-c425e3fcff89"
      },
      "outputs": [],
      "source": [
        "#First, ensuring that the \"Date\" is stored as string to avoid being converted back to UNIX\n",
        "df[\"Date\"] = df[\"Date\"].astype(str)\n",
        "\n",
        "#Dropping the \"Time\" column\n",
        "df.drop(\"Time\", axis=1, inplace=True)"
      ]
    },
    {
      "cell_type": "code",
      "execution_count": null,
      "id": "4a605805-8067-47bb-a847-fa8e95f82c58",
      "metadata": {
        "id": "4a605805-8067-47bb-a847-fa8e95f82c58",
        "outputId": "f4038cdd-cc92-4a86-d437-8d4495eced23"
      },
      "outputs": [
        {
          "name": "stdout",
          "output_type": "stream",
          "text": [
            "CSV data successfully converted to JSON and saved as Amazon_Reviews.json\n"
          ]
        }
      ],
      "source": [
        "json_file = \"Amazon_Reviews.json\"\n",
        "df.to_json(json_file, orient=\"records\", lines=True)  #Line-delimited JSON data for MongoDB\n",
        "\n",
        "print(f\"CSV data successfully converted to JSON and saved as {json_file}\")"
      ]
    },
    {
      "cell_type": "markdown",
      "id": "ea390cc8-4177-4a07-a363-af91a2dd2590",
      "metadata": {
        "id": "ea390cc8-4177-4a07-a363-af91a2dd2590"
      },
      "source": [
        "__<h3>Inserting the JSON Data into MongoDB</h3>__"
      ]
    },
    {
      "cell_type": "markdown",
      "id": "9db85219-ef68-43f0-a943-bf8201f716ae",
      "metadata": {
        "id": "9db85219-ef68-43f0-a943-bf8201f716ae"
      },
      "source": [
        "**Steps to take:**<br>\n",
        "1. Install MongoDB & PyMongo (if not already installed) <br>\n",
        "2. Start MongoDB\n",
        "3. Connect to MongoDB using MongoDB's Python Driver - PyMongo\n",
        "4. Insert the JSON data into a MongoDB collection\n",
        "5. Verify the data insertion"
      ]
    },
    {
      "cell_type": "code",
      "execution_count": null,
      "id": "33d5d0f6-0afa-4d84-acf3-306bef207dd5",
      "metadata": {
        "id": "33d5d0f6-0afa-4d84-acf3-306bef207dd5",
        "outputId": "f4cfa051-128f-4bc5-93ec-c5ff676f9afa"
      },
      "outputs": [
        {
          "name": "stdout",
          "output_type": "stream",
          "text": [
            "Requirement already satisfied: pymongo in c:\\users\\admin\\anaconda3\\lib\\site-packages (4.11.2)\n",
            "Requirement already satisfied: dnspython<3.0.0,>=1.16.0 in c:\\users\\admin\\anaconda3\\lib\\site-packages (from pymongo) (2.7.0)\n"
          ]
        }
      ],
      "source": [
        "#Installing pymongo\n",
        "!pip install pymongo"
      ]
    },
    {
      "cell_type": "code",
      "execution_count": null,
      "id": "1055e6b2-dceb-4936-8413-c3362f81da6c",
      "metadata": {
        "id": "1055e6b2-dceb-4936-8413-c3362f81da6c",
        "outputId": "3702a66b-39a8-4f97-cf79-c2bcee1d5087"
      },
      "outputs": [
        {
          "name": "stdout",
          "output_type": "stream",
          "text": [
            "PyMongo Version Installed: 4.11.2\n"
          ]
        }
      ],
      "source": [
        "#Importing pymongo and verifying the installed version\n",
        "import pymongo\n",
        "print(f\"PyMongo Version Installed: {pymongo.__version__}\")"
      ]
    },
    {
      "cell_type": "code",
      "execution_count": null,
      "id": "eaec2b83-39c8-4233-811c-0a701889aa68",
      "metadata": {
        "id": "eaec2b83-39c8-4233-811c-0a701889aa68"
      },
      "outputs": [],
      "source": [
        "#Connecting to the MongoDB Cluster using the PyMongo Driver\n",
        "from pymongo import MongoClient\n",
        "\n",
        "#Connecting to MongoDB (Note: Make sure that MongoDB is running)\n",
        "client = MongoClient(\"mongodb://localhost:27017/\")"
      ]
    },
    {
      "cell_type": "code",
      "execution_count": null,
      "id": "b2cdecf4-19fa-448d-9032-710b8818c566",
      "metadata": {
        "id": "b2cdecf4-19fa-448d-9032-710b8818c566",
        "outputId": "7bc9f86e-514c-4082-f33d-8cfe31181742"
      },
      "outputs": [
        {
          "name": "stdout",
          "output_type": "stream",
          "text": [
            "Pinged your deployment. You successfully connected to MongoDB!\n"
          ]
        }
      ],
      "source": [
        "# Sending a ping to confirm a successful connection\n",
        "try:\n",
        "    client.admin.command('ping')\n",
        "    print(\"Pinged your deployment. You successfully connected to MongoDB!\")\n",
        "except Exception as e:\n",
        "    print(e)"
      ]
    },
    {
      "cell_type": "code",
      "execution_count": null,
      "id": "80a3d5c0-5685-4ae1-a266-31d1b2f86338",
      "metadata": {
        "id": "80a3d5c0-5685-4ae1-a266-31d1b2f86338"
      },
      "outputs": [],
      "source": [
        "#Selecting the database and collection\n",
        "db = client[\"my_database\"]\n",
        "collection = db[\"my_collection\"]\n",
        "\n",
        "#Loading the JSON data from file\n",
        "with open(f\"{json_file}\", \"r\", encoding=\"utf-8\") as file:\n",
        "    #Reading each line in the file and loading it as a separate JSON document\n",
        "    for line in file:\n",
        "        try:\n",
        "            data = json.loads(line)         #Deserialize each line of the file (i.e. converts each line into a Python dictionary)\n",
        "            collection.insert_one(data)     #Inserts each line as a single document into the collection\n",
        "        except json.JSONDecodeError as e:\n",
        "            print(f\"Error decoding JSON: {e}\")\n",
        "            continue   #Skipping the problematic line\n",
        "\n",
        "print(\"Data successfully inserted\")"
      ]
    },
    {
      "cell_type": "code",
      "execution_count": null,
      "id": "4fb3bcbe-f873-4e9e-bd7d-e2074fd6ea8c",
      "metadata": {
        "id": "4fb3bcbe-f873-4e9e-bd7d-e2074fd6ea8c",
        "outputId": "5e57dc27-f1d8-468b-afbb-152eeff5f1d3"
      },
      "outputs": [
        {
          "data": {
            "text/plain": [
              "{'_id': ObjectId('67cc8d2e14becb6d21d57e71'),\n",
              " 'Id': 1,\n",
              " 'ProductId': 'B001E4KFG0',\n",
              " 'UserId': 'A3SGXH7AUHU8GW',\n",
              " 'ProfileName': 'delmartian',\n",
              " 'HelpfulnessNumerator': 1,\n",
              " 'HelpfulnessDenominator': 1,\n",
              " 'Score': 5,\n",
              " 'Summary': 'Good Quality Dog Food',\n",
              " 'Text': 'I have bought several of the Vitality canned dog food products and have found them all to be of good quality. The product looks more like a stew than a processed meat and it smells better. My Labrador is finicky and she appreciates this product better than  most.',\n",
              " 'Date': '2011-04-27'}"
            ]
          },
          "execution_count": 20,
          "metadata": {},
          "output_type": "execute_result"
        }
      ],
      "source": [
        "#Retrieving one document from the collection to confirm that the data has been populated accordingly\n",
        "collection.find_one()"
      ]
    },
    {
      "cell_type": "markdown",
      "id": "9382706c-ad4f-47fd-8af9-92e7bd6454de",
      "metadata": {
        "id": "9382706c-ad4f-47fd-8af9-92e7bd6454de"
      },
      "source": [
        "__<h2>Full Text Search</h2>__"
      ]
    },
    {
      "cell_type": "code",
      "execution_count": null,
      "id": "8237b13a-75d7-4991-bbef-7d97e8511811",
      "metadata": {
        "id": "8237b13a-75d7-4991-bbef-7d97e8511811",
        "outputId": "11765a4f-6f67-46ce-e461-342233309d9e"
      },
      "outputs": [
        {
          "data": {
            "text/plain": [
              "'Summary_text_Text_text'"
            ]
          },
          "execution_count": 77,
          "metadata": {},
          "output_type": "execute_result"
        }
      ],
      "source": [
        "#In order to facilitate the full-text search, let's create indexes for fast retrieval\n",
        "\n",
        "#Creating a single-field index on the \"Score\" field (using a list of tuples) for efficient numeric queries\n",
        "collection.create_index([(\"Score\", 1)])\n",
        "\n",
        "#Creating a compound $text index on the \"Summary\" and \"Text\", fields for full-text search\n",
        "#Note: I am not using a $search index because I am using a local MongoDB\n",
        "#$search index requires MongoDB Atlas, a managed cloud service.\n",
        "\n",
        "collection.create_index([(\"Summary\", \"text\"), (\"Text\", \"text\")])"
      ]
    },
    {
      "cell_type": "code",
      "execution_count": null,
      "id": "bbf61e14-b4a5-4595-803b-9c5a52c185d6",
      "metadata": {
        "id": "bbf61e14-b4a5-4595-803b-9c5a52c185d6",
        "outputId": "78611b2b-4169-4057-8cf0-8ff56b6c856c"
      },
      "outputs": [
        {
          "name": "stdout",
          "output_type": "stream",
          "text": [
            "{'_id': ObjectId('67cc8e0714becb6d21ddb3e2'), 'Id': 538022, 'ProductId': 'B00447J1B4', 'UserId': 'AFO8FB74F8T1A', 'ProfileName': 'Gary Bourassa \"gary\"', 'HelpfulnessNumerator': 1, 'HelpfulnessDenominator': 1, 'Score': 5, 'Summary': 'great  great  great', 'Text': 'this product is great  and so is the company I had problem with the post office and they were right there to resolve the issue this is a great gift to yourself or to others', 'Date': '2012-01-11'} \n",
            "\n",
            "{'_id': ObjectId('67cc8db114becb6d21da55e1'), 'Id': 317326, 'ProductId': 'B006L71NXO', 'UserId': 'AFO8FB74F8T1A', 'ProfileName': 'Gary Bourassa \"gary\"', 'HelpfulnessNumerator': 1, 'HelpfulnessDenominator': 1, 'Score': 5, 'Summary': 'great  great  great', 'Text': 'this product is great  and so is the company I had problem with the post office and they were right there to resolve the issue this is a great gift to yourself or to others', 'Date': '2012-01-11'} \n",
            "\n",
            "{'_id': ObjectId('67cc8d6314becb6d21d7656b'), 'Id': 124680, 'ProductId': 'B006DHJW2Q', 'UserId': 'AFO8FB74F8T1A', 'ProfileName': 'Gary Bourassa \"gary\"', 'HelpfulnessNumerator': 1, 'HelpfulnessDenominator': 1, 'Score': 5, 'Summary': 'great  great  great', 'Text': 'this product is great  and so is the company I had problem with the post office and they were right there to resolve the issue this is a great gift to yourself or to others', 'Date': '2012-01-11'} \n",
            "\n",
            "{'_id': ObjectId('67cc8d3014becb6d21d58fd5'), 'Id': 4453, 'ProductId': 'B002YZESWU', 'UserId': 'AFO8FB74F8T1A', 'ProfileName': 'Gary Bourassa \"gary\"', 'HelpfulnessNumerator': 1, 'HelpfulnessDenominator': 1, 'Score': 5, 'Summary': 'great  great  great', 'Text': 'this product is great  and so is the company I had problem with the post office and they were right there to resolve the issue this is a great gift to yourself or to others', 'Date': '2012-01-11'} \n",
            "\n",
            "{'_id': ObjectId('67cc8db714becb6d21da941b'), 'Id': 333257, 'ProductId': 'B004S07G46', 'UserId': 'ALVJCD5NY28G4', 'ProfileName': 'Just a dude', 'HelpfulnessNumerator': 0, 'HelpfulnessDenominator': 0, 'Score': 5, 'Summary': 'Great Great Great!', 'Text': \"I'm usually not a fan of instant pasta, however, this one is great as far as I'm concerned.  It cooks fast in the container it is packaged in, is easy to eat with one fork, cleans up easily.  The sauce is great -- tangy hearty marinara that isn't too sweet and not too acidic.  I've tried many other shelf type past meals, and this sauce is the best.  The manicotti is tasty and fresh as well.  I keep one in my drawer at work as a back-up if I don't happen to get out for lunch during the day.  Sometimes though, I prefer this over many of the other food options nearby.  I notice that AMAZON is currently out of stock -- hope it doesn't stay that way!\", 'Date': '2012-05-06'} \n",
            "\n",
            "{'_id': ObjectId('67cc8d9814becb6d21d9625f'), 'Id': 254982, 'ProductId': 'B0012AOJ2C', 'UserId': 'A18IQMKLGKT1JJ', 'ProfileName': 'frogfood', 'HelpfulnessNumerator': 0, 'HelpfulnessDenominator': 1, 'Score': 5, 'Summary': 'GREAT', 'Text': 'THIS  IS A GREAT  PRODUCT, GREAT  SERVICE AND  GREAT AMAZON, YOU CANT  ASK FOR  MORE!great sea  weed, is  a great  medicine and  food', 'Date': '2012-02-26'} \n",
            "\n",
            "{'_id': ObjectId('67cc8df114becb6d21dcde70'), 'Id': 483372, 'ProductId': 'B0006Z7NOK', 'UserId': 'A1XLOUCBXCHB7R', 'ProfileName': 'Kevin Salinas', 'HelpfulnessNumerator': 0, 'HelpfulnessDenominator': 1, 'Score': 5, 'Summary': 'great price, great shipping, great tasting.', 'Text': 'simple. its great price, great shipping, great tasting.If your going to get ACV this is the one to get and this is the buy to get it from!', 'Date': '2010-08-19'} \n",
            "\n",
            "{'_id': ObjectId('67cc8e0414becb6d21dd9bbc'), 'Id': 531840, 'ProductId': 'B005K4Q34S', 'UserId': 'A1P9W8TAEHO4DF', 'ProfileName': 'Nana', 'HelpfulnessNumerator': 0, 'HelpfulnessDenominator': 0, 'Score': 5, 'Summary': 'Great taste, great price', 'Text': 'Looking for great coffee at a great price?  This is it. K-cups are expensive but this coffee is great tasting at a great price when purchased from Amazon', 'Date': '2012-02-23'} \n",
            "\n",
            "{'_id': ObjectId('67cc8df314becb6d21dcf3dd'), 'Id': 488859, 'ProductId': 'B005K4Q1YA', 'UserId': 'A1P9W8TAEHO4DF', 'ProfileName': 'Nana', 'HelpfulnessNumerator': 0, 'HelpfulnessDenominator': 0, 'Score': 5, 'Summary': 'Great taste, great price', 'Text': 'Looking for great coffee at a great price?  This is it. K-cups are expensive but this coffee is great tasting at a great price when purchased from Amazon', 'Date': '2012-02-23'} \n",
            "\n",
            "{'_id': ObjectId('67cc8dd214becb6d21dbae2b'), 'Id': 405476, 'ProductId': 'B005K4Q4LK', 'UserId': 'A1P9W8TAEHO4DF', 'ProfileName': 'Nana', 'HelpfulnessNumerator': 0, 'HelpfulnessDenominator': 0, 'Score': 5, 'Summary': 'Great taste, great price', 'Text': 'Looking for great coffee at a great price?  This is it. K-cups are expensive but this coffee is great tasting at a great price when purchased from Amazon', 'Date': '2012-02-23'} \n",
            "\n"
          ]
        }
      ],
      "source": [
        "#Query 1\n",
        "#Search Type: Basic Search\n",
        "#Search Query: Finding reviews that contains \"great\".\n",
        "query1 = {\"$text\": {\"$search\": \"great\"}}\n",
        "\n",
        "results = collection.find(query1).limit(10)   #Limiting the results to the first 10 documents\n",
        "for doc in results:\n",
        "    print(doc,\"\\n\")"
      ]
    },
    {
      "cell_type": "code",
      "execution_count": null,
      "id": "175a2cf9-a435-4969-9fd5-2629d655bc62",
      "metadata": {
        "id": "175a2cf9-a435-4969-9fd5-2629d655bc62",
        "outputId": "00323ccb-b4b1-406a-e320-6b934fec8a92"
      },
      "outputs": [
        {
          "name": "stdout",
          "output_type": "stream",
          "text": [
            "{'_id': ObjectId('67cc8d3214becb6d21d5a557'), 'Id': 9959, 'ProductId': 'B001CGTN1I', 'UserId': 'A3JK1C09AKE1I0', 'ProfileName': 'Aaron M.', 'HelpfulnessNumerator': 0, 'HelpfulnessDenominator': 0, 'Score': 5, 'Summary': 'Excellent Quality, Excellent Service', 'Text': 'Title says it all, a Excellent quality product and Excellent service at a fair price. Product came ahead of time and as expected.', 'Date': '2012-06-21'} \n",
            "\n",
            "{'_id': ObjectId('67cc8d6d14becb6d21d7c5d8'), 'Id': 149367, 'ProductId': 'B0049YNXDY', 'UserId': 'A2IOF9G61B01HQ', 'ProfileName': 'Gerald Ostheimer', 'HelpfulnessNumerator': 1, 'HelpfulnessDenominator': 1, 'Score': 5, 'Summary': 'excellent quality, excellent price', 'Text': 'Excellent quality, excellent price. No hope to match this locally. We got a few storage canisters from the dollar store to keep the flour safe from light, air, and bugs while we work through it.', 'Date': '2012-06-09'} \n",
            "\n",
            "{'_id': ObjectId('67cc8db714becb6d21da92be'), 'Id': 332908, 'ProductId': 'B0001VAFGW', 'UserId': 'AQI418NDK5GF3', 'ProfileName': 'cargeek', 'HelpfulnessNumerator': 0, 'HelpfulnessDenominator': 0, 'Score': 5, 'Summary': 'Excellent', 'Text': 'Had the variety pack; all of them were excellent; excellent quality, texture and flavor. Very chewy and jerky-like in texture.', 'Date': '2011-12-27'} \n",
            "\n",
            "{'_id': ObjectId('67cc8d7214becb6d21d7ed67'), 'Id': 159495, 'ProductId': 'B001HN5RWU', 'UserId': 'A1RA3KJLIM8HU8', 'ProfileName': 'Clifton Taylor \"digital taylor\"', 'HelpfulnessNumerator': 2, 'HelpfulnessDenominator': 4, 'Score': 5, 'Summary': 'EXCELLENT!!!', 'Text': \"These seeds exceeded my expectation in quality and packaging. I signed up for the auto ship program which saved me 15% off the price. I was buying organic pumpkin seeds from my local health food store which was costing me over $7/lb. after taxes. These Woodstock Farms organic pumpkin seeds are costing me $5.30/lb. Being an Amazon Prime member ($79/yr., I do a lot of shopping on amazon.com), I get 2 day free. I just recently added pumpkin seeds to my daily diet for it's health benefits and I must say this is an excellent product at an excellent price!!!\", 'Date': '2011-02-19'} \n",
            "\n",
            "{'_id': ObjectId('67cc8dec14becb6d21dca7cf'), 'Id': 469387, 'ProductId': 'B004YWTGXW', 'UserId': 'AAYY4J7RV88NA', 'ProfileName': 'Bax', 'HelpfulnessNumerator': 0, 'HelpfulnessDenominator': 0, 'Score': 5, 'Summary': 'Excellent', 'Text': \"I ordered four boxes of these for mothers day (don't ask) at the last minute.  I called to verify that the berries would ship even before they had my order from Amazon.  They called back promptly once they got the order (this must have been the busiest day of the year for them).  they shipped quicker than advertised to make sure they would arrive on time.  Excellent customer service.<br /><br />The berries were well packed, double boxed with foam with cold pack and gorgeous.  The inside box was giftable without wrapping. Someone else brought berries from godiva and the quality was about even. I snitched one just so I could write a review.<br />Excellent.\", 'Date': '2012-05-21'} \n",
            "\n",
            "{'_id': ObjectId('67cc8d8a14becb6d21d8d630'), 'Id': 219094, 'ProductId': 'B0018CIP10', 'UserId': 'A241HDIOHZJRBR', 'ProfileName': 'K. Gardner \"Think occasionally of the sufferi...', 'HelpfulnessNumerator': 0, 'HelpfulnessDenominator': 0, 'Score': 5, 'Summary': 'Excellent Quality, Excellent Value, Dogs Love It', 'Text': \"I switched to CSFDLS dry food a couple months ago with excellent results on lessening both the amount of food I need to feed my two bulldogs, as well as the amount of gas and loose stools they have. I continued to top their dry food with a little bit of canned each day. I have just received my first shipment of Chicken Soup Canned, and my dogs have gone nuts over this stuff. It smells heavenly, the ingredients are top quality, and I think we're probably now a 100% Chicken Soup Brand family. For 24 cans, this is an excellent value for a top quality product.<br /><br />For the record, I had no issues with dented or damaged cans. It arrived in the original case, packed tightly with plastic, and then the case enclosed in a cardboard box.\", 'Date': '2012-03-27'} \n",
            "\n",
            "{'_id': ObjectId('67cc8d6114becb6d21d753ba'), 'Id': 120150, 'ProductId': 'B000EDM7BI', 'UserId': 'A4P04ELJ3W8CG', 'ProfileName': 'Antonio', 'HelpfulnessNumerator': 5, 'HelpfulnessDenominator': 6, 'Score': 5, 'Summary': 'Excellent Excellent Excellent', 'Text': 'I ground these with the Messerschmidt grain mill attachment for my Kitchen Aid (no oiliness issue) and I couldn\\'t be happier with the results.  Our poppy seed rolls were some of the best we\\'ve ever baked.  The seeds were fresh.  Not bitter.  And because we tend to bake \"low sugar\", the flavor of the seeds really ... dare I say, \"popped!\"  Thank you for your quality product.', 'Date': '2011-12-22'} \n",
            "\n",
            "{'_id': ObjectId('67cc8d9414becb6d21d93a12'), 'Id': 244665, 'ProductId': 'B000F3WSAC', 'UserId': 'A1U9ZT7CNT1CZY', 'ProfileName': 'S. Winsor \"Trekker\"', 'HelpfulnessNumerator': 0, 'HelpfulnessDenominator': 0, 'Score': 5, 'Summary': 'Excellent tea', 'Text': 'I use to buy Twinnings Lapsang Souchong loose tea. Unfortunately, Twinnings has decided to stop exporting this tea. Needed to find a replacement that was of like quality. Found Taylors of Harrogate and discovered that this tea is excellent. Lapsang Souchong tea is an excellent tea for after dinner or in the evening. Love the rich,smokey taste. This is an excellent replacement for Twinnings and the price on Amazon is very good.', 'Date': '2012-08-09'} \n",
            "\n",
            "{'_id': ObjectId('67cc8d5c14becb6d21d71d46'), 'Id': 106208, 'ProductId': 'B000RHUW4K', 'UserId': 'A1RHS2BI2SQF8R', 'ProfileName': 'Dog Lover', 'HelpfulnessNumerator': 0, 'HelpfulnessDenominator': 0, 'Score': 5, 'Summary': 'Excellent product, excellent price', 'Text': 'This is an excellent quality product at a price that is much better than can be obtained at most grocery stores.  Nuff said.', 'Date': '2009-09-04'} \n",
            "\n",
            "{'_id': ObjectId('67cc8d5a14becb6d21d70519'), 'Id': 100017, 'ProductId': 'B000LQORDE', 'UserId': 'A3PIHY8BD4AF7D', 'ProfileName': 'NoseDaddy', 'HelpfulnessNumerator': 0, 'HelpfulnessDenominator': 2, 'Score': 5, 'Summary': 'Excellent Noodles', 'Text': 'These are excellent inexpensive noodles but they are quite salty for someone who rarely adds salt to food, even when cooking, as I do!  They are more expensive than grocery store Ramen and taste a good deal better but seem to have about the same destructive amounts of salt- 2020 mg or about 80% daily salt intake/bag which claims to be 2 servings but I assume that most adults would consume the lot unless using this as only part of a meal rather than a quick comfort food.  Other reviews alerted me to this and following their recommendation, I only used 1/2 the soup base package.  I added some dehydrated green onions and dried oinions when preparing on the stovetop and added a fresh egg, covering it with the noodles after removing from the heat.  This had excellent flavor and with half of the salt, I did not feel like my blood pressure would be so imperiled as I had used the whole soup packet.  I like and regularly consume very spicy food (I frequently consume 4-5 jalapenos with a meal) but as prepared it was quite delicious and spicy enough.<br />  There are other brands of noodles that I frequently buy from Amazon <a href=\"http://www.amazon.com/gp/product/B002BCE97K\">Annie Chun\\'s Korean Sweet Chili Noodle Bowl, 8.4-Ounce Units (Pack of 6)</a> that I relish but the salt is still high and the price is somewhat higher.  I will alternate varieties in the future.  I only eat Asian Noodles no more than once a week since I do have some sodium issues.<br />  I am on disability and do not get out often from my house in the country so I have tried many of the long shelf life foods that Amazon sells.  They sell many dehydrated vegetables in medium sized quantities that make them easy to have on hand and still be way cheaper than grocery store prices.  I even found some non refrigerated tofu <a href=\"http://www.amazon.com/gp/product/B000LKTY7Y\">Mori-Nu Tofu, Lite, Silken, Firm, 12.3-Ounce Boxes (Pack of 12)</a> that I have received but not yet tried.  The customer reviews claim that it is excellent quality and it is actually cheaper than the fresh brand offered in the local grocery.  I expect to add some to my next bowl of noodles and the soups that I frequently make from scratch.', 'Date': '2010-06-08'} \n",
            "\n"
          ]
        }
      ],
      "source": [
        "#Query 2a\n",
        "#Search Type: Multi-Word Search\n",
        "#Search Query: Finding reviews that contains both \"excellent\" and \"quality\"\n",
        "\n",
        "query2 = {\"$text\": {\"$search\": \"\\\"excellent\\\" \\\"quality\\\"\", \"$caseSensitive\": False}} #This will return documents containing both \"excellent\" and \"quality\" irrespective of their positions\n",
        "\n",
        "results = collection.find(query2).limit(10)\n",
        "\n",
        "for doc in results:\n",
        "    print(doc, \"\\n\")"
      ]
    },
    {
      "cell_type": "code",
      "execution_count": null,
      "id": "e9a2f4f1-1649-4f90-92ad-c967c7c5e5fe",
      "metadata": {
        "id": "e9a2f4f1-1649-4f90-92ad-c967c7c5e5fe",
        "outputId": "0f1ca83b-9838-4560-9419-6fb3f462ba47"
      },
      "outputs": [
        {
          "name": "stdout",
          "output_type": "stream",
          "text": [
            "{'_id': ObjectId('67cc8d3214becb6d21d5a557'), 'Id': 9959, 'ProductId': 'B001CGTN1I', 'UserId': 'A3JK1C09AKE1I0', 'ProfileName': 'Aaron M.', 'HelpfulnessNumerator': 0, 'HelpfulnessDenominator': 0, 'Score': 5, 'Summary': 'Excellent Quality, Excellent Service', 'Text': 'Title says it all, a Excellent quality product and Excellent service at a fair price. Product came ahead of time and as expected.', 'Date': '2012-06-21'} \n",
            "\n",
            "{'_id': ObjectId('67cc8d6d14becb6d21d7c5d8'), 'Id': 149367, 'ProductId': 'B0049YNXDY', 'UserId': 'A2IOF9G61B01HQ', 'ProfileName': 'Gerald Ostheimer', 'HelpfulnessNumerator': 1, 'HelpfulnessDenominator': 1, 'Score': 5, 'Summary': 'excellent quality, excellent price', 'Text': 'Excellent quality, excellent price. No hope to match this locally. We got a few storage canisters from the dollar store to keep the flour safe from light, air, and bugs while we work through it.', 'Date': '2012-06-09'} \n",
            "\n",
            "{'_id': ObjectId('67cc8db714becb6d21da92be'), 'Id': 332908, 'ProductId': 'B0001VAFGW', 'UserId': 'AQI418NDK5GF3', 'ProfileName': 'cargeek', 'HelpfulnessNumerator': 0, 'HelpfulnessDenominator': 0, 'Score': 5, 'Summary': 'Excellent', 'Text': 'Had the variety pack; all of them were excellent; excellent quality, texture and flavor. Very chewy and jerky-like in texture.', 'Date': '2011-12-27'} \n",
            "\n",
            "{'_id': ObjectId('67cc8d8a14becb6d21d8d630'), 'Id': 219094, 'ProductId': 'B0018CIP10', 'UserId': 'A241HDIOHZJRBR', 'ProfileName': 'K. Gardner \"Think occasionally of the sufferi...', 'HelpfulnessNumerator': 0, 'HelpfulnessDenominator': 0, 'Score': 5, 'Summary': 'Excellent Quality, Excellent Value, Dogs Love It', 'Text': \"I switched to CSFDLS dry food a couple months ago with excellent results on lessening both the amount of food I need to feed my two bulldogs, as well as the amount of gas and loose stools they have. I continued to top their dry food with a little bit of canned each day. I have just received my first shipment of Chicken Soup Canned, and my dogs have gone nuts over this stuff. It smells heavenly, the ingredients are top quality, and I think we're probably now a 100% Chicken Soup Brand family. For 24 cans, this is an excellent value for a top quality product.<br /><br />For the record, I had no issues with dented or damaged cans. It arrived in the original case, packed tightly with plastic, and then the case enclosed in a cardboard box.\", 'Date': '2012-03-27'} \n",
            "\n",
            "{'_id': ObjectId('67cc8d5c14becb6d21d71d46'), 'Id': 106208, 'ProductId': 'B000RHUW4K', 'UserId': 'A1RHS2BI2SQF8R', 'ProfileName': 'Dog Lover', 'HelpfulnessNumerator': 0, 'HelpfulnessDenominator': 0, 'Score': 5, 'Summary': 'Excellent product, excellent price', 'Text': 'This is an excellent quality product at a price that is much better than can be obtained at most grocery stores.  Nuff said.', 'Date': '2009-09-04'} \n",
            "\n",
            "{'_id': ObjectId('67cc8d5a14becb6d21d70519'), 'Id': 100017, 'ProductId': 'B000LQORDE', 'UserId': 'A3PIHY8BD4AF7D', 'ProfileName': 'NoseDaddy', 'HelpfulnessNumerator': 0, 'HelpfulnessDenominator': 2, 'Score': 5, 'Summary': 'Excellent Noodles', 'Text': 'These are excellent inexpensive noodles but they are quite salty for someone who rarely adds salt to food, even when cooking, as I do!  They are more expensive than grocery store Ramen and taste a good deal better but seem to have about the same destructive amounts of salt- 2020 mg or about 80% daily salt intake/bag which claims to be 2 servings but I assume that most adults would consume the lot unless using this as only part of a meal rather than a quick comfort food.  Other reviews alerted me to this and following their recommendation, I only used 1/2 the soup base package.  I added some dehydrated green onions and dried oinions when preparing on the stovetop and added a fresh egg, covering it with the noodles after removing from the heat.  This had excellent flavor and with half of the salt, I did not feel like my blood pressure would be so imperiled as I had used the whole soup packet.  I like and regularly consume very spicy food (I frequently consume 4-5 jalapenos with a meal) but as prepared it was quite delicious and spicy enough.<br />  There are other brands of noodles that I frequently buy from Amazon <a href=\"http://www.amazon.com/gp/product/B002BCE97K\">Annie Chun\\'s Korean Sweet Chili Noodle Bowl, 8.4-Ounce Units (Pack of 6)</a> that I relish but the salt is still high and the price is somewhat higher.  I will alternate varieties in the future.  I only eat Asian Noodles no more than once a week since I do have some sodium issues.<br />  I am on disability and do not get out often from my house in the country so I have tried many of the long shelf life foods that Amazon sells.  They sell many dehydrated vegetables in medium sized quantities that make them easy to have on hand and still be way cheaper than grocery store prices.  I even found some non refrigerated tofu <a href=\"http://www.amazon.com/gp/product/B000LKTY7Y\">Mori-Nu Tofu, Lite, Silken, Firm, 12.3-Ounce Boxes (Pack of 12)</a> that I have received but not yet tried.  The customer reviews claim that it is excellent quality and it is actually cheaper than the fresh brand offered in the local grocery.  I expect to add some to my next bowl of noodles and the soups that I frequently make from scratch.', 'Date': '2010-06-08'} \n",
            "\n",
            "{'_id': ObjectId('67cc8e0814becb6d21ddbeac'), 'Id': 540784, 'ProductId': 'B000RHVEJ2', 'UserId': 'A3MK5YGK18COFO', 'ProfileName': 'Ralph Cordaro \"Basso Profundo\"', 'HelpfulnessNumerator': 0, 'HelpfulnessDenominator': 0, 'Score': 5, 'Summary': 'Excellent Anchos', 'Text': 'Found the product to be of excellent quality. Good, full sized anchos that make an excellent red sauce.', 'Date': '2009-04-04'} \n",
            "\n",
            "{'_id': ObjectId('67cc8d9f14becb6d21d9a102'), 'Id': 271018, 'ProductId': 'B0075ALVJM', 'UserId': 'A2CL818RN52NWN', 'ProfileName': 'stewart  L', 'HelpfulnessNumerator': 29, 'HelpfulnessDenominator': 30, 'Score': 5, 'Summary': 'These are excellent authentic cheeses from italy.', 'Text': 'We just tried this excellent cheese sampler package...The quality is superb,  and i have just ordered their 4 pound package...The cheeses are of excellent quality..You cant go wrong...An excellent buy..5 star rated.', 'Date': '2005-11-24'} \n",
            "\n",
            "{'_id': ObjectId('67cc8dd114becb6d21dba252'), 'Id': 402443, 'ProductId': 'B0014J5Y3E', 'UserId': 'ARJTKJAN5K352', 'ProfileName': 'Nick Ware', 'HelpfulnessNumerator': 0, 'HelpfulnessDenominator': 0, 'Score': 5, 'Summary': 'Excellent Value', 'Text': \"Excellent quality product, and excellent value! There is a good mix of flavors, and they last as expected. Don't expect them to last as long as Extra, but if you are into true bubble gumballs, look no further. When I need to refill I will be back for more.\", 'Date': '2011-09-19'} \n",
            "\n",
            "{'_id': ObjectId('67cc8da214becb6d21d9c8c4'), 'Id': 281196, 'ProductId': 'B0030F04X0', 'UserId': 'A29IPF6KF8D5YW', 'ProfileName': 'It\\'s Giovanni \"Gio\"', 'HelpfulnessNumerator': 0, 'HelpfulnessDenominator': 0, 'Score': 5, 'Summary': 'Excellent Tuna', 'Text': \"Legendary Chicken of the Sea quality continues. I like tuna and their quality converted me over from another brand and I'm eating more tuna in a healthier diet. Excellent quality at an excellent price. You can't go wrong. I highly recommend this brand.\", 'Date': '2011-05-21'} \n",
            "\n"
          ]
        }
      ],
      "source": [
        "#Query 2b\n",
        "#Search Type: Multi-Word Search\n",
        "#Search Query: Finding reviews that contains both \"excellent\" and \"quality\"\n",
        "#Note: The two words must be together like this \"excellent quality\"\n",
        "\n",
        "query2 = {\"$text\": {\"$search\": \"\\\"excellent quality\\\"\", \"$caseSensitive\": False}} #This will return documents containing \"excellent quality\" in this order\n",
        "results = collection.find(query2).limit(10)\n",
        "\n",
        "for doc in results:\n",
        "    print(doc, \"\\n\")"
      ]
    },
    {
      "cell_type": "code",
      "execution_count": null,
      "id": "834de3c7-ae5c-4209-bdd7-1c23eb995696",
      "metadata": {
        "id": "834de3c7-ae5c-4209-bdd7-1c23eb995696",
        "outputId": "ffac8bf4-01d5-4c1d-fe82-655b1e6a2230"
      },
      "outputs": [
        {
          "name": "stdout",
          "output_type": "stream",
          "text": [
            "{'_id': ObjectId('67cc8db414becb6d21da798a'), 'Id': 326455, 'ProductId': 'B002AQ0OW6', 'UserId': 'A39J7ZLBA6YLUS', 'ProfileName': 'Dr. John K. Fong \"arts fan\"', 'HelpfulnessNumerator': 0, 'HelpfulnessDenominator': 0, 'Score': 5, 'Summary': 'excellent price,excellent product', 'Text': 'Excellent coffee at an excellent price.  The ease in dealing with making a simple cup of coffee, an excellent cup of coffee, is made simple with<br />this product.  Hurrah.', 'Date': '2012-03-06'} \n",
            "\n",
            "{'_id': ObjectId('67cc8d2f14becb6d21d5878d'), 'Id': 2333, 'ProductId': 'B000E5C1YE', 'UserId': 'A2FUCWDBN80VLW', 'ProfileName': 'abu nawaf', 'HelpfulnessNumerator': 0, 'HelpfulnessDenominator': 1, 'Score': 5, 'Summary': 'Excellent', 'Text': 'It is very very good sweets<br />Amazon always is excellent<br />Amazon always is excellent<br />Amazon always is excellent<br />Amazon always is excellent', 'Date': '2011-12-09'} \n",
            "\n",
            "{'_id': ObjectId('67cc8d4e14becb6d21d69d8f'), 'Id': 73511, 'ProductId': 'B00125NFXQ', 'UserId': 'AMDH9WZHBLCDB', 'ProfileName': 'RETIRED FOR GOOD \"TJ the Grouch\"', 'HelpfulnessNumerator': 0, 'HelpfulnessDenominator': 2, 'Score': 5, 'Summary': 'EXCELLENT!!', 'Text': \"Excellent price, excellent product, and excellent service from ReStockit.  Life doesn't get much better than that.\", 'Date': '2010-10-12'} \n",
            "\n",
            "{'_id': ObjectId('67cc8d3414becb6d21d5b9ce'), 'Id': 15199, 'ProductId': 'B000HALT80', 'UserId': 'A7OXHTH1SOQJB', 'ProfileName': 'Zoey', 'HelpfulnessNumerator': 0, 'HelpfulnessDenominator': 1, 'Score': 5, 'Summary': 'Excellent food and excellent value', 'Text': 'Excellent cat food for mature cats and an excellent value.  For $1 more you get twice as much as buying it at a pet store.', 'Date': '2012-06-25'} \n",
            "\n",
            "{'_id': ObjectId('67cc8d3214becb6d21d5a557'), 'Id': 9959, 'ProductId': 'B001CGTN1I', 'UserId': 'A3JK1C09AKE1I0', 'ProfileName': 'Aaron M.', 'HelpfulnessNumerator': 0, 'HelpfulnessDenominator': 0, 'Score': 5, 'Summary': 'Excellent Quality, Excellent Service', 'Text': 'Title says it all, a Excellent quality product and Excellent service at a fair price. Product came ahead of time and as expected.', 'Date': '2012-06-21'} \n",
            "\n",
            "{'_id': ObjectId('67cc8d2f14becb6d21d5878e'), 'Id': 2334, 'ProductId': 'B000E5C1YE', 'UserId': 'A19Q0MCRKVCC45', 'ProfileName': 'A7la-1', 'HelpfulnessNumerator': 0, 'HelpfulnessDenominator': 1, 'Score': 5, 'Summary': 'Excellent', 'Text': 'Excellent shipment and product as well , looking forward to purchase again , thanks<br />Excellent shipment and product as well , looking forward to purchase again , thanks<br />Excellent shipment and product as well , looking forward to purchase again , thanks', 'Date': '2011-11-17'} \n",
            "\n",
            "{'_id': ObjectId('67cc8d3e14becb6d21d6131e'), 'Id': 38065, 'ProductId': 'B000ZE9NM2', 'UserId': 'AHYRTWABDAG1H', 'ProfileName': 'E. Thomsen \"arvig\"', 'HelpfulnessNumerator': 7, 'HelpfulnessDenominator': 8, 'Score': 5, 'Summary': 'An excellent product with excellent customer service', 'Text': 'I have just placed my third order for finishing salt from Das Salt.  Ms. Das provides an excellent product that I find myself using time and again in much of my cooking.  I am far from a gourmet chef, but I do like to experiment with different spices and flavors from time to time, and her salts do often add just a bit of subtle flavor that helps just about any meal.  Finally, with my first two orders and I\\'m sure my third I just placed, customer service has been excellent.  Each time a card or invoice signed by Ms. Das has been included, along with a sample of another product she sells under the \"Das Food\" line, like some of her caramels.  Packaging is always excellent too, the jars are well protected without using excess packaging.  This is a product I fully recommend if one is looking for a gourmet finishing salt.', 'Date': '2009-05-06'} \n",
            "\n",
            "{'_id': ObjectId('67cc8d6d14becb6d21d7c5d8'), 'Id': 149367, 'ProductId': 'B0049YNXDY', 'UserId': 'A2IOF9G61B01HQ', 'ProfileName': 'Gerald Ostheimer', 'HelpfulnessNumerator': 1, 'HelpfulnessDenominator': 1, 'Score': 5, 'Summary': 'excellent quality, excellent price', 'Text': 'Excellent quality, excellent price. No hope to match this locally. We got a few storage canisters from the dollar store to keep the flour safe from light, air, and bugs while we work through it.', 'Date': '2012-06-09'} \n",
            "\n",
            "{'_id': ObjectId('67cc8df214becb6d21dce936'), 'Id': 486131, 'ProductId': 'B00008CQVA', 'UserId': 'A2E3W1RE8MW2N1', 'ProfileName': 'Sundancer', 'HelpfulnessNumerator': 2, 'HelpfulnessDenominator': 2, 'Score': 5, 'Summary': 'excellent service, excellent product', 'Text': 'Received order as advertised, everything was in excellent condition.<br />My cat Mandy is 19 years old and in excellent health, many thanks to Wellness no grain cat foods.', 'Date': '2012-03-24'} \n",
            "\n",
            "{'_id': ObjectId('67cc8ddf14becb6d21dc29cf'), 'Id': 437129, 'ProductId': 'B000WFPJIG', 'UserId': 'A2E3W1RE8MW2N1', 'ProfileName': 'Sundancer', 'HelpfulnessNumerator': 2, 'HelpfulnessDenominator': 2, 'Score': 5, 'Summary': 'excellent service, excellent product', 'Text': 'Received order as advertised, everything was in excellent condition.<br />My cat Mandy is 19 years old and in excellent health, many thanks to Wellness no grain cat foods.', 'Date': '2012-03-24'} \n",
            "\n"
          ]
        }
      ],
      "source": [
        "#Query 2c\n",
        "#Search Type: Multi-Word Search\n",
        "#Search Query: Finding reviews that contains either \"excellent\" or \"quality\" or both\n",
        "\n",
        "query2 = {\"$text\": {\"$search\": \"excellent quality\"}}\n",
        "\n",
        "results = collection.find(query2).limit(10)\n",
        "\n",
        "for doc in results:\n",
        "    print(doc, \"\\n\")"
      ]
    },
    {
      "cell_type": "code",
      "execution_count": null,
      "id": "cab2aaee-cff7-4eaa-b234-78ec9de97f1b",
      "metadata": {
        "id": "cab2aaee-cff7-4eaa-b234-78ec9de97f1b",
        "outputId": "997e4ace-b7a4-4b2f-b855-f69c47685630"
      },
      "outputs": [
        {
          "name": "stdout",
          "output_type": "stream",
          "text": [
            "{'_id': ObjectId('67cc8dda14becb6d21dbf4e3'), 'Id': 423580, 'ProductId': 'B007JBO41E', 'UserId': 'A3OXHLG6DIBRW8', 'ProfileName': 'C. F. Hill \"CFH\"', 'HelpfulnessNumerator': 2, 'HelpfulnessDenominator': 2, 'Score': 5, 'Summary': 'Great Selection of High End Jelly Beans - Highly Recommended', 'Text': 'This David\\'s Signature \"Beyond Gourmet Jelly Beans Flavor Sampler\" contains an eclectic mix of delicious jelly beans. These flavors are from David Klein, the creator of the famous \"Jelly Belly\" jelly beans, so I was thrilled to be offered this sampler to review since my family loves jelly beans. Here are my opinions of the included flavors, in order of my favorites:<br /><br />* Coconut - Very strong natural coconut flavor, my favorite one<br />* Vanilla Bean - Very good tasting, natural vanilla flavor<br />* Pomegranate - Totally nailed this one! So good!<br />* Ginger - Crisp natural ginger flavor, every bit as good as the fresh ginger candy we get locally<br />* Cranberry - Really very good and natural tasting<br />* Root Beer - Amazing, can almost feel the fizz!<br />* Green Apple - So good! Very natural apple flavor!<br />* Peach - Very good juicy peach flavor<br />* Strawberry - Very good, reminds me of strawberry and cream<br />* Lemon - A little milder than expected, very good \"clean\" flavor<br />* Black Cherry - Very natural tasting but a tad bit over sweet<br />* Grape - Great grape flavor, not quite as strong as expected<br />* Orange Punch - Good flavor, not overpowering<br />* Blueberry - Good, but somewhat understated<br />* Himalayan Sea Salt - Very odd choice for a jelly bean, but it is a surprisingly enjoyable flavor<br />* Bacon - Does indeed taste like sweet smokey bacon, a fun novelty flavor but not one I\\'m going to eat all the time<br /><br />My list of favorites differs a little in order from other members of my family, as might be expected since everyone has different tastes, but every one of these rates higher than any other manufacturers similar jelly bean flavor we have tried. Combining some of these flavors is also fun with ginger and lemon being my favorite, producing a very clean and refreshing sensation.<br /><br />I also really like that these jelly beans are made with 100% natural flavors and colors, and includes an impressive list of fruit concentrates fairly high up in ingredients list.<br /><br />Highly Recommended!<br /><br />CFH', 'Date': '2012-03-23'} \n",
            "\n",
            "{'_id': ObjectId('67cc8df114becb6d21dce534'), 'Id': 485105, 'ProductId': 'B000F7A5X0', 'UserId': 'A22IFF43YU0HP6', 'ProfileName': 'C. Gentry', 'HelpfulnessNumerator': 1, 'HelpfulnessDenominator': 1, 'Score': 5, 'Summary': 'Highly Recommended!', 'Text': 'Innova Evo Cat and Kitten food is one of the best wet foods on the market without question. Both of my cats love the taste of this product. Add the high protein to the grain-free ingredients list and you have a winner. Highly recommended!', 'Date': '2010-02-12'} \n",
            "\n",
            "{'_id': ObjectId('67cc8d4914becb6d21d67588'), 'Id': 63263, 'ProductId': 'B0019ZB4KA', 'UserId': 'A33S9I5SWVY7SG', 'ProfileName': 'KittyRescueCrazy', 'HelpfulnessNumerator': 16, 'HelpfulnessDenominator': 16, 'Score': 5, 'Summary': \"High Quality Cat Food- can't beat $26+Free Shipping!\", 'Text': 'PROS:- High Quality Nutritious Cat food, Easily Digestable= less litterbox waste  Helps with Urinary & Constipation/Bowel/Allergy Related Issues, Human Grade Ingredients, Non Allergenic, No Fillers, Good Flavors- even for finicky cats. So even though it\\'s a bit more to pay up front, it actually saves $$ in the long run in the form of healthier cats (most important), less food eaten & less litter used.<br /><br />CONS: Definitely a bit expensive but I bought it for $25.97 w/ Free Shipping through Petco on Amazon.com so I felt that was a very good value!! I will stock up when it is at that price for sure!<br /><br />TIP:- I actually WET THIS FOOD DOWN quite a bit, to a thick spaghetti sauce consistency. It\\'s actually better for the cats b/c it increases their water intake which they desperately need since their thirst drive is so low. That helps prevent & control Urinary Issues such as: crystals, etc. ALL of my cats actually PREFER it this wetter way & it makes the can go a longer ways too, so more value!<br /><br /> I do cat rescue/fostering on occasion & this food has helped me nurse sick cats & kittens to health. The food is highly nutritious & easily digestable, therefore helping stomach & bowel ailments improve. I  also have a cat w/ chronic acid reflux disease & one prone to urinary crystals & this helps keep those conditions under control. Also my sister\\'s cat who was always snorty & snotty w/ allergies got completely better after being on this food, I believe due to no grain being used in this product.<br /> A good way to see how digestable a wet food is  to wet it down w/ water, it should easily dissolve in. A bad food will be chunky & hard to dissolve in water. Just think how it will act on a cat\\'s stomach! A lot of low quality cheap foods will just sit in the cat\\'s stomach, not absorbing any nutrients into the body & then it just comes out as smelly poop!  Also, because they are getting less nutrients, the cats will EAT MORE therefore costing more $ in food, more litterbox waste cuz it goes right through them. I actually have less litterbox waste when I use Wellness & the cats eat less cuz they are more full.<br /><br /> After the pet food contamination scare in 2007, I really educated my self on what actually is in pet food & boy was I freaked out. I used to buy Science Diet thinking it was good for my pets but the ingredients are not species appropriate or high quality AT ALL. Veterinarians are generally extremely undereducated in animal nutrition, and they generally tout the food from the company that sponsors their schooling or otherwise they have a vested financial interest in. After having my cats be on medicines & \"special vet diets\" that did little to help, I switched to high quality cat foods, Wellness being one of them and my cats are thriving and some of them have gone off their meds completely. I HIGHLY recommended the Wellness brand, I have seen a HUGE difference in my own cats as well as the cats I rescue. PLEASE, PLEASE EDUCATE YOURSELF ON WHAT IS REALLY IN MOST PET FOOD AND YOU WILL SEE WHY WELLNESS IS AN EXCELLENT CHOICE.', 'Date': '2010-03-12'} \n",
            "\n",
            "{'_id': ObjectId('67cc8def14becb6d21dccc52'), 'Id': 478734, 'ProductId': 'B00269DHTY', 'UserId': 'ATLZNVLYKP9AZ', 'ProfileName': 'T. Fisher', 'HelpfulnessNumerator': 3, 'HelpfulnessDenominator': 3, 'Score': 4, 'Summary': 'High-impact berry flavor', 'Text': 'I love all varieties Dorset Cereals, which are quite simply the best mueslis I have ever eaten. This mix is no exception. What sets this variety apart is the cranberries, which give the cereal a strong tangy overtone. The cherries and cranberries are relatively small in the ingredient mix but are big on the overall flavor.<br /><br />With 50% total fruits, nuts and seeds, this is a dense, high-flavor muesli with no added sugars. It is not my favorite variety among Dorset Cereals, since I generally prefer nutty mueslis to highly fruity ones. I actually prefer the <a href=\"http://www.amazon.com/gp/product/B00269FEIG\">Simply Delicious</a> variety, which has just 30% fruits, nuts and seeds and a more earthy flavor. But all varieties of Dorset Cereals have a spot on my shopping list, and this one makes for a welcome change of pace.<br /><br />Highly recommended! You can\\'t go wrong with a Dorset Cereals products, and if you prefer a strongly fruity muesli, you will absolutely love this one.', 'Date': '2010-04-18'} \n",
            "\n",
            "{'_id': ObjectId('67cc8d6e14becb6d21d7c748'), 'Id': 149735, 'ProductId': 'B004X8W2AG', 'UserId': 'A23P5BO1UGNIRR', 'ProfileName': 'bunnybutt', 'HelpfulnessNumerator': 4, 'HelpfulnessDenominator': 4, 'Score': 5, 'Summary': 'very high quality', 'Text': 'Having tried the hard red from Great River Organic for my breads, I was a convert.  I live in the city but grind my own grain, and there is a noticeable difference in the flavor/ results of the recipes made from the fresh flour. I highly recommend this soft white winter wheat for your tender crumb recipes such as pie crusts, waffles or cakes, or any recipe where you want to minimize the \"chew\" factor you would get from higher protein flours.  The wheat berries of this brand and soft white type are light in color, fat, and rounder than the harder, higher protein grains more typically used for breads, and make for an exceptionally light and fine flour, such as another reviewer noted--i\\'d say nearly like talcum powder!! pretty amazing.  i\\'m so impressed by this company\\'s great products, and the quality (very very clean- no chaff, small rocks or other debris to sort through) and cost (by mail) is better than other like brands i\\'ve purchased in the past.  If you live near a wheat farm, you can do much better in price, obviously, because shipping is a bear. But, this is lower or equivalent in cost to the main brands that provide small (25 or 50 lb) quantities to individual consumers, and the quality is better!  --very highly recommended product.  i\\'m so glad Great River sells on Amazon.', 'Date': '2012-01-17'} \n",
            "\n",
            "{'_id': ObjectId('67cc8de414becb6d21dc5809'), 'Id': 448964, 'ProductId': 'B001ONVOC0', 'UserId': 'A3OXHLG6DIBRW8', 'ProfileName': 'C. F. Hill \"CFH\"', 'HelpfulnessNumerator': 0, 'HelpfulnessDenominator': 0, 'Score': 5, 'Summary': 'Great Tasting Fiber Rich Bar - Highly Recommended', 'Text': 'The Kellogg\\'s Dark Chocolate Almond \"FiberPlus Antioxidant Bars\" are surprisingly good tasting and are very filling. My wife bought me these to use as snack bars since I try to keep my total Carb intake as low as possible, and the high fiber content gives these each of these about 15 Net Carbs. They also have 130 Calories and about 2g of Protein.<br /><br />The flavor is a lot better than most of other high fiber snack bars I have tried and these will become one of my regular treats.<br /><br />Highly Recommended!<br /><br />CFH', 'Date': '2010-09-05'} \n",
            "\n",
            "{'_id': ObjectId('67cc8db314becb6d21da6b2c'), 'Id': 322777, 'ProductId': 'B001ONPMOG', 'UserId': 'A3OXHLG6DIBRW8', 'ProfileName': 'C. F. Hill \"CFH\"', 'HelpfulnessNumerator': 0, 'HelpfulnessDenominator': 0, 'Score': 5, 'Summary': 'Great Tasting Fiber Rich Bar - Highly Recommended', 'Text': 'The Kellogg\\'s Chocolate Chip \"FiberPlus Antioxidant Bars\" are surprisingly good tasting and are very filling. My wife bought me these to use as snack bars since I try to keep my total Carb intake as low as possible, and the high fiber content gives these each of these about 17 Net Carbs. They also have 120 Calories and about 2g of Protein.<br /><br />The flavor is a lot better than most of other high fiber snack bars I have tried and these will become one of my regular treats.<br /><br />Highly Recommended! I also like <a href=\"http://www.amazon.com/gp/product/B001ONVOC0\">FiberPlus Antioxidant Bars, Dark Chocolate Almond, 5-Count Bars (Pack of 12)</a>.<br /><br />CFH', 'Date': '2010-09-06'} \n",
            "\n",
            "{'_id': ObjectId('67cc8dc614becb6d21db2bb7'), 'Id': 372075, 'ProductId': 'B000SATIFA', 'UserId': 'A1GAOLHR9T3B65', 'ProfileName': 'McLovin', 'HelpfulnessNumerator': 0, 'HelpfulnessDenominator': 0, 'Score': 5, 'Summary': 'Great, high quality green tea at an affordable price... and YUMMY!', 'Text': \"This tea is great! Nowhere else can you get one POUND of high quality tea for $12 shipped to your door. I used to pay $30 for a sub-par product, but no more!<br /><br />You know it's a fresh, high quality tea when it takes 3-6 days for a fresh made batch to start to stink in the fridge. I used to drink Lipton every day, and it takes between 1 and 2 weeks for Lipton (a lower quality tea) to 'go bad' in the fridge. If you know anything about tea, you will know that the more 'processed' and less 'natural' it is, the longer it stays fresh. Davidson's starts to smell anywhere between 3-6 days for me.<br /><br />Highly recommended, you'll love it!\", 'Date': '2010-08-20'} \n",
            "\n",
            "{'_id': ObjectId('67cc8d7114becb6d21d7e7ed'), 'Id': 158093, 'ProductId': 'B0037TUHAY', 'UserId': 'A35KAXWEQ2KBT0', 'ProfileName': 'Andyman', 'HelpfulnessNumerator': 0, 'HelpfulnessDenominator': 1, 'Score': 5, 'Summary': 'High Quality Dogfood', 'Text': \"My math professor is a professional dog trainer and she highly recommended this for my dog. It actually saved my dogs eyes cause hes a really picky eater and we would always feed him homemade chicken and I guess he was very low in vitamin A so after we switched him to dog food (we mix it with cottage cheese or else he wont eat dry dog food at all) he started to see better.<br /><br />Im not a vet or anything but this is my personal story.<br /><br />Great buy. Don't get generic dogfood you need to treat your dogs like a member of the family so dont cheap out and get something high quality like royal canin.\", 'Date': '2011-07-27'} \n",
            "\n",
            "{'_id': ObjectId('67cc8d3814becb6d21d5de28'), 'Id': 24505, 'ProductId': 'B0016JJEFG', 'UserId': 'A9RTRKZM3IEOY', 'ProfileName': 'M. Ross \"Bacchuskitty\"', 'HelpfulnessNumerator': 18, 'HelpfulnessDenominator': 18, 'Score': 5, 'Summary': 'Very High Quality Tea', 'Text': \"Our extended family goes through a lot of tea and we have some genuine aficionados; some may even say snobs.  We originally tried Newman's Own tea because we liked their other products and appreciate their charitable giving ethos.  What we were expecting, at the price we paid, was a relatively low-grade, re-branded tea.  That is not what we got.<br /><br />What we got was not only a consistently high quality tea, but also an astonishing value.  What really impresses me is that the quality and taste of this tea is so consistent; it's really the best black tea you can find, box after box, for the price anywhere near where they sell it, even much higher.  To be honest, I don't know how they do it but I'm delighted they do.  We buy this tea by the case.<br /><br />The flavor of this tea is crisp and clear, rich, but never bitter.  I had been accustomed to have my tea English-style with cream, but Newman's Own black tea is so flavorful and mellow I've taken to having it straight up all the time.  It's really that good.<br /><br />It would be a tremendous value as it is, but throw in the fact that it is organic, to boot, and it's just a steal.  All the bags in the box are individually wrapped. Personally, I would prefer if they were loose; even though we recycle all the little paper bags they come in, I would feel better if they didn't have those at all.<br /><br />Easy to give this product an enthusiastic five stars.  Highly recommended.\", 'Date': '2010-08-05'} \n",
            "\n"
          ]
        }
      ],
      "source": [
        "#Query 3\n",
        "#Search Type: Exact Phrase Search\n",
        "#Search Query: Finding reviews containing the exact phrase \"highly recommended\"\n",
        "\n",
        "query3 = {\"$text\": {\"$search\": \"\\\"highly recommended\\\"\"}}\n",
        "#query3 = {\"$text\": {\"$search\": '\"highly recommended\"'}}    #Alternative query\n",
        "results = collection.find(query3).limit(10)\n",
        "\n",
        "for doc in results:\n",
        "    print(doc, \"\\n\")"
      ]
    },
    {
      "cell_type": "code",
      "execution_count": null,
      "id": "5736ea47-8094-40df-9854-0842176ca499",
      "metadata": {
        "id": "5736ea47-8094-40df-9854-0842176ca499",
        "outputId": "a792f45e-7888-4783-8de9-62beb5671931"
      },
      "outputs": [
        {
          "name": "stdout",
          "output_type": "stream",
          "text": [
            "{'_id': ObjectId('67cc8d6914becb6d21d7a1ae'), 'Id': 140109, 'ProductId': 'B0026SHQ5G', 'UserId': 'A2HHZDHNBQ89PX', 'ProfileName': 'Sarwat Ezzeldin \"PrinceAly\"', 'HelpfulnessNumerator': 3, 'HelpfulnessDenominator': 3, 'Score': 4, 'Summary': 'Great Design, Excellent sound, Good Battery life', 'Text': \"I've tried a number of various brands Bluetooth; each has some kind of problem, the fit, the weight, sound quality or battery life. This one, in comparison, is the best.<br />First, the earpiece fits well and very light, the sound quality is good on both sides of the conversation, and battery life is not bad at all. Unlike the common one-piece head sets, which require one to hang the entire device from their ear, this ear bud is much lighter, because the clip-on piece has the microphone, the rechargeable battery, and everything else that make it work. In addition, you don't have to leave it in your ear all the time, the clip piece has a built in ringer, so you can wear the ear bud only when you answer a call.<br />Pairing was very fast easy, same goes for turning on/off, or changing the volume.<br />  Two minor cons: the power button on the ear bud needs some use-to, and the charger is not the universal mini USB, it has an unusual extra small rounded plug, which means you have to bring it with you if you want to use the headset, plus a car charger in addition to your phone's chargers. One star off for these cons.<br />Over all, this is a good product and better than any one-piece Bluetooth I've ever tried.\", 'Date': '2009-04-23'} \n",
            "\n",
            "{'_id': ObjectId('67cc8ddb14becb6d21dc0294'), 'Id': 427085, 'ProductId': 'B000NGNEKY', 'UserId': 'A3JS4HZHL8SXNZ', 'ProfileName': 'Banana Incident', 'HelpfulnessNumerator': 0, 'HelpfulnessDenominator': 0, 'Score': 3, 'Summary': 'Like Battery Acid', 'Text': \"(This review is for the white can with the gold star)<br /><br />I imagine if I were to break open a battery and empty the contents into my mouth, this is exactly how it would taste and feel. It's brutal. I can't really describe it. It tastes sort of... pineapple-y? With a hint of dirty socks and metal...?<br /><br />But it has a lot of good stuff in it and really wakes me up. But the blueberry flavor (blue and white can) is 100x better.<br /><br />If you want a sugar free energy drink, get the diet Red Bulls. I can hardly taste the difference with those. But these are okay sometimes and WAY cheaper.\", 'Date': '2012-03-28'} \n",
            "\n",
            "{'_id': ObjectId('67cc8db114becb6d21da5c6d'), 'Id': 319002, 'ProductId': 'B000NGP8TY', 'UserId': 'A3JS4HZHL8SXNZ', 'ProfileName': 'Banana Incident', 'HelpfulnessNumerator': 0, 'HelpfulnessDenominator': 0, 'Score': 3, 'Summary': 'Like Battery Acid', 'Text': \"(This review is for the white can with the gold star)<br /><br />I imagine if I were to break open a battery and empty the contents into my mouth, this is exactly how it would taste and feel. It's brutal. I can't really describe it. It tastes sort of... pineapple-y? With a hint of dirty socks and metal...?<br /><br />But it has a lot of good stuff in it and really wakes me up. But the blueberry flavor (blue and white can) is 100x better.<br /><br />If you want a sugar free energy drink, get the diet Red Bulls. I can hardly taste the difference with those. But these are okay sometimes and WAY cheaper.\", 'Date': '2012-03-28'} \n",
            "\n",
            "{'_id': ObjectId('67cc8db114becb6d21da5a9a'), 'Id': 318535, 'ProductId': 'B000NGP8UI', 'UserId': 'A3JS4HZHL8SXNZ', 'ProfileName': 'Banana Incident', 'HelpfulnessNumerator': 0, 'HelpfulnessDenominator': 0, 'Score': 3, 'Summary': 'Like Battery Acid', 'Text': \"(This review is for the white can with the gold star)<br /><br />I imagine if I were to break open a battery and empty the contents into my mouth, this is exactly how it would taste and feel. It's brutal. I can't really describe it. It tastes sort of... pineapple-y? With a hint of dirty socks and metal...?<br /><br />But it has a lot of good stuff in it and really wakes me up. But the blueberry flavor (blue and white can) is 100x better.<br /><br />If you want a sugar free energy drink, get the diet Red Bulls. I can hardly taste the difference with those. But these are okay sometimes and WAY cheaper.\", 'Date': '2012-03-28'} \n",
            "\n",
            "{'_id': ObjectId('67cc8d8e14becb6d21d9036a'), 'Id': 230672, 'ProductId': 'B000NGQ9VK', 'UserId': 'A3JS4HZHL8SXNZ', 'ProfileName': 'Banana Incident', 'HelpfulnessNumerator': 0, 'HelpfulnessDenominator': 0, 'Score': 3, 'Summary': 'Like Battery Acid', 'Text': \"(This review is for the white can with the gold star)<br /><br />I imagine if I were to break open a battery and empty the contents into my mouth, this is exactly how it would taste and feel. It's brutal. I can't really describe it. It tastes sort of... pineapple-y? With a hint of dirty socks and metal...?<br /><br />But it has a lot of good stuff in it and really wakes me up. But the blueberry flavor (blue and white can) is 100x better.<br /><br />If you want a sugar free energy drink, get the diet Red Bulls. I can hardly taste the difference with those. But these are okay sometimes and WAY cheaper.\", 'Date': '2012-03-28'} \n",
            "\n",
            "{'_id': ObjectId('67cc8d8514becb6d21d8a9c9'), 'Id': 207725, 'ProductId': 'B00012182G', 'UserId': 'A2R5G8X1JO44BY', 'ProfileName': 'Opinyun8ed', 'HelpfulnessNumerator': 37, 'HelpfulnessDenominator': 42, 'Score': 3, 'Summary': 'So Much Fun! But...where do you put the batteries???', 'Text': 'Rabbits have been a \"must have\" for single women everywhere and almost all of my friends have one. Well, normally rabbits are upwards of $100+ dollars! Although I\\'ve heard they are SOOOOOO worth it, I could never afford one....UNTIL NOW!! I was so excited (literally) to find one under $50 that I could barely control myself as I whipped out my credit card. I opted for express shipping and then countered that additional cost by selecting a \\'gently used\\' one! I was tingling with anticipation all day and rushed home to find my rabbit waiting on my door step. I quickly grabbed the package and dashed to my bedroom while tearing off clothing as fast as possible. I launched myself onto the bed and rip open the package and...now I can\\'t figure out where to put the batteries!', 'Date': '2011-06-07'} \n",
            "\n",
            "{'_id': ObjectId('67cc8dc014becb6d21daf251'), 'Id': 357378, 'ProductId': 'B002U5C0F6', 'UserId': 'A1DB4U8ISVULVE', 'ProfileName': 'The Original Most Interesting Man in the Worl...', 'HelpfulnessNumerator': 1, 'HelpfulnessDenominator': 7, 'Score': 1, 'Summary': 'Worse than even Tab, tastes like Battery Acid', 'Text': \"I don't know how any human being can consume stuff like this and Tab. Its like drinking battery acid. This stuff will eat the lining of your stomach in a matter of a few years. You'd have to be nutty to drink this stuff. Apparantly this stuff is a big hit with retired servicemen in Germany, as sales of Diet Rite have increased 3000% in some German provinces lately. In fact, upon fears of hoarding of Diet Rite, the German government recently raided a house of a retired American serviceman named Mikey and found him sitting in his basement, nude, amidst hundreds of cases of Diet Rite cola, boxes and boxes of Zagnut candy bars, watching terrible second rate movies about time travel and German fisting porn. That is some wild and wacky stuff.\", 'Date': '2012-04-05'} \n",
            "\n",
            "{'_id': ObjectId('67cc8d4914becb6d21d66fb4'), 'Id': 61771, 'ProductId': 'B003SLTETG', 'UserId': 'A2USKPJYPFW7UT', 'ProfileName': 'Janna Jennings', 'HelpfulnessNumerator': 6, 'HelpfulnessDenominator': 6, 'Score': 1, 'Summary': 'Not what I expected.', 'Text': \"We bought this with the hope of preventing cats from getting out.  They are smart enough to bait the dog to come near the door and let them out or in as they wish.<br /><br />I think this door is overpriced.  It does not come with a battery or charger, and you really need 2 batteries so you can charge one while using the other.  We installed it into a door, so using the ac power cord is not a good option.  Also, our puppy chewed through the wire connecting our computer to the Internet the first week we got him, making us nervous about a power cord in his space.<br /><br />We got a 2nd puppy.  A few days later we found the cover of his collar transmitter in the yard.  I guess the two dogs played too roughly and the transmitter came apart?  The button battery from the inside was missing, and it was 5:30 pm.  We looked in the grass for it til it got dark but never found it.  Swallowing a button battery is a medical emergency, kind of like appendicitis, only it can affect any part of the GI tract.  So we had to take both dogs to the emergency vet to get x-rayed to see if either had eaten the battery.  No battery in either dog, thank goodness, but we spent a bit more than $250 for that information.  The collar transmitter should have a screw or something to hold it together better.<br /><br />I am currently writing this from my bedroom, and I hear the door opening and closing over and over.  A dog must be sitting too close.  Guess that means we will be charging the battery again in the am.  I'm annoyed by the sound, though it is not horribly loud.  I really wish we had gone with a heavy duty magnetic type door.\", 'Date': '2012-04-11'} \n",
            "\n",
            "{'_id': ObjectId('67cc8d8514becb6d21d8a9fa'), 'Id': 207774, 'ProductId': 'B00012182G', 'UserId': 'A2H9AFS3XB32WT', 'ProfileName': 'PJ Jones \"PJ Jones\"', 'HelpfulnessNumerator': 8, 'HelpfulnessDenominator': 10, 'Score': 1, 'Summary': 'broken!', 'Text': \"I think I must have ordered the wrong rabbit. The rabbit I supposedly ordered came with pearls. I looked all over for the battery compartment and only found one slot that would fit C batteries. Well, the rabbit never turned on and I couldn't get my batteries back out of the compartment without using extra lube. To make matters worse, judging by the smell of the rabbit, I think it's already been used. I have to say I'm disappointed in this product and I will be exchanging it at the Adult Megaplex for a new one.\", 'Date': '2012-09-24'} \n",
            "\n",
            "{'_id': ObjectId('67cc8e0114becb6d21dd817a'), 'Id': 525117, 'ProductId': 'B001BOLD0K', 'UserId': 'APS53SGH9XGVN', 'ProfileName': 'Gaelon P. Morris', 'HelpfulnessNumerator': 1, 'HelpfulnessDenominator': 1, 'Score': 4, 'Summary': 'A great way to reward the little ones.', 'Text': 'Having a box of ring pops around is a great way to give the kids a reward for being extra helpful and well behaved for the day.  These ring pops are even better in that regard as the blinking light adds a special level of novelty to it all.<br /><br />The box contains four flavors, Blue Raspberry, Sour Apple, Strawberry, and Watermelon.  All of which are rather good and tends to cover the range of \"likes\", meaning they may not be flavor favorites, but you shouldn\\'t dislike them all.<br /><br />Be warned about one thing though.  The clear cone protecting the LED is study, but we have had one break at the joint between disk the candy actually sits on and the battery housing.  Luckily this doesn\\'t allow the button batteries to come out, but it does expose the LED which can be a hazard with smaller children.  On an up side though, if you are a do-it-yourselfer, this does become a ready supply of easily harvested, non-soldered LED\\'s and the button batteries aren\\'t to hard to get out either once you look at it.', 'Date': '2009-03-25'} \n",
            "\n"
          ]
        }
      ],
      "source": [
        "#Query 4\n",
        "#Search Type: Negative Search (Exclusion)\n",
        "#Search Query: Finding reviews that mention \"battery\" but not \"poor\"\n",
        "\n",
        "query4 = {\"$text\": {\"$search\": \"battery -poor\"}}  #The negative sign (-) before \"poor\" is used to exclude it\n",
        "results = collection.find(query4).limit(10)\n",
        "for doc in results:\n",
        "    print(doc, \"\\n\")"
      ]
    },
    {
      "cell_type": "code",
      "execution_count": null,
      "id": "a544871e-43b5-4cdc-a082-d41cd1a58a20",
      "metadata": {
        "id": "a544871e-43b5-4cdc-a082-d41cd1a58a20",
        "outputId": "a3d7778c-98cf-468c-b862-882e04915da7"
      },
      "outputs": [
        {
          "name": "stdout",
          "output_type": "stream",
          "text": [
            "{'_id': ObjectId('67cc8db414becb6d21da75e5'), 'Id': 325522, 'ProductId': 'B000GQ80TQ', 'UserId': 'AOE48RNIPMOUA', 'ProfileName': '*_ME_*', 'HelpfulnessNumerator': 0, 'HelpfulnessDenominator': 1, 'Score': 3, 'Summary': 'Durable Nylabones are Less Durable Lately.,,', 'Text': 'These durable Nylabones seem to be somewhat less durable in the past couple years.  I have an older Nylabone in the same flavor  & size that my dog is still working at, and it\\'s still in good shape. But I\\'ve purchased two more in the past year, in this and another flavor, and each time the pieces of plastic come away too easily & quickly.  By 20 minutes into chewing, there are too many large pieces coming off, and I have to take it away. Swallowing this stuff is not good. I think Nylabone might be intentionally making these LESS durable so that we\\'ll have to buy them more often, since the old ones lasted a lifetime.<br /><br />Also - note that this item is indeed the newer, textured version of the toy.  I was hoping it wouldn\\'t be, but I couldn\\'t find it in this flavor and size in the untextured, and the description didn\\'t mention it either way. My dog didn\\'t seem to care either.<br /><br />As for all the Souper sized Nylabones, I wish they\\'d make the same thing just a bit longer in length. My dog is very tall but with a long narrow snout. He doesn\\'t like anything that\\'s too big to easily get in his mouth, like the \"big\" dog Nylabone toys. This toy is almost long enough for him to hold it well with his paws while chewing, but not quite.', 'Date': '2011-12-28'} \n",
            "\n",
            "{'_id': ObjectId('67cc8deb14becb6d21dca62d'), 'Id': 468969, 'ProductId': 'B001B1OK80', 'UserId': 'ALK1CPFNKIU4O', 'ProfileName': 'Atlanticgrl', 'HelpfulnessNumerator': 4, 'HelpfulnessDenominator': 4, 'Score': 5, 'Summary': 'Durable toy', 'Text': 'I\\'ve purchased a few of these toys and all prove to be quite durable - even more so than other toys (Kong brand included)that claim to be extra durable. I have a large Chi who seems to have been born with shark teeth as he can quickly make scraps of all the \"durable\" toys I\\'ve purchased for him. But these toys have yet to be disected or even torn. I\\'ve purchased these for toys for other friends because I was so impressed. Excellent tug-of-war toy!', 'Date': '2010-01-07'} \n",
            "\n",
            "{'_id': ObjectId('67cc8d5b14becb6d21d70fe8'), 'Id': 102785, 'ProductId': 'B0061PPLYI', 'UserId': 'A3QD8ADZ5ARVO0', 'ProfileName': 'Roberta S', 'HelpfulnessNumerator': 3, 'HelpfulnessDenominator': 3, 'Score': 5, 'Summary': 'Most durable chew bone out there!', 'Text': 'My little boxer-pit bull mix has chewed through every \"durable\" toy there is.  I got her the \"wolf\" size Galileo and had to help her start it (it\\'s slippery before they scratch it up) but now she loves it.  If you have a dog that can chew the other durable Nylabone products down to a nub then this is for you!  It doesn\\'t even seem to matter that it\\'s not flavored (at least not to my knowledge).  I would also recommend the Nylabone Double Action Chew - this one has also lasted far longer then the Nylabone durable regular bones.', 'Date': '2008-07-30'} \n",
            "\n",
            "{'_id': ObjectId('67cc8def14becb6d21dccf73'), 'Id': 479535, 'ProductId': 'B000TMZR98', 'UserId': 'A18DM6R5C0QH1P', 'ProfileName': 'Sara Wanous', 'HelpfulnessNumerator': 0, 'HelpfulnessDenominator': 0, 'Score': 1, 'Summary': 'Very Disappointed, Not Durable at All', 'Text': 'I bought this toy because it touted being the most durable soft dog toy available. My dog loves to chew and really enjoys a soft squeaky toy. I was impressed by the \"7 rows of stitching\" and \"4 layers of material\" and thought it would be worth a try. My 60 lb. border collie mix was through all of it in less than 5 minutes and pulling the stuffing out. The toy I got at the dollar store lasted longer. If you are looking for a durable toy, I suggest looking elsewhere.', 'Date': '2010-08-13'} \n",
            "\n",
            "{'_id': ObjectId('67cc8d5b14becb6d21d7101c'), 'Id': 102837, 'ProductId': 'B0061PPLYI', 'UserId': 'A3T5IIV5LY2OII', 'ProfileName': 'Y. Kim \"City Grill Man\"', 'HelpfulnessNumerator': 0, 'HelpfulnessDenominator': 0, 'Score': 5, 'Summary': 'Most durable out there', 'Text': 'Our dog is a hard chewer, and we have tried many different chew toys.  The Galileo is the strongest, most durable and longest lasting toy out there.  It also comes in 3 sizes, so you have choices.', 'Date': '2011-03-02'} \n",
            "\n",
            "{'_id': ObjectId('67cc8d5414becb6d21d6cede'), 'Id': 86134, 'ProductId': 'B000084E6V', 'UserId': 'AS3ML2E3JY0DX', 'ProfileName': 'montie lowe', 'HelpfulnessNumerator': 0, 'HelpfulnessDenominator': 0, 'Score': 4, 'Summary': 'durable', 'Text': 'My pit loves to chew so I purchased this because it looked durable. It is very tough toy and I think it will last awhile compared to others I have purchased. The only thing I didnt like is that it has little \"nubs\" all over it which make his gums bleed, but that might not be the case with a less agressive chewer.', 'Date': '2012-01-04'} \n",
            "\n",
            "{'_id': ObjectId('67cc8d6114becb6d21d7511c'), 'Id': 119480, 'ProductId': 'B0041LHND6', 'UserId': 'A3DR5MJ118RJ9M', 'ProfileName': 'krys', 'HelpfulnessNumerator': 0, 'HelpfulnessDenominator': 0, 'Score': 4, 'Summary': 'So durable! But...', 'Text': 'This thing has lasted 2 months and still going strong! We have a 1yr old pittmix & loves to chew. He rips rawhide in a matter of seconds but after reading how dangerous rawhide is we were looking for other options. We bought this, he loves it! One thing - after 2 months he chewed this thing into sharp corners & points that if he comes to play with you with it is like a weapon! We all lift our legs on the couch to avoid scratches! However, he loves it, he spends time with it and it is super durable so we are all happy! :D', 'Date': '2011-06-21'} \n",
            "\n",
            "{'_id': ObjectId('67cc8d9114becb6d21d91c65'), 'Id': 237067, 'ProductId': 'B004ZU0RAE', 'UserId': 'A1HIE87X81NY00', 'ProfileName': 'UW Poke', 'HelpfulnessNumerator': 0, 'HelpfulnessDenominator': 0, 'Score': 1, 'Summary': 'Not durable!', 'Text': \"We bought these bottles about 1month ago. Our daughter is very picky about bottles a chokes on many nipples. She is breastfed, but we needed to start introducing bottles for daycare. She did very well with these bottles.  In this month, 2 of the 3 rings that go on the bottom of the nipple have developed bubbles, making them useless. One bottle is on the verge of shattering and the other 2 have large cracks. These bottles are not durable at all. We hand wash these bottles, followed by a steam sterilizer.  She only gets one bottle a day, so we haven't used them very much. Don't buy. They are a waste of money.\", 'Date': '2011-09-03'} \n",
            "\n",
            "{'_id': ObjectId('67cc8dc314becb6d21db0af5'), 'Id': 363689, 'ProductId': 'B001QE91DQ', 'UserId': 'A3QCBSCN39BJA5', 'ProfileName': 'Charlie Puppy', 'HelpfulnessNumerator': 2, 'HelpfulnessDenominator': 2, 'Score': 1, 'Summary': 'Not durable at all!', 'Text': 'This bone is nothing more than a very expensive dog biscuit. My dog consumed the entire thing in less than 20 minutes. He really enjoyed it, but there is no way I\\'m going to buy another one. There are a lot of  more durable bones that cost the same or less than this one. I do not recommend it at all.<br /><br />My dog loves Nybone products. All the other ones seem to last a long time. I guess this \"Edible\" line is just made for eating and not chewing. In my opinion, the price is way too high for what you get. I highly recommend other Nybone products, but steer clear of this one.', 'Date': '2010-02-14'} \n",
            "\n",
            "{'_id': ObjectId('67cc8d9e14becb6d21d99aa5'), 'Id': 269389, 'ProductId': 'B000ANO3N2', 'UserId': 'A3QCBSCN39BJA5', 'ProfileName': 'Charlie Puppy', 'HelpfulnessNumerator': 2, 'HelpfulnessDenominator': 2, 'Score': 1, 'Summary': 'Not durable at all!', 'Text': 'This bone is nothing more than a very expensive dog biscuit. My dog consumed the entire thing in less than 20 minutes. He really enjoyed it, but there is no way I\\'m going to buy another one. There are a lot of  more durable bones that cost the same or less than this one. I do not recommend it at all.<br /><br />My dog loves Nybone products. All the other ones seem to last a long time. I guess this \"Edible\" line is just made for eating and not chewing. In my opinion, the price is way too high for what you get. I highly recommend other Nybone products, but steer clear of this one.', 'Date': '2010-02-14'} \n",
            "\n"
          ]
        }
      ],
      "source": [
        "#Query 5\n",
        "#Search Type: OR Search\n",
        "#Search Query: Finding reviews that mention \"durable\" OR \"sturdy\"\n",
        "\n",
        "query5 = {\"$text\": {\"$search\": \"durable sturdy\"}}  #Note: This query also returns documents that contain both words\n",
        "results = collection.find(query5).limit(10)\n",
        "for doc in results:\n",
        "    print(doc, \"\\n\")"
      ]
    },
    {
      "cell_type": "code",
      "execution_count": null,
      "id": "797f721c-408c-4aae-9591-efda9e3ddb49",
      "metadata": {
        "id": "797f721c-408c-4aae-9591-efda9e3ddb49",
        "outputId": "df20e90f-8528-4cd4-dbc6-ccbfdcb89901"
      },
      "outputs": [
        {
          "name": "stdout",
          "output_type": "stream",
          "text": [
            "{'_id': ObjectId('67cc8d3a14becb6d21d5f3a4'), 'Id': 30006, 'ProductId': 'B000DZFMEQ', 'UserId': 'A3BPPXMWA7BF6Q', 'ProfileName': 'Debbie O.', 'HelpfulnessNumerator': 1, 'HelpfulnessDenominator': 1, 'Score': 5, 'Summary': 'Its \"Amazing\" because it is amazing!', 'Text': 'I am a repeat customer of Pamela\\'s Amazing Bread Mix.<br /><br />It is truly amazing and my son loves it. It is moist and<br /><br />has a wonderful taste. We give it a \"high 5\".', 'Date': '2007-05-15'} \n",
            "\n",
            "{'_id': ObjectId('67cc8e0714becb6d21ddb46b'), 'Id': 538159, 'ProductId': 'B0014Z3UG6', 'UserId': 'A1GNCVOLRPEK8Q', 'ProfileName': \"K. O'Dell\", 'HelpfulnessNumerator': 0, 'HelpfulnessDenominator': 1, 'Score': 5, 'Summary': 'Amazing, Amazing, Amazing!', 'Text': 'Without a doubt the most amazing and pure product we have ever tried.  My wife (a medical/dietary professional) has done the research and believes this oil is the healthiest money can buy. My concerns are more \"taste based\" and was shocked by how natural and great tasting this brand of olive oil is.<br />The seller shipped immediately and the packaging technique (kept cold) shows how truly special this product is.  A must for any kitchen or health conscious person.', 'Date': '2010-02-09'} \n",
            "\n",
            "{'_id': ObjectId('67cc8d4a14becb6d21d679cb'), 'Id': 64354, 'ProductId': 'B001AZYVVS', 'UserId': 'A1GNCVOLRPEK8Q', 'ProfileName': \"K. O'Dell\", 'HelpfulnessNumerator': 0, 'HelpfulnessDenominator': 1, 'Score': 5, 'Summary': 'Amazing, Amazing, Amazing!', 'Text': 'Without a doubt the most amazing and pure product we have ever tried.  My wife (a medical/dietary professional) has done the research and believes this oil is the healthiest money can buy. My concerns are more \"taste based\" and was shocked by how natural and great tasting this brand of olive oil is.<br />The seller shipped immediately and the packaging technique (kept cold) shows how truly special this product is.  A must for any kitchen or health conscious person.', 'Date': '2010-02-09'} \n",
            "\n",
            "{'_id': ObjectId('67cc8d6214becb6d21d75d6c'), 'Id': 122633, 'ProductId': 'B001185WO4', 'UserId': 'A1YH8MBJSHGM91', 'ProfileName': 'Gerhard Vorhoff', 'HelpfulnessNumerator': 0, 'HelpfulnessDenominator': 0, 'Score': 5, 'Summary': 'Amazing, just amazing!', 'Text': \"OH MY GOD!!! This is THE energy drink!!! Amazing stuff. This gives you the kick you need.<br />No other energy drink tastes so good and has that energy kick.<br />It lasts for about 8-12 hours.<br />The cherry taste is amazing (better than Red Bull, Monster, Rockstar ect), didn't drink one, that is so good, yet.<br />But read the warning labels at the beginning!<br />Your hands will shake, they will feel cold and warm. But it is a good feeling in my opinion.<br />Your heart will also beat like a boss, hehehe.<br /><br />My favourite energy drink.<br />Buy, buy, buy!\", 'Date': '2012-02-11'} \n",
            "\n",
            "{'_id': ObjectId('67cc8db014becb6d21da4fc2'), 'Id': 315759, 'ProductId': 'B002BHSKAC', 'UserId': 'A3AMDSBCBT3I5U', 'ProfileName': 'Kimberly Cabello', 'HelpfulnessNumerator': 3, 'HelpfulnessDenominator': 3, 'Score': 5, 'Summary': 'Amazing Grass IS AMAZING!!', 'Text': 'I LOVE this product! I find the taste very pleasant and am quite surprised to see so many negative comments on the taste. I suppose you must be used to eating natural foods to feel the way I do. Yes, it does have a \"grass\" smell and taste BECAUSE it contains grass and algae. Algae has a very strong taste and smell and I do not notice it in the berry flavor. I mix the powder in about 6 oz. of organic white grape juice using a shaker and it tastes fantastic. It does have a grittiness to it as, again, it contains grass and algae and it does not dissolve, so be warned if you think you are buying a dissolvable product. I begin my day with Amazing Grass before eating anything. The ingredient list is impressive and contains a wealth of superfoods that are so important for optimal health and vitality.<br /><br />As for the effects on the body, you will notice BM regularity due in part to the wealth of probiotics, you may feel more energized, notice clearing of your skin, and a detoxing effect. I am a bodybuilder and a nutritionist. I cannot express enough how much I recommend this product. I feel great and would not want to be without Amazing Grass!', 'Date': '2011-12-05'} \n",
            "\n",
            "{'_id': ObjectId('67cc8db014becb6d21da4fbb'), 'Id': 315752, 'ProductId': 'B002BHSKAC', 'UserId': 'A23LMQV0H38DLM', 'ProfileName': 'S. Rivera', 'HelpfulnessNumerator': 29, 'HelpfulnessDenominator': 30, 'Score': 5, 'Summary': 'Amazing Grass Amazing Product!', 'Text': \"I have been using the Berry flavor in smoothies regularly for about 10 months, and Amazon is the best place to get it. The first couple of times I tried it, it was okay. By the third time, I was really looking forward to it in a yummy way and missing it if I didn't have it. I started on it after a friend was treated for breast cancer, and her cancer doctor told her to get and stay on a green superfood. My husband had lung cancer and needed all the help he could get. I researched green superfoods on the Internet, and preferred the contents of this one because it had both fruits and veggies (most have only veggies) with great extras and minimal filler. I bought all the flavors to test, but he didn't like the smell (friends say it smells like wheat grass) and refused to try any of them. My daughter and I tested each and preferred the berry flavor in daily smoothies. The chocolate flavor tastes good, but has less fruit/veggie value. In blender: approx. 1/2 cup of orange juice, 1 banana, squirt of honey, 5 +/- frozen strawberries and Amazing Grass green superfood. Add ice cubes if you like it thicker. It's great! On the cancer subject, I studied cancer survivors and what they attributed to their survival. Result: Consume lots of Flax Seed or Whey, lots of fruits/veggies, remove stress, and remove white sugar and processed foods from the diet. Cancer loves white sugar and fake sugars (Splenda, etc.). The American diet is killing us. Amazing Grass Green Superfood contains flax seed along with lots of natural antioxidant and immunity building fruits and veggies to ward off illness. I used to average two colds per winter. Since taking this (10 months), I can't remember the last time I was sick. My body feels good taking it, and yes, it does keep you regular in a good, natural way as it flushes the toxins out of your system. Just what the doctor ordered. Unfortunately, my husband refused to do any of the things learned from my studies and he succombed to cancer. I'm staying on the Amazing Grass Green Superfood because I don't want that to happen to me. And because it keeps my body feeling good.\", 'Date': '2011-02-10'} \n",
            "\n",
            "{'_id': ObjectId('67cc8df014becb6d21dcda3b'), 'Id': 482295, 'ProductId': 'B0018KLPFK', 'UserId': 'A1R5Q4GXSYSKPH', 'ProfileName': 'Veronica', 'HelpfulnessNumerator': 1, 'HelpfulnessDenominator': 2, 'Score': 5, 'Summary': 'Some Amazing! Some Not So Amazing...', 'Text': \"It took me a long time to try these larabars out and I don't know what really prompted me to try one finally but I am so glad I did.  From the flavors that I have tried some just blew me away while some really left me feeling unsatisfied in the flavor department.  I will rate the ones out of 5 stars that I have tried, 1 being terrible and 5 being so delicious.<br /><br />Peanut Butter Cookie- 5 stars for this one, so delicious!!!  It tasted just like peanut butter cookie dough but made with crunchy peanut butter due to the nuts that are not ground up.  Such amazing texture and taste, it actually is better when left in the sun to warm up.  The flavor comes out so much better and texture too.  This has to be my favorite so far out of the ones I have tried.<br /><br />Pecan Pie- 5 stars for this one.  I am not a pie person at all, and pecan pie would never be my first choice but after having this larabar I am hooked on its flavor.  It tastes just like pecan pie, no kidding.  It's so strange how such simple ingredients can taste like the real thing.  It has a very deep flavor, almost a caramel molasses flavor.  There are nice pieces of pecans and almonds but not too many to overwhelm the bar itself.<br /><br />Peanut butter and jelly- 4 stars for this one.  It tastes just like that stuff called goober where there is peanut butter and jelly in the same jar.  I grew up eating that stuff and it's so much fun to be able to get that same flavor with this larabar.  I only gave it 4 stars though because it tends to get really tart due to that unsweetened cherries but still really delicious.<br /><br />Apple Pie- 2 stars for this one.  This was such a forgettable flavor, it was too tart in my opinion to taste like apple pie and they were really heavy on the cinnamon.  Don't get me wrong, I know that they are not suppose to really taste like the title says but it still is my least favorite out of the ones I have tried.<br /><br />Cherry Pie- 3.5 stars for this one.  This actually does taste like cherry pie but does taste like the filling of a cherry pie. I bet if they were to add cashews it would lend more of a buttery crust like taste but maybe not.  While this is a nice change every once in a while it is not one that I would get excited over.  Very tart but I love the ratio of nuts they used.<br /><br />Chocolate Chip Cookie Dough- 0 stars, and yes I can give zero stars if I want.  This bar I took a bite out of and was so turned off by the taste.  Way way too sweet due to the chocolate chips used.  I love the larabars because of the no added sugar but by them adding chocolate chips which contain way too much sugar in my opinion really ruined this bar.  If it were not for the chocolate chips I think that it would have been better.  Unsweetened cocoa powder would have been better.  If you like almost candy bars but want a healthier option then you would like this one.<br /><br />Cashew Cookie- 5 stars for this bar.  This I was worried about trying because I am not really a fan of cashews to begin with but I want to try all of these bars, most of them anyways.  I was so surprised at how scrumptious this bar was.  It was not too sweet at all and the cashews lend such a wonderful almost buttery like flavor.  There is no added salt but I felt as though there was a nice saltiness to this bar.  This is my second most favorite after the peanut butter cookie larabar.  I like this one on days when I do not want any strong flavors and nothing too sweet and this one fits the bill.  I have never had a cashew cookie or heard of them but I can imagine they wouldn't be as good as this bar.<br /><br />I plan to try more so I will update this review soon.\", 'Date': '2012-06-07'} \n",
            "\n",
            "{'_id': ObjectId('67cc8da514becb6d21d9e523'), 'Id': 288459, 'ProductId': 'B000ENUC3S', 'UserId': 'A1R5Q4GXSYSKPH', 'ProfileName': 'Veronica', 'HelpfulnessNumerator': 1, 'HelpfulnessDenominator': 2, 'Score': 5, 'Summary': 'Some Amazing! Some Not So Amazing...', 'Text': \"It took me a long time to try these larabars out and I don't know what really prompted me to try one finally but I am so glad I did.  From the flavors that I have tried some just blew me away while some really left me feeling unsatisfied in the flavor department.  I will rate the ones out of 5 stars that I have tried, 1 being terrible and 5 being so delicious.<br /><br />Peanut Butter Cookie- 5 stars for this one, so delicious!!!  It tasted just like peanut butter cookie dough but made with crunchy peanut butter due to the nuts that are not ground up.  Such amazing texture and taste, it actually is better when left in the sun to warm up.  The flavor comes out so much better and texture too.  This has to be my favorite so far out of the ones I have tried.<br /><br />Pecan Pie- 5 stars for this one.  I am not a pie person at all, and pecan pie would never be my first choice but after having this larabar I am hooked on its flavor.  It tastes just like pecan pie, no kidding.  It's so strange how such simple ingredients can taste like the real thing.  It has a very deep flavor, almost a caramel molasses flavor.  There are nice pieces of pecans and almonds but not too many to overwhelm the bar itself.<br /><br />Peanut butter and jelly- 4 stars for this one.  It tastes just like that stuff called goober where there is peanut butter and jelly in the same jar.  I grew up eating that stuff and it's so much fun to be able to get that same flavor with this larabar.  I only gave it 4 stars though because it tends to get really tart due to that unsweetened cherries but still really delicious.<br /><br />Apple Pie- 2 stars for this one.  This was such a forgettable flavor, it was too tart in my opinion to taste like apple pie and they were really heavy on the cinnamon.  Don't get me wrong, I know that they are not suppose to really taste like the title says but it still is my least favorite out of the ones I have tried.<br /><br />Cherry Pie- 3.5 stars for this one.  This actually does taste like cherry pie but does taste like the filling of a cherry pie. I bet if they were to add cashews it would lend more of a buttery crust like taste but maybe not.  While this is a nice change every once in a while it is not one that I would get excited over.  Very tart but I love the ratio of nuts they used.<br /><br />Chocolate Chip Cookie Dough- 0 stars, and yes I can give zero stars if I want.  This bar I took a bite out of and was so turned off by the taste.  Way way too sweet due to the chocolate chips used.  I love the larabars because of the no added sugar but by them adding chocolate chips which contain way too much sugar in my opinion really ruined this bar.  If it were not for the chocolate chips I think that it would have been better.  Unsweetened cocoa powder would have been better.  If you like almost candy bars but want a healthier option then you would like this one.<br /><br />Cashew Cookie- 5 stars for this bar.  This I was worried about trying because I am not really a fan of cashews to begin with but I want to try all of these bars, most of them anyways.  I was so surprised at how scrumptious this bar was.  It was not too sweet at all and the cashews lend such a wonderful almost buttery like flavor.  There is no added salt but I felt as though there was a nice saltiness to this bar.  This is my second most favorite after the peanut butter cookie larabar.  I like this one on days when I do not want any strong flavors and nothing too sweet and this one fits the bill.  I have never had a cashew cookie or heard of them but I can imagine they wouldn't be as good as this bar.<br /><br />I plan to try more so I will update this review soon.\", 'Date': '2012-06-07'} \n",
            "\n",
            "{'_id': ObjectId('67cc8d5914becb6d21d6ff6e'), 'Id': 98566, 'ProductId': 'B004GW6O9E', 'UserId': 'A1R5Q4GXSYSKPH', 'ProfileName': 'Veronica', 'HelpfulnessNumerator': 1, 'HelpfulnessDenominator': 2, 'Score': 5, 'Summary': 'Some Amazing! Some Not So Amazing...', 'Text': \"It took me a long time to try these larabars out and I don't know what really prompted me to try one finally but I am so glad I did.  From the flavors that I have tried some just blew me away while some really left me feeling unsatisfied in the flavor department.  I will rate the ones out of 5 stars that I have tried, 1 being terrible and 5 being so delicious.<br /><br />Peanut Butter Cookie- 5 stars for this one, so delicious!!!  It tasted just like peanut butter cookie dough but made with crunchy peanut butter due to the nuts that are not ground up.  Such amazing texture and taste, it actually is better when left in the sun to warm up.  The flavor comes out so much better and texture too.  This has to be my favorite so far out of the ones I have tried.<br /><br />Pecan Pie- 5 stars for this one.  I am not a pie person at all, and pecan pie would never be my first choice but after having this larabar I am hooked on its flavor.  It tastes just like pecan pie, no kidding.  It's so strange how such simple ingredients can taste like the real thing.  It has a very deep flavor, almost a caramel molasses flavor.  There are nice pieces of pecans and almonds but not too many to overwhelm the bar itself.<br /><br />Peanut butter and jelly- 4 stars for this one.  It tastes just like that stuff called goober where there is peanut butter and jelly in the same jar.  I grew up eating that stuff and it's so much fun to be able to get that same flavor with this larabar.  I only gave it 4 stars though because it tends to get really tart due to that unsweetened cherries but still really delicious.<br /><br />Apple Pie- 2 stars for this one.  This was such a forgettable flavor, it was too tart in my opinion to taste like apple pie and they were really heavy on the cinnamon.  Don't get me wrong, I know that they are not suppose to really taste like the title says but it still is my least favorite out of the ones I have tried.<br /><br />Cherry Pie- 3.5 stars for this one.  This actually does taste like cherry pie but does taste like the filling of a cherry pie. I bet if they were to add cashews it would lend more of a buttery crust like taste but maybe not.  While this is a nice change every once in a while it is not one that I would get excited over.  Very tart but I love the ratio of nuts they used.<br /><br />Chocolate Chip Cookie Dough- 0 stars, and yes I can give zero stars if I want.  This bar I took a bite out of and was so turned off by the taste.  Way way too sweet due to the chocolate chips used.  I love the larabars because of the no added sugar but by them adding chocolate chips which contain way too much sugar in my opinion really ruined this bar.  If it were not for the chocolate chips I think that it would have been better.  Unsweetened cocoa powder would have been better.  If you like almost candy bars but want a healthier option then you would like this one.<br /><br />Cashew Cookie- 5 stars for this bar.  This I was worried about trying because I am not really a fan of cashews to begin with but I want to try all of these bars, most of them anyways.  I was so surprised at how scrumptious this bar was.  It was not too sweet at all and the cashews lend such a wonderful almost buttery like flavor.  There is no added salt but I felt as though there was a nice saltiness to this bar.  This is my second most favorite after the peanut butter cookie larabar.  I like this one on days when I do not want any strong flavors and nothing too sweet and this one fits the bill.  I have never had a cashew cookie or heard of them but I can imagine they wouldn't be as good as this bar.<br /><br />I plan to try more so I will update this review soon.\", 'Date': '2012-06-07'} \n",
            "\n",
            "{'_id': ObjectId('67cc8d4c14becb6d21d68caf'), 'Id': 69191, 'ProductId': 'B0018KR8V0', 'UserId': 'A1R5Q4GXSYSKPH', 'ProfileName': 'Veronica', 'HelpfulnessNumerator': 1, 'HelpfulnessDenominator': 2, 'Score': 5, 'Summary': 'Some Amazing! Some Not So Amazing...', 'Text': \"It took me a long time to try these larabars out and I don't know what really prompted me to try one finally but I am so glad I did.  From the flavors that I have tried some just blew me away while some really left me feeling unsatisfied in the flavor department.  I will rate the ones out of 5 stars that I have tried, 1 being terrible and 5 being so delicious.<br /><br />Peanut Butter Cookie- 5 stars for this one, so delicious!!!  It tasted just like peanut butter cookie dough but made with crunchy peanut butter due to the nuts that are not ground up.  Such amazing texture and taste, it actually is better when left in the sun to warm up.  The flavor comes out so much better and texture too.  This has to be my favorite so far out of the ones I have tried.<br /><br />Pecan Pie- 5 stars for this one.  I am not a pie person at all, and pecan pie would never be my first choice but after having this larabar I am hooked on its flavor.  It tastes just like pecan pie, no kidding.  It's so strange how such simple ingredients can taste like the real thing.  It has a very deep flavor, almost a caramel molasses flavor.  There are nice pieces of pecans and almonds but not too many to overwhelm the bar itself.<br /><br />Peanut butter and jelly- 4 stars for this one.  It tastes just like that stuff called goober where there is peanut butter and jelly in the same jar.  I grew up eating that stuff and it's so much fun to be able to get that same flavor with this larabar.  I only gave it 4 stars though because it tends to get really tart due to that unsweetened cherries but still really delicious.<br /><br />Apple Pie- 2 stars for this one.  This was such a forgettable flavor, it was too tart in my opinion to taste like apple pie and they were really heavy on the cinnamon.  Don't get me wrong, I know that they are not suppose to really taste like the title says but it still is my least favorite out of the ones I have tried.<br /><br />Cherry Pie- 3.5 stars for this one.  This actually does taste like cherry pie but does taste like the filling of a cherry pie. I bet if they were to add cashews it would lend more of a buttery crust like taste but maybe not.  While this is a nice change every once in a while it is not one that I would get excited over.  Very tart but I love the ratio of nuts they used.<br /><br />Chocolate Chip Cookie Dough- 0 stars, and yes I can give zero stars if I want.  This bar I took a bite out of and was so turned off by the taste.  Way way too sweet due to the chocolate chips used.  I love the larabars because of the no added sugar but by them adding chocolate chips which contain way too much sugar in my opinion really ruined this bar.  If it were not for the chocolate chips I think that it would have been better.  Unsweetened cocoa powder would have been better.  If you like almost candy bars but want a healthier option then you would like this one.<br /><br />Cashew Cookie- 5 stars for this bar.  This I was worried about trying because I am not really a fan of cashews to begin with but I want to try all of these bars, most of them anyways.  I was so surprised at how scrumptious this bar was.  It was not too sweet at all and the cashews lend such a wonderful almost buttery like flavor.  There is no added salt but I felt as though there was a nice saltiness to this bar.  This is my second most favorite after the peanut butter cookie larabar.  I like this one on days when I do not want any strong flavors and nothing too sweet and this one fits the bill.  I have never had a cashew cookie or heard of them but I can imagine they wouldn't be as good as this bar.<br /><br />I plan to try more so I will update this review soon.\", 'Date': '2012-06-07'} \n",
            "\n"
          ]
        }
      ],
      "source": [
        "#Query 6\n",
        "#Search Type: Best Reviews (Positive Sentiment)\n",
        "#Search Query: Finding reviews with words like \"amazing\", \"fantastic\", \"best\", \"beautiful\"\n",
        "#Note: By intuition, the documents to be returned should have a perfect \"Score\" of 5\n",
        "query6 = {\n",
        "    \"$and\":\n",
        "    [\n",
        "        {\"$text\": {\"$search\": \"amazing fantastic best beautiful\"}},\n",
        "        {\"Score\": 5}\n",
        "    ]\n",
        "}\n",
        "results = collection.find(query6).limit(10)\n",
        "for doc in results:\n",
        "    print(doc, \"\\n\")"
      ]
    },
    {
      "cell_type": "code",
      "execution_count": null,
      "id": "b14fe906-c17b-4b14-b0d8-01f2aa41ec6c",
      "metadata": {
        "id": "b14fe906-c17b-4b14-b0d8-01f2aa41ec6c",
        "outputId": "efdf59a9-e355-4b4b-cb91-937da6acaa24"
      },
      "outputs": [
        {
          "name": "stdout",
          "output_type": "stream",
          "text": [
            "{\n",
            "    \"explainVersion\": \"1\",\n",
            "    \"queryPlanner\": {\n",
            "        \"namespace\": \"my_database.my_collection\",\n",
            "        \"parsedQuery\": {\n",
            "            \"$and\": [\n",
            "                {\n",
            "                    \"Score\": {\n",
            "                        \"$eq\": 5\n",
            "                    }\n",
            "                },\n",
            "                {\n",
            "                    \"$text\": {\n",
            "                        \"$search\": \"amazing fantastic best beautiful\",\n",
            "                        \"$language\": \"english\",\n",
            "                        \"$caseSensitive\": false,\n",
            "                        \"$diacriticSensitive\": false\n",
            "                    }\n",
            "                }\n",
            "            ]\n",
            "        },\n",
            "        \"indexFilterSet\": false,\n",
            "        \"queryHash\": \"A99E099D\",\n",
            "        \"planCacheShapeHash\": \"A99E099D\",\n",
            "        \"planCacheKey\": \"95450E41\",\n",
            "        \"optimizationTimeMillis\": 0,\n",
            "        \"maxIndexedOrSolutionsReached\": false,\n",
            "        \"maxIndexedAndSolutionsReached\": false,\n",
            "        \"maxScansToExplodeReached\": false,\n",
            "        \"prunedSimilarIndexes\": false,\n",
            "        \"winningPlan\": {\n",
            "            \"isCached\": false,\n",
            "            \"stage\": \"FETCH\",\n",
            "            \"filter\": {\n",
            "                \"Score\": {\n",
            "                    \"$eq\": 5\n",
            "                }\n",
            "            },\n",
            "            \"inputStage\": {\n",
            "                \"stage\": \"TEXT_MATCH\",\n",
            "                \"indexPrefix\": {},\n",
            "                \"indexName\": \"Summary_text_Text_text\",\n",
            "                \"parsedTextQuery\": {\n",
            "                    \"terms\": [\n",
            "                        \"amaz\",\n",
            "                        \"beauti\",\n",
            "                        \"best\",\n",
            "                        \"fantast\"\n",
            "                    ],\n",
            "                    \"negatedTerms\": [],\n",
            "                    \"phrases\": [],\n",
            "                    \"negatedPhrases\": []\n",
            "                },\n",
            "                \"textIndexVersion\": 3,\n",
            "                \"inputStage\": {\n",
            "                    \"stage\": \"FETCH\",\n",
            "                    \"inputStage\": {\n",
            "                        \"stage\": \"OR\",\n",
            "                        \"inputStages\": [\n",
            "                            {\n",
            "                                \"stage\": \"IXSCAN\",\n",
            "                                \"keyPattern\": {\n",
            "                                    \"_fts\": \"text\",\n",
            "                                    \"_ftsx\": 1\n",
            "                                },\n",
            "                                \"indexName\": \"Summary_text_Text_text\",\n",
            "                                \"isMultiKey\": true,\n",
            "                                \"isUnique\": false,\n",
            "                                \"isSparse\": false,\n",
            "                                \"isPartial\": false,\n",
            "                                \"indexVersion\": 2,\n",
            "                                \"direction\": \"backward\",\n",
            "                                \"indexBounds\": {}\n",
            "                            },\n",
            "                            {\n",
            "                                \"stage\": \"IXSCAN\",\n",
            "                                \"keyPattern\": {\n",
            "                                    \"_fts\": \"text\",\n",
            "                                    \"_ftsx\": 1\n",
            "                                },\n",
            "                                \"indexName\": \"Summary_text_Text_text\",\n",
            "                                \"isMultiKey\": true,\n",
            "                                \"isUnique\": false,\n",
            "                                \"isSparse\": false,\n",
            "                                \"isPartial\": false,\n",
            "                                \"indexVersion\": 2,\n",
            "                                \"direction\": \"backward\",\n",
            "                                \"indexBounds\": {}\n",
            "                            },\n",
            "                            {\n",
            "                                \"stage\": \"IXSCAN\",\n",
            "                                \"keyPattern\": {\n",
            "                                    \"_fts\": \"text\",\n",
            "                                    \"_ftsx\": 1\n",
            "                                },\n",
            "                                \"indexName\": \"Summary_text_Text_text\",\n",
            "                                \"isMultiKey\": true,\n",
            "                                \"isUnique\": false,\n",
            "                                \"isSparse\": false,\n",
            "                                \"isPartial\": false,\n",
            "                                \"indexVersion\": 2,\n",
            "                                \"direction\": \"backward\",\n",
            "                                \"indexBounds\": {}\n",
            "                            },\n",
            "                            {\n",
            "                                \"stage\": \"IXSCAN\",\n",
            "                                \"keyPattern\": {\n",
            "                                    \"_fts\": \"text\",\n",
            "                                    \"_ftsx\": 1\n",
            "                                },\n",
            "                                \"indexName\": \"Summary_text_Text_text\",\n",
            "                                \"isMultiKey\": true,\n",
            "                                \"isUnique\": false,\n",
            "                                \"isSparse\": false,\n",
            "                                \"isPartial\": false,\n",
            "                                \"indexVersion\": 2,\n",
            "                                \"direction\": \"backward\",\n",
            "                                \"indexBounds\": {}\n",
            "                            }\n",
            "                        ]\n",
            "                    }\n",
            "                }\n",
            "            }\n",
            "        },\n",
            "        \"rejectedPlans\": []\n",
            "    },\n",
            "    \"executionStats\": {\n",
            "        \"executionSuccess\": true,\n",
            "        \"nReturned\": 92785,\n",
            "        \"executionTimeMillis\": 1189,\n",
            "        \"totalKeysExamined\": 121276,\n",
            "        \"totalDocsExamined\": 226022,\n",
            "        \"executionStages\": {\n",
            "            \"isCached\": false,\n",
            "            \"stage\": \"FETCH\",\n",
            "            \"filter\": {\n",
            "                \"Score\": {\n",
            "                    \"$eq\": 5\n",
            "                }\n",
            "            },\n",
            "            \"nReturned\": 92785,\n",
            "            \"executionTimeMillisEstimate\": 1114,\n",
            "            \"works\": 121280,\n",
            "            \"advanced\": 92785,\n",
            "            \"needTime\": 28494,\n",
            "            \"needYield\": 0,\n",
            "            \"saveState\": 71,\n",
            "            \"restoreState\": 71,\n",
            "            \"isEOF\": 1,\n",
            "            \"docsExamined\": 113011,\n",
            "            \"alreadyHasObj\": 113011,\n",
            "            \"inputStage\": {\n",
            "                \"stage\": \"TEXT_MATCH\",\n",
            "                \"nReturned\": 113011,\n",
            "                \"executionTimeMillisEstimate\": 960,\n",
            "                \"works\": 121280,\n",
            "                \"advanced\": 113011,\n",
            "                \"needTime\": 8268,\n",
            "                \"needYield\": 0,\n",
            "                \"saveState\": 71,\n",
            "                \"restoreState\": 71,\n",
            "                \"isEOF\": 1,\n",
            "                \"indexPrefix\": {},\n",
            "                \"indexName\": \"Summary_text_Text_text\",\n",
            "                \"parsedTextQuery\": {\n",
            "                    \"terms\": [\n",
            "                        \"amaz\",\n",
            "                        \"beauti\",\n",
            "                        \"best\",\n",
            "                        \"fantast\"\n",
            "                    ],\n",
            "                    \"negatedTerms\": [],\n",
            "                    \"phrases\": [],\n",
            "                    \"negatedPhrases\": []\n",
            "                },\n",
            "                \"textIndexVersion\": 3,\n",
            "                \"docsRejected\": 0,\n",
            "                \"inputStage\": {\n",
            "                    \"stage\": \"FETCH\",\n",
            "                    \"nReturned\": 113011,\n",
            "                    \"executionTimeMillisEstimate\": 949,\n",
            "                    \"works\": 121280,\n",
            "                    \"advanced\": 113011,\n",
            "                    \"needTime\": 8268,\n",
            "                    \"needYield\": 0,\n",
            "                    \"saveState\": 71,\n",
            "                    \"restoreState\": 71,\n",
            "                    \"isEOF\": 1,\n",
            "                    \"docsExamined\": 113011,\n",
            "                    \"alreadyHasObj\": 0,\n",
            "                    \"inputStage\": {\n",
            "                        \"stage\": \"OR\",\n",
            "                        \"nReturned\": 113011,\n",
            "                        \"executionTimeMillisEstimate\": 516,\n",
            "                        \"works\": 121280,\n",
            "                        \"advanced\": 113011,\n",
            "                        \"needTime\": 8268,\n",
            "                        \"needYield\": 0,\n",
            "                        \"saveState\": 71,\n",
            "                        \"restoreState\": 71,\n",
            "                        \"isEOF\": 1,\n",
            "                        \"dupsTested\": 121276,\n",
            "                        \"dupsDropped\": 8265,\n",
            "                        \"inputStages\": [\n",
            "                            {\n",
            "                                \"stage\": \"IXSCAN\",\n",
            "                                \"nReturned\": 18555,\n",
            "                                \"executionTimeMillisEstimate\": 77,\n",
            "                                \"works\": 18556,\n",
            "                                \"advanced\": 18555,\n",
            "                                \"needTime\": 0,\n",
            "                                \"needYield\": 0,\n",
            "                                \"saveState\": 71,\n",
            "                                \"restoreState\": 71,\n",
            "                                \"isEOF\": 1,\n",
            "                                \"keyPattern\": {\n",
            "                                    \"_fts\": \"text\",\n",
            "                                    \"_ftsx\": 1\n",
            "                                },\n",
            "                                \"indexName\": \"Summary_text_Text_text\",\n",
            "                                \"isMultiKey\": true,\n",
            "                                \"isUnique\": false,\n",
            "                                \"isSparse\": false,\n",
            "                                \"isPartial\": false,\n",
            "                                \"indexVersion\": 2,\n",
            "                                \"direction\": \"backward\",\n",
            "                                \"indexBounds\": {},\n",
            "                                \"keysExamined\": 18555,\n",
            "                                \"seeks\": 1,\n",
            "                                \"dupsTested\": 18555,\n",
            "                                \"dupsDropped\": 0\n",
            "                            },\n",
            "                            {\n",
            "                                \"stage\": \"IXSCAN\",\n",
            "                                \"nReturned\": 5234,\n",
            "                                \"executionTimeMillisEstimate\": 11,\n",
            "                                \"works\": 5235,\n",
            "                                \"advanced\": 5234,\n",
            "                                \"needTime\": 0,\n",
            "                                \"needYield\": 0,\n",
            "                                \"saveState\": 71,\n",
            "                                \"restoreState\": 71,\n",
            "                                \"isEOF\": 1,\n",
            "                                \"keyPattern\": {\n",
            "                                    \"_fts\": \"text\",\n",
            "                                    \"_ftsx\": 1\n",
            "                                },\n",
            "                                \"indexName\": \"Summary_text_Text_text\",\n",
            "                                \"isMultiKey\": true,\n",
            "                                \"isUnique\": false,\n",
            "                                \"isSparse\": false,\n",
            "                                \"isPartial\": false,\n",
            "                                \"indexVersion\": 2,\n",
            "                                \"direction\": \"backward\",\n",
            "                                \"indexBounds\": {},\n",
            "                                \"keysExamined\": 5234,\n",
            "                                \"seeks\": 1,\n",
            "                                \"dupsTested\": 5234,\n",
            "                                \"dupsDropped\": 0\n",
            "                            },\n",
            "                            {\n",
            "                                \"stage\": \"IXSCAN\",\n",
            "                                \"nReturned\": 86879,\n",
            "                                \"executionTimeMillisEstimate\": 330,\n",
            "                                \"works\": 86880,\n",
            "                                \"advanced\": 86879,\n",
            "                                \"needTime\": 0,\n",
            "                                \"needYield\": 0,\n",
            "                                \"saveState\": 71,\n",
            "                                \"restoreState\": 71,\n",
            "                                \"isEOF\": 1,\n",
            "                                \"keyPattern\": {\n",
            "                                    \"_fts\": \"text\",\n",
            "                                    \"_ftsx\": 1\n",
            "                                },\n",
            "                                \"indexName\": \"Summary_text_Text_text\",\n",
            "                                \"isMultiKey\": true,\n",
            "                                \"isUnique\": false,\n",
            "                                \"isSparse\": false,\n",
            "                                \"isPartial\": false,\n",
            "                                \"indexVersion\": 2,\n",
            "                                \"direction\": \"backward\",\n",
            "                                \"indexBounds\": {},\n",
            "                                \"keysExamined\": 86879,\n",
            "                                \"seeks\": 1,\n",
            "                                \"dupsTested\": 86879,\n",
            "                                \"dupsDropped\": 0\n",
            "                            },\n",
            "                            {\n",
            "                                \"stage\": \"IXSCAN\",\n",
            "                                \"nReturned\": 10608,\n",
            "                                \"executionTimeMillisEstimate\": 30,\n",
            "                                \"works\": 10609,\n",
            "                                \"advanced\": 10608,\n",
            "                                \"needTime\": 0,\n",
            "                                \"needYield\": 0,\n",
            "                                \"saveState\": 71,\n",
            "                                \"restoreState\": 71,\n",
            "                                \"isEOF\": 1,\n",
            "                                \"keyPattern\": {\n",
            "                                    \"_fts\": \"text\",\n",
            "                                    \"_ftsx\": 1\n",
            "                                },\n",
            "                                \"indexName\": \"Summary_text_Text_text\",\n",
            "                                \"isMultiKey\": true,\n",
            "                                \"isUnique\": false,\n",
            "                                \"isSparse\": false,\n",
            "                                \"isPartial\": false,\n",
            "                                \"indexVersion\": 2,\n",
            "                                \"direction\": \"backward\",\n",
            "                                \"indexBounds\": {},\n",
            "                                \"keysExamined\": 10608,\n",
            "                                \"seeks\": 1,\n",
            "                                \"dupsTested\": 10608,\n",
            "                                \"dupsDropped\": 0\n",
            "                            }\n",
            "                        ]\n",
            "                    }\n",
            "                }\n",
            "            }\n",
            "        },\n",
            "        \"allPlansExecution\": []\n",
            "    },\n",
            "    \"queryShapeHash\": \"8F7EEE0C928F4F7E7A72E8D793A2AB7CAB791CB1DA631B1B3786D564A847CD2F\",\n",
            "    \"command\": {\n",
            "        \"find\": \"my_collection\",\n",
            "        \"filter\": {\n",
            "            \"$and\": [\n",
            "                {\n",
            "                    \"$text\": {\n",
            "                        \"$search\": \"amazing fantastic best beautiful\"\n",
            "                    }\n",
            "                },\n",
            "                {\n",
            "                    \"Score\": 5\n",
            "                }\n",
            "            ]\n",
            "        },\n",
            "        \"$db\": \"my_database\"\n",
            "    },\n",
            "    \"serverInfo\": {\n",
            "        \"host\": \"Chief-Idika\",\n",
            "        \"port\": 27017,\n",
            "        \"version\": \"8.0.5\",\n",
            "        \"gitVersion\": \"cb9e2e5e552ee39dea1e39d7859336456d0c9820\"\n",
            "    },\n",
            "    \"serverParameters\": {\n",
            "        \"internalQueryFacetBufferSizeBytes\": 104857600,\n",
            "        \"internalQueryFacetMaxOutputDocSizeBytes\": 104857600,\n",
            "        \"internalLookupStageIntermediateDocumentMaxSizeBytes\": 104857600,\n",
            "        \"internalDocumentSourceGroupMaxMemoryBytes\": 104857600,\n",
            "        \"internalQueryMaxBlockingSortMemoryUsageBytes\": 104857600,\n",
            "        \"internalQueryProhibitBlockingMergeOnMongoS\": 0,\n",
            "        \"internalQueryMaxAddToSetBytes\": 104857600,\n",
            "        \"internalDocumentSourceSetWindowFieldsMaxMemoryBytes\": 104857600,\n",
            "        \"internalQueryFrameworkControl\": \"trySbeRestricted\",\n",
            "        \"internalQueryPlannerIgnoreIndexWithCollationForRegex\": 1\n",
            "    },\n",
            "    \"ok\": 1.0\n",
            "}\n"
          ]
        }
      ],
      "source": [
        "# Using .explain() method to analyze the query execution plan\n",
        "explain_result = collection.find(query6).explain()\n",
        "\n",
        "# Print the execution plan\n",
        "import json\n",
        "print(json.dumps(explain_result, indent=4))"
      ]
    },
    {
      "cell_type": "code",
      "execution_count": null,
      "id": "c9e11e30-d565-410d-bd2c-93a407e98be0",
      "metadata": {
        "id": "c9e11e30-d565-410d-bd2c-93a407e98be0",
        "outputId": "7a84771d-7f80-43d9-e7f3-d1b003bc1be9"
      },
      "outputs": [
        {
          "name": "stdout",
          "output_type": "stream",
          "text": [
            "{'_id': ObjectId('67cc8d4814becb6d21d668fb'), 'Id': 60050, 'ProductId': 'B000Z8T6ES', 'UserId': 'A9RTRKZM3IEOY', 'ProfileName': 'M. Ross \"Bacchuskitty\"', 'HelpfulnessNumerator': 6, 'HelpfulnessDenominator': 6, 'Score': 2, 'Summary': 'Disappointing', 'Text': \"When I first found that fresh garlic was available on Amazon, I was stoked.  We go through LOTS of garlic at home, to the point where we'd be buying at least six large heads of garlic every week.  Super, I thought, three pounds of garlic delivered so I'll be stocked all the time!  The price for the size of the bag was very good, I thought.<br /><br />When I received the garlic, however, I was very disappointed in the quality.  I began using the garlic the very night I received it, so it was not sitting in my pantry for months.  Here is what I found:  Fully half the bag was either rotten, shriveled, or sprouting.  This is indicative of garlic that has been sitting around for some time and/or improperly stored.  When stored properly, fresh garlic remains fresh, firm, and crisp for weeks... or months.  Many of the heads in the bag were completely rotten all the way through.  Some were just light for their size and the cloves were wrinkled and shriveled.  An equal number were in an advanced stage of sprouting.  Those that were suitable for use were OK, but only just that.  These were not fresh heads of garlic.<br /><br />Very disappointed, I contacted Casa de Fruta via email.  After my second message, they were kind enough to ship a brand new bag immediately.  To their credit, the new bag of garlic arrived very quickly.  It was definitely better than the first, but I still lost about 10 heads of garlic to rot and shriveling; that's still a lot in a 3 pound bag, and what would have been a great deal for a full bag of fresh, crisp garlic turned out to be just a real disappointment and a bad deal for a bag of average-to-poor-to-unusable garlic.  For reference, I went through the entire second bag in less than a month, and it was stored in a cool, dry environment.  It was stored properly, in other words.<br /><br />So, at this point I don't know what to think.  I based my original purchase on the few - and all excellent - reviews and, indeed, I would have rated the garlic at 4 stars + had the second bag contained what I was expecting from the reviews.  That was not my experience, however.  It is possible, I suppose, that I was just twice unlucky.  Still, you'd think that the company would have made certain that the second bag sent, DUE to a customer complaint of quality no less, would have been totally primo.  I've got to go with the odds on this one then, and take my garlic business elsewhere.<br /><br />One final note:  Had it not been for courteous and timely response from the vendor, I would have rated this product at one star rather than two based on the quality.\", 'Date': '2010-08-04'} \n",
            "\n",
            "{'_id': ObjectId('67cc8dec14becb6d21dcae79'), 'Id': 471093, 'ProductId': 'B001P4ITDA', 'UserId': 'A3LBQO6FC3W9NX', 'ProfileName': 'keira', 'HelpfulnessNumerator': 1, 'HelpfulnessDenominator': 1, 'Score': 1, 'Summary': 'Disappointed', 'Text': 'Ordered this product before and contents were very soft and fresh.  This time contents were hard and dry.<br />I was very disappointed but my little puppy was even more disappointed.', 'Date': '2012-02-08'} \n",
            "\n",
            "{'_id': ObjectId('67cc8da314becb6d21d9c916'), 'Id': 281278, 'ProductId': 'B001KN92IC', 'UserId': 'A3LBQO6FC3W9NX', 'ProfileName': 'keira', 'HelpfulnessNumerator': 1, 'HelpfulnessDenominator': 1, 'Score': 1, 'Summary': 'Disappointed', 'Text': 'Ordered this product before and contents were very soft and fresh.  This time contents were hard and dry.<br />I was very disappointed but my little puppy was even more disappointed.', 'Date': '2012-02-08'} \n",
            "\n",
            "{'_id': ObjectId('67cc8daf14becb6d21da441f'), 'Id': 312780, 'ProductId': 'B000FPFC4O', 'UserId': 'A77EO8HXDT3II', 'ProfileName': 'Sawyer \"book lover\"', 'HelpfulnessNumerator': 1, 'HelpfulnessDenominator': 1, 'Score': 1, 'Summary': 'Disappointing', 'Text': 'I was very disappointed in the taste of these cookies.  Very bland, not sweet enough, disappointing texture and not enough chocolate chips.  I ended up throwing them in the trash.  What a waste of time and money.', 'Date': '2009-07-29'} \n",
            "\n",
            "{'_id': ObjectId('67cc8de314becb6d21dc4d66'), 'Id': 446241, 'ProductId': 'B0000DG8AR', 'UserId': 'A35EGT4X3X7UGR', 'ProfileName': 'P. A. Lewis', 'HelpfulnessNumerator': 5, 'HelpfulnessDenominator': 5, 'Score': 2, 'Summary': 'Disappointed', 'Text': 'I was very disappointed with the Azalea Bonsai Tree.  First of all the picture that was represented on this site was not what I actually received.  For the money spent, I was truly disappointed with the size and everything else.  I would not order this item again.', 'Date': '2007-07-30'} \n",
            "\n",
            "{'_id': ObjectId('67cc8db714becb6d21da98ee'), 'Id': 334493, 'ProductId': 'B0037ILU9C', 'UserId': 'AFI1BVVF6BPOG', 'ProfileName': 'btrinh', 'HelpfulnessNumerator': 1, 'HelpfulnessDenominator': 2, 'Score': 1, 'Summary': 'disappointment', 'Text': 'The shipping speed was fast however i was disappointed at the size as there are other seller for this item at $1.99 while this one is at $6.99 for the same amount so it was a disappointment on my part for not reading carefully how small it was and how much cheaper i could get it for at other places.', 'Date': '2010-07-27'} \n",
            "\n",
            "{'_id': ObjectId('67cc8e1414becb6d21de2abe'), 'Id': 568451, 'ProductId': 'B003S1WTCU', 'UserId': 'A3I8AFVPEE8KI5', 'ProfileName': 'R. Sawyer', 'HelpfulnessNumerator': 0, 'HelpfulnessDenominator': 0, 'Score': 2, 'Summary': 'disappointed', 'Text': \"I'm disappointed with the flavor. The chocolate notes are especially weak. Milk thickens it but the flavor still disappoints. This was worth a try but I'll never buy again. I will use what's left, which will be gone in no time thanks to the small cans.\", 'Date': '2012-03-09'} \n",
            "\n",
            "{'_id': ObjectId('67cc8e0b14becb6d21ddda71'), 'Id': 547893, 'ProductId': 'B000EQA60O', 'UserId': 'A16FDWUV4FORRV', 'ProfileName': 'Leslie Butler', 'HelpfulnessNumerator': 0, 'HelpfulnessDenominator': 0, 'Score': 1, 'Summary': 'Disappointed', 'Text': \"I'm not disappointed in the product.  I love cadbury's chocolates.  I was disappointed in the size of the product.  I received this product from England and it was 4 times as big. The one received was neither worth the price or shipment cost. My fault should have checked the size.\", 'Date': '2012-10-22'} \n",
            "\n",
            "{'_id': ObjectId('67cc8e0b14becb6d21ddd811'), 'Id': 547285, 'ProductId': 'B002K6831U', 'UserId': 'A386II5JPHOQOX', 'ProfileName': 'Robert W. Moses \"Caladan\"', 'HelpfulnessNumerator': 1, 'HelpfulnessDenominator': 2, 'Score': 2, 'Summary': 'Disappointing', 'Text': \"The nuts arrived super fast.  Kudos for that.  But I found the flavor very disappointing.  I knew they were not salted but I was extremely disappointed in their flavor.  I will toss them out as I just can't stomach them.  I wish I could find the ones I ordered 6 months ago as they were delicious.  Alas, Amazon does not carry them anymore.\", 'Date': '2011-10-27'} \n",
            "\n",
            "{'_id': ObjectId('67cc8e0b14becb6d21ddd54c'), 'Id': 546576, 'ProductId': 'B000MT8G64', 'UserId': 'APZ867OSBNF9Q', 'ProfileName': 'teacher now rescue rancher/ceo', 'HelpfulnessNumerator': 0, 'HelpfulnessDenominator': 0, 'Score': 1, 'Summary': 'disappointed', 'Text': \"I ordered the hard nougat because they were out of the Bellino Torone soft nougat- which is  5* excellent!!! It is my favorite candy.  The hard nougat was a BIG disappointment-teeth cracking hard.  Taste OK but not worth the effort & the mess.  I'm planning on returning it. Found out that I can't return the food, even more of a disappointment. What a waste of money.\", 'Date': '2011-12-09'} \n",
            "\n"
          ]
        }
      ],
      "source": [
        "#Query 7\n",
        "#Search Type: Worst Reviews (Negative Sentiment)\n",
        "#Search Query: Searching for words like \"terrible\", \"horrible\", \"disappointed\", \"worst\", \"useless\".\n",
        "#Note: By intuition, this type of reviews should have a score of 2 or lower\n",
        "\n",
        "query7 = {\n",
        "    \"$and\":\n",
        "          [\n",
        "              {\"$text\": {\"$search\": \"terrible horrible disappointed worst useless\"}},\n",
        "              {\"Score\": {\"$lte\": 2}}\n",
        "          ]\n",
        "}\n",
        "\n",
        "results = collection.find(query7).limit(10)\n",
        "for doc in results:\n",
        "    print(doc, \"\\n\")"
      ]
    },
    {
      "cell_type": "code",
      "execution_count": null,
      "id": "37369b7a-60a0-448b-8524-bec3f771d307",
      "metadata": {
        "id": "37369b7a-60a0-448b-8524-bec3f771d307",
        "outputId": "302bc4f5-197f-4b98-e749-9cbc9dec4cfd"
      },
      "outputs": [
        {
          "name": "stdout",
          "output_type": "stream",
          "text": [
            "{'_id': ObjectId('67cc8d6914becb6d21d7a1ae'), 'Id': 140109, 'ProductId': 'B0026SHQ5G', 'UserId': 'A2HHZDHNBQ89PX', 'ProfileName': 'Sarwat Ezzeldin \"PrinceAly\"', 'HelpfulnessNumerator': 3, 'HelpfulnessDenominator': 3, 'Score': 4, 'Summary': 'Great Design, Excellent sound, Good Battery life', 'Text': \"I've tried a number of various brands Bluetooth; each has some kind of problem, the fit, the weight, sound quality or battery life. This one, in comparison, is the best.<br />First, the earpiece fits well and very light, the sound quality is good on both sides of the conversation, and battery life is not bad at all. Unlike the common one-piece head sets, which require one to hang the entire device from their ear, this ear bud is much lighter, because the clip-on piece has the microphone, the rechargeable battery, and everything else that make it work. In addition, you don't have to leave it in your ear all the time, the clip piece has a built in ringer, so you can wear the ear bud only when you answer a call.<br />Pairing was very fast easy, same goes for turning on/off, or changing the volume.<br />  Two minor cons: the power button on the ear bud needs some use-to, and the charger is not the universal mini USB, it has an unusual extra small rounded plug, which means you have to bring it with you if you want to use the headset, plus a car charger in addition to your phone's chargers. One star off for these cons.<br />Over all, this is a good product and better than any one-piece Bluetooth I've ever tried.\", 'Date': '2009-04-23'} \n",
            "\n"
          ]
        }
      ],
      "source": [
        "#Query 8\n",
        "#Search Type: Feature-Specific Search\n",
        "#Search Query: Searching for \"battery life\" to find reviews discussing battery performance\n",
        "\n",
        "query8 = {\"$text\": {\"$search\": \"\\\"battery life\\\"\"}}  #This ensures that the words are together\n",
        "\n",
        "results = collection.find(query8).limit(10)\n",
        "for doc in results:\n",
        "    print(doc, \"\\n\")\n"
      ]
    },
    {
      "cell_type": "code",
      "execution_count": null,
      "id": "079c3be0-6111-4c47-b244-db543b2d3f7a",
      "metadata": {
        "id": "079c3be0-6111-4c47-b244-db543b2d3f7a",
        "outputId": "057ee22a-966a-4a6d-89bf-4f31313ff81c"
      },
      "outputs": [
        {
          "name": "stdout",
          "output_type": "stream",
          "text": [
            "{'_id': ObjectId('67cc8d7e14becb6d21d86782'), 'Id': 190757, 'ProductId': 'B000FI4O90', 'UserId': 'A2XJE5OL2RXAZ0', 'ProfileName': 'cjenkins', 'HelpfulnessNumerator': 19, 'HelpfulnessDenominator': 20, 'Score': 3, 'Summary': 'Great Product, Poor Customer Service', 'Text': \"Terrific all-in-one aeroponic grow unit. Seed kits are pricey, but the company has done the hard work of figuring out which varieties of plants grow well in water and which nutrients each plant type needs. Well designed, easy to maintain, fun to watch and quiet - it deserves 5 stars.<br /><br />Customer service, though, earns 1 star at best. Emails we sent to support went unanswered; detailed voicemails were unreturned. The only way we (sometimes) received help was to wait on their toll-free line for a CSR. The agents were courteous and tried to do whatever was necessary to remedy the problem.<br /><br />Unfortunately, follow through was quite discouraging. For example, (1) our address was incorrectly entered for an accessory order. We were not able to get anyone at the company to correct it in time which caused a delivery delay. (2) We were charged twice for the order. It took over 4 weeks and many phone calls to customer service before a credit was issued. Finally, (3) the shipping confirmation email was sent two weeks AFTER the order had arrived late.<br /><br />When we told an agent of our frustrations, they remarked about the overwhelming response they've received through Amazon. Well, with a product receiving such positive reviews, how did they not expect this sort of response? Their own literature describes the multiple years of product development. They should've spent some of that time on decent customer support.\", 'Date': '2007-03-27'} \n",
            "\n",
            "{'_id': ObjectId('67cc8e0d14becb6d21dde95a'), 'Id': 551710, 'ProductId': 'B001P22K5U', 'UserId': 'A1MGT2AAZ1KWX7', 'ProfileName': 'pat', 'HelpfulnessNumerator': 3, 'HelpfulnessDenominator': 5, 'Score': 1, 'Summary': 'one star for NONEXISTENT customer service', 'Text': 'so my family was looking for something similar to peanut butter but w/o the peanuts.  we were also looking for something that did not use roasted nuts b/c roasting is not as healthy compared to raw nuts.  after looking on amazon i came across this brand.  i wanted to find out more about how it was prepared so i wrote to their customer service on their website. after you submit you question a friendly message pops up basically saying \"we\\'ll reply within 24-48 hours\" etc.<br /><br />days passed.  no reply.  so i try another time.  more days pass. again no reply.<br /><br />since we wanted to order some soon i go ahead and buy some based on the picture they posted on amazon.  i trusted that their picture listed an accurate portrayal of their item they were selling.  the picture did not show anything about roasted nuts.  well we get the item in and open it up.  what do i see?  their packaging changed.  on the front of the label lists roasted and blanched nuts.<br /><br />as far as taste? nothing exceptional. tastes just like all the other stuff we\\'ve bought before.  needless to say we wont be buying this product again.<br /><br />ps. we bought this item on july 3rd and have yet to get a reply from this company.  i would have to say that their \"customer support\" is truly pathetic.', 'Date': '2012-08-19'} \n",
            "\n",
            "{'_id': ObjectId('67cc8d3614becb6d21d5c8ab'), 'Id': 19004, 'ProductId': 'B000F4H5FO', 'UserId': 'A2XENSS5FN7PIF', 'ProfileName': 'David A. Berry', 'HelpfulnessNumerator': 4, 'HelpfulnessDenominator': 11, 'Score': 1, 'Summary': 'misslabeled, terrible customer support', 'Text': \"I ordered the loose tea in tins and received 6 boxes of tea bags. The only labeling on the box was a barcode sticker with for tea in tins, which was incorrect. When calling customer service I had only two options -- return the tea bags or keep them and be overcharged. There was no follow up, so there was no way to know if I would receive the correct product if I ordered again. The price had gone up 20% in the mean time. Rather than be without tea (I can't buy that brand where I live), I kept it. You can't get your money back if you are over charged, and you can't complain about it to anyone who cares. I will never use Amazon Grocery again if I can help it, and I suggest you do the same.\", 'Date': '2007-03-29'} \n",
            "\n",
            "{'_id': ObjectId('67cc8d7e14becb6d21d86790'), 'Id': 190771, 'ProductId': 'B000FI4O90', 'UserId': 'A2JX1DGG9LF4K6', 'ProfileName': 'Sophist', 'HelpfulnessNumerator': 24, 'HelpfulnessDenominator': 28, 'Score': 2, 'Summary': 'High Promise, Less Delivery', 'Text': 'High Promise, Less Delivery<br />I started growing tomatoes with my AeroGarden about two months ago. I got my first flower a few days ago, the first step towards tomatoes. Unfortunately, the pump on the device stopped working the next day.<br /><br />The FAQ on their web site advises me to open the device, take it apart, and clean the pump. They provide seven (7!) pages of instructions to follow and the process requires the use of a flat head screwdriver, small pliers, butter knife and soap. You also have to provide containers to put the liquid in and find a place for the plants that require their roots to be maintained under water. They claim the cleaning will take 20 to 25 minutes on the first attempt.<br /><br />It actually took about 15 minutes to complete, but then my pump was perfectly clean! The problem was not the pump, the problem was that the root system became so extensive after two months of growing, that the mass of roots blocked the pump intake located at the bottom of the tower.<br /><br />When your pump stops working, I suggest before you go to the bother of taking the pump apart, that you first try trimming the root system around the bottom of the pump tower. That is a MUCH EASER REPAIR compared to taking the whole thing apart. At any rate, I put everything back together, and the pump now works.<br /><br />I have several suggestions for AeroGarden management. Number one suggestion, do something about your NON RESPONSIVE CUSTOMER SUPPORT. Perhaps they answer the phone, but if you send them an email, don\\'t expect a response. Its been one week since I sent them a question about the pump failure... no response to this date. Email communications is worthless with this company, so if you need help, call them. From what I have read about their phone customer service, you might want to have a few snacks at hand and use a speaker phone so you can do other things while you wait.<br /><br />Number two, I suggest that management learn a bit about a concept called \"Maintainability\". Its related to designing a product so its easy to maintain. Apparently the pump on these things need to be maintained. A little point that is not mentioned in the sales literature. Having to take the thing apart to get at the pump so you can clean the filter is silly and reflects a lack of design competence. It would be a cinch to design something better this. I hope potential competitors are listening.<br /><br />Number Three, add to your pump failure instructions the fact that the root system could be blocking the water intake at the bottom of the pump tower. If your pump stops working, the first thing you should do is to move the roots away from the bottom of the pump tower. You can trim the bottom of the roots with a scissor if you are careful. If that works, you have just saved yourself a lot of trouble that you did not need to go through.<br /><br />Number Four, the growth feeding tablets are hydroscopic. That means they attract water. Keeping them in the little plastic bag provided will, in time, result in their merging together into a large amorphous mass. Management should provide a more water vapor resistant plastic vile to keep the growth feeding tablets in. Of course, that might cost five cents, so its not likely going to happen. So at the minimum, I suggest that users of the thing supply the necessary vile.<br /><br />In Summary, we have an intriguing product, where little attention has been devoted to maintenance design. We have incomplete instructions with respect to trouble shooting in the event the pump stops working. We have non responsive customer service, so if you do have a problem, and you expect to save your current plants, you are pretty much on your own.<br /><br />By the way, why is this thing called an \"Aero\" garden? Its a hydroponics garden so it would seem that \"Aqua\" or \"Hydro\" or \"H2O\" garden would be a more appropriate name.<br /><br />Would I recommend it? I bought the device because I wanted to learn more about hydroponics gardening. I expected little, so my expectations were met. Its a thought provoking gadget, but given all of the faults in conjunction with non responsive customer support, I have to rate it more in the un-met promise category... that\\'s two stars. I can\\'t justify higher ratings when you have a company that provides customer service at this level of ineptitude.<br /><br />Additional Info as of August 2008<br />I have tried an additional Cherry tomato crop (see my review of the cherry tomato seed kit).  Based on Amazon seed kit reviews, it appears that about 70% of the tomato seed kit reviews are negative. So its not just me. My second batch of tomato\\'s consists of a few marble sized yellow tomatoes, and NO red tomatoes. I am out of nutrients, and I am not going to pay AeroGrows inflated price for more nutrients. I suggest that the cherry tomato kits have a limited shelf life and that AeroGrow is ignoring that. What else can explain 70% negative reviews under controlled growing conditions? Save your money and don\\'t bother with the Cherry tomatos unless you are willing to throw the dice. I am going to try an herb kit next. If it does not do better, I will probably take the thing apart and redesign it correctly.', 'Date': '2007-11-30'} \n",
            "\n",
            "{'_id': ObjectId('67cc8d5d14becb6d21d725e6'), 'Id': 108417, 'ProductId': 'B002QU2ILQ', 'UserId': 'A3Q29TMUMBAUQV', 'ProfileName': 'Bowzers of ONE', 'HelpfulnessNumerator': 0, 'HelpfulnessDenominator': 0, 'Score': 5, 'Summary': \"Can't go wrong with Annie's products!\", 'Text': \"We all really enjoy Annie's products!  The cookies, the pasta, the snack mix, and the gummies. I have spoken with customer service at Annie's and they are really helpful.  We have food allergies.  This company should be recognized for stellar products and excellent customer support.  I wish more companies modeled their business plan after Annie's.\", 'Date': '2010-10-11'} \n",
            "\n",
            "{'_id': ObjectId('67cc8db914becb6d21daa949'), 'Id': 338680, 'ProductId': 'B0029XKUYM', 'UserId': 'A366EM88TAQASV', 'ProfileName': 'Allen Baker', 'HelpfulnessNumerator': 3, 'HelpfulnessDenominator': 3, 'Score': 5, 'Summary': 'Provolone vs. Provolone', 'Text': \"This is an incredible business. Or at least Brian Cardinale, the Director of Sales and Customer Support, is incredible. I ordered a cheese that was not to my liking, I made comment of it, and quickly received a response from Mr. Cardinale with a wish to rectify the situation. Mr. Cardinale provided me with options and one of them was a replacement with a product that hadn't been introduced yet. After my agreeing to this replacement I quickly received the product and it was indeed what I was originally looking for. While I haven't tried many of the products from this company before, this experience will certainly have me returning to them in the future. Terrific customer service!\", 'Date': '2010-04-18'} \n",
            "\n",
            "{'_id': ObjectId('67cc8dbf14becb6d21daea36'), 'Id': 355302, 'ProductId': 'B000M646KM', 'UserId': 'A4659BT4R2O1Z', 'ProfileName': '71Roses', 'HelpfulnessNumerator': 0, 'HelpfulnessDenominator': 0, 'Score': 5, 'Summary': 'So pleased', 'Text': \"I was so worried about what to use for table decoration at a very special dinner,  when I found Juniper Bonsai's on your site.  Having no idea how to care for bonsai's and emailed the store first. I not only received a speedy answer but a phone call as well.  I ordered 10 trees, they arrived well packed for travel and are beautiful. There was a note to call and tell them how my trees arrived, what great customer service.  I would recommend this company for their wonderful products and fantastic customer support. My Guests loved their centerpieces and competition for them was fierce.  I will be ordering more for the holidays!\", 'Date': '2012-09-16'} \n",
            "\n",
            "{'_id': ObjectId('67cc8d9f14becb6d21d9a221'), 'Id': 271305, 'ProductId': 'B000RWGA6E', 'UserId': 'A1G8USRY17IR1X', 'ProfileName': 'Michael D. Adams', 'HelpfulnessNumerator': 11, 'HelpfulnessDenominator': 11, 'Score': 4, 'Summary': 'Nice little charger', 'Text': 'When my grandfater passed away a little over a year ago, I took over his horse boarding operation. In his last few years, he had several people \"helping\" him with things around the farm - including fence building & repair. What I found, unfortunately, was an absolute mess.<br /><br />Before reviewing this charger, let me state that NO charger will work properly if your fence is in poor condition. My grandpa had a mix of wire, poly-tape, and poly-rope. His charger was connected to thin copper wire, and it was a \"continuous output\" charger, which should NOT be used with the polytape or rope. It will simply burn through them, which was happening a lot. A continuous output charger also does not allow some animals to \"release\" from the fence, so I was finding a lot of dead birds.<br /><br />In learning what I needed to fix the fence properly, I had a GREAT conversation with a technician at Fi-Shock. So big points to them on customer service. This guy knew what he was talking about, and gave me some fantastic advice on the wire I needed and the proper charger to use. I replaced the copper line that fed the fence with insulated, galvanized high-voltage line. I also replaced most of the poly-rope with tape. Initially I had an older intermittant charger, but found that the insulator was burned out and it was running in a \"continuous\" mode, too. That charger was putting out a full 4,000v and felt like a snake bite, but it actually caused a section of my fence to catch on fire!<br /><br />I purchased the Fi-Shock SS-550X charger through Amazon for a great price, compared to the MSRP. The other chargers we had were Fi-Shock and had held up well. Plus I appreciated their customer support and the information on their web site. Hooking up the charger was easy. I really like the green and red connector screws because they are easy to identify, and easy to use with gloves on. The charger also has a light which is easy to spot and which flashes to indicate the intermittant function.<br /><br />I have now had this charger in use for a couple of months, and it seems to be working pretty well. My only concern is that for @8 acres of fence, I\\'m only testing out at about 2 lights (2,000v) on my tester. Per the manual, that\\'s the expected number I should see. The charger is rated for \"1.2 KV +/- 20% open circuit voltage\" output to cover 15 acres, so it seems to be putting out the expected charge. It seems to be turning the horses for now, but I have NOT yet touched it yet (thankfully) to see how it feels. We just had an ice storm, and the SS-550X has hummed away while the fence was coated in ice - definitely a good thing! But for the keeping of four horses on 5 acres, I would like to have seen this charger be a little stronger (around 3k volts). When I would unhook my old charger, I\\'d get a little spark and the horses would jump. I liked that! They do not seem to register this one as much. I have my charger connected to two grounding rods to ensure I have a good ground.<br /><br />That said, my only real complaint - and the reason I have removed one star from my rating - is that recently the charger STOPPED working. Initially I could not figure out why. I checked the fuses, checked the fence, and checked the power source, but could not figure out the issue. Eventually I decided to just replace BOTH fuses (1/16 amp time-delay) with the extras from the package, which resulted in the charger working again. We had not had any storms in the area, so I can\\'t imagine what might have caused the fuse(s) to burn out. Oddly, NEITHER one looks to be blown, so I could not tell on visual inspection which one was bad. So it was a little disconcerting to see that my fence could go down all the way without some failsafe. I understand that the fuses are there to protect the charger in the event of a surge, but SOME indication they were blow - such as a failure light, a beep, or having the charger light turn red or something - would have helped tremendously. Fortunately I had the extra fuses, so I was back up and running quickly. But I have NOT been able to find the \"<a href=\"http://www.amazon.com/gp/product/B000FPAK00\">Time Delay Fuse, 1/16 Amp</a>\" at my local farm supply stores. If you are ordering the charger online, I would advise ordering extras.<br /><br />One final note: As a word of caution, this charger is intended for the keeping of livestock - not children. While a charged fence putting out @1500 volts may indeed keep unwanted animals and people off your property, it should NOT be implemented to keep children ON your property (as noted by the other reviewer). This charger has enough output to stop a human heart if the conditions are right.', 'Date': '2010-12-20'} \n",
            "\n"
          ]
        }
      ],
      "source": [
        "#Query 9\n",
        "#Search Type: Customer Service Mentions\n",
        "#Search Query: Finding reviews discussing \"customer support\" or \"customer service\" or \"warranty\"\n",
        "\n",
        "query9 = {\"$text\": {\"$search\": '\"customer support\" \"customer service\" warranty'}}\n",
        "results = collection.find(query9).limit(10)\n",
        "for doc in results:\n",
        "    print(doc, \"\\n\")"
      ]
    },
    {
      "cell_type": "code",
      "execution_count": null,
      "id": "e70f7fc5-7160-4497-90c8-ce2155526e65",
      "metadata": {
        "id": "e70f7fc5-7160-4497-90c8-ce2155526e65",
        "outputId": "45114a66-3dcf-4310-cae9-d0d1cf0d1c44"
      },
      "outputs": [
        {
          "name": "stdout",
          "output_type": "stream",
          "text": [
            "{'UserId': 'A1ADD2QAH9VUB9', 'Score': 5, 'Summary': 'These green capsules work flawless on my Delonghi machine and are tasty!', 'Text': 'I bought these pods along with the Delonghi Latissima 720 machine and they work flawless. They did fit the machine and are perfectly ejected after use.<br />It seems that some Amazon customers are giving bad reviews for this product because it is cheaper and it\\'s not Nespresso, which is not the point.<br />Firstly, these capsules are green and compostable. They cannot be a \"copy\" of Nespresso pods that are in aluminum, which is highly polluting. ECC capsules would be a \"copy\" if they were made in aluminum too!<br />Secondly, the ECC capsules are not that cheap, there is only a difference of 10 cents between Nespresso and ECC: I am not sure that people that bought a Nespresso machine and used to drink Nespresso pods are interested in a bargain of 10 cents because if they wanted to make real savings, they should have used ground coffee and stovetop espresso makers!!!<br /><br />As a result,<br /><br />THIS PRODUCT IS NOT FOR YOU IF:<br />* you already have your favorite Nespresso \"grand crus\",<br />* you like the look of the aluminum capsules,<br />* you love George Clooney Nespresso commercials and keep saying \"What else?\" each time you drink a Nespresso coffee,<br />* you have the feeling to buy something luxurious each time you go to Nespresso club and you like it,<br />* you don\\'t care about the planet.<br /><br />THIS PRODUCT IS FOR YOU IF:<br />* you don\\'t have a favorite Nespresso \"grand crus\", and you like espressos in general,<br />* you are not convinced by the recycling Nespresso thing because they did not try really hard to increase 5% of the total current recycled capsules(1),<br />* you think that ECC capsules is the answer to the Nespresso question \"What else?\",<br />* you like the idea of doing REALLY something to reduce the amount of polluting materials in your daily waste and think that recycling aluminum is not enough,<br />* you don\\'t care about the Nespresso club.<br /><br />(1) If Nespresso/Nestle did care that much about recycling, they would have entice their customers by giving them coupons for empty capsules brought back (as for the recycle of glass for example).<br /><br />Another thing, I saw a lot of reviews saying that these green pods do not work on Citiz or Nespresso branded machines. I am not even surprised. Nestle made everything he could to prevent the Ethical coffee Company to sell their products, but ECC found success in Europe since 2010. If this product was not working and was responsible for breaking machines, we should know it! As a consequence, I am not a conspiracy person but I would not be suprised that some of the bad reviews could come from Nestle itself. We are in an espresso-capsule-war, so this is business!<br /><br />P.S. 1 : I am not working for the Ethical Coffee Company and they don\\'t give me any money for rating their products. I am just a green costumer concerned about his carbon footprint.<br />P.S. 2 : The espresso taste is good! I used to drink espressos and ristrettos from semi automatic professional machines at work, but I did not want to do all the process by myself, so espresso capsule process is the perfect alternative for me! I am not a Nespresso aficionado so I am just talking about espresso here.<br />P.S. 3 : You have to firmly lower the level of your machine with these capsules. FIRMLY. The first time I tried, I was afraid time to break my Delonghi super expensive machine, but it\\'s ok. It\\'s seems to be due to the biodegradable capsule material that is less hard than aluminum (obvious).<br />P.S. 4 : It would be nice if the Ethical Coffee Company could put all theirs different products in a single degustation box, in this way you could choose your favorite flavors and only buy them. Because if you do not like the taste you are stuck with 49 capsules... it\\'s a bit rude!<br />P.S. 5 : It would be great (and logical) if the ECC capsules were really ethical: organic and/or fair trade certified.<br /><br />>>April, 25th 2012<br />After drinking ECC capsules for more than 2 months now, my conclusion is that -- at comparable intensities and blends -- the espresso tastes of both Nespresso and ECC capsules are good, and the differences between Nespresso and ECC are subtle. Since some capsules are compostable while other pollute like hell, I will stick with these green capsules because I hope soon to turn them (coffee+capsules) in compost for my palm trees.<br /><br />>>May, 2nd 2012<br />I\\'ve just started to compost the ECC capsules, I am very excited! The capsules should break down in 6 months according to the standard EN#13432.<br />I will let you know how quick they turn into compost! :)<br /><br />Go green!'} \n",
            "\n",
            "{'UserId': 'A2GCNU2XB1Z2GQ', 'Score': 3, 'Summary': 'Not Bad Taste - Packaging however.....', 'Text': \"The taste is good - the packaging however - not the best.  The pump sticks and there is virtually no way to take it off once it's screwed on - as it prevents the cap from being reversed - unscrewed once you put the pump on......  I had to keep pushing on the thing to get it to finally work.  I think I'd rather buy this stuff in the refrigerated section rather than having to worry about the pump not working and having to saw the thing off in order to use it!\"} \n",
            "\n",
            "{'UserId': 'A2N6JVF5MAYH5Q', 'Score': 1, 'Summary': \"Didn't work for me.\", 'Text': \"I'm not sure about all these good reviews. I used this stuff and had little to no effect. The bugs are practically eating this stuff and laughing at me. This year in NJ its been a bad year for bugs. Lots of spiders, stinkbugs, ants and termites. It seems the more I spray the more bugs I seem to get. Obviously this stuff is not working.  Thats my humble opinion anyway.\"} \n",
            "\n",
            "{'UserId': 'A3R5EAPPUTDKHL', 'Score': 5, 'Summary': 'it works', 'Text': 'it worked for me. the flavor is just so so not bad.  i used it when ever it seemed like i had less then she wanted, because of growing and on days that i was not working. spent about five days a way from baby(i pumped) but the amount deminished day by day.  i drank this for a while after i came back.  seems like it is delayed a little over 24 hour you get more milk on wensday after drinking on  monday afternoon.'} \n",
            "\n",
            "{'UserId': 'A1YZXE3DT9SFBH', 'Score': 5, 'Summary': 'Excellent Coffee, Excellent Value!', 'Text': 'I am very pleased with the San francisco Bay Coffee Breakfast Blend-the coffee has a nice flavor and it makes me very happy to know that the company utilizes less plastic in the manufacturing of this product.  It works well in my Keurig with no issues, and I have not had a bad cup to date.  I have previously had issues with some of the traditional K-Cups dumping grounds and occasionally not working correctly, but I am on my second box of these and not one has been defective.  Ordering with subscribe and save makes this a fantastic value as well!'} \n",
            "\n",
            "{'UserId': 'A3S4IWXSZCN9N7', 'Score': 5, 'Summary': 'Miracle product', 'Text': \"Ok I don't know about anyone else but for me this product is nothing short of miraculous.  The taste is OK...I make just as I would any old iced tea; by the pitcher. On occasion I drink it hot. It doesn't taste bad, doesn't taste great. The miracle is what it has done for my body! I controls my appetite and I've lost a lot of weight since drinking it.  This surprises me because my life has held a lot of tragedy this year which has thrown off my workouts.  I thought surely I would gain weight (adding another tragedy to the list) but I started drinking this and my clothes are fitting despite not working out as much. I hate that the shipping is so expensive but I just can't be without this stuff.\"} \n",
            "\n",
            "{'UserId': 'A3BSVEVBV9RZS2', 'Score': 3, 'Summary': 'Not working well for me in Bread Machine', 'Text': 'I\\'ve tried this product on it\\'s own in a bread machine and it didn\\'t rise.  Then I\\'ve tried it with a mix of other flours and the bread rises alittle but not like what I get with king arthur bread flour. All my ingredients are fresh and work with the store brand \"bread flour\" so if someone knows a secret to this, please let me know. I rated this 3 stars because \"It\\'s Ok\" and probably good for someone making bread by hand. I\\'m using a Westbend Hi-Rise. I have 3 bags left and would like to use it so feel free to email me or leave a comment. Maybe there is a simple adjustment but I don\\'t want to waste anymore ingredients on bad loaves.'} \n",
            "\n",
            "{'UserId': 'A4BW8R6D11GJN', 'Score': 5, 'Summary': 'WHEW, try and slow me down!!!', 'Text': \"I am doing P90X and I really didnt want to buy their recovery drink. I have heard some pretty bad things about it from taste to just not working. So I tried fast twitch because I love the muscle milk.<br /><br />Let me say that this stuff gets you going. I wake up at 530 to start working out and after I chug some fast twitch I am ready to go. Saw a noticeable difference in the amount of energy and reps I can do.<br /><br />Although I think it makes my heart race a little bit, maybe my body will start getting used to it, I'll keep you updated.<br /><br />The Grape tastes great IMO...\"} \n",
            "\n",
            "{'UserId': 'A2ZS2OMVRYECLG', 'Score': 1, 'Summary': 'Good once I fixed it.', 'Text': \"I gave this four stars because once I got it to work it was wonderful.  Does everything it says it does and is very handy to have.  BUT the problem was the same thing as everyone else, no drive shaft turning.  I also took it apart (easy) and just attached the belt to the gear and it works like a charm.  It's just too bad that they are losing customers because of some tiny malfunction because it is a BIG timesaver..  You would think they would try to fix the problem instead of letting their customers do it for them.  If I hadn't read the review on how to fix it I would have been VERY dissatisfied with this.  So I guess if you don't feel like taking a fifty fifty chance of it not working and don't want to have to fix something that is brand new, don't buy the baby Brezza.<br /><br />OK, now for an update.  I've had this thing for about three months now and I use it about twice a week, maybe for four or five different things a day.  Amonth ago I noticed a black liquid coming out of the drive shaft part when I took off the bowl.  I have always washed that part by hand and never put it in the dishwasher.  I guess this thing just isn't made to do what it's supposed to.  Now the drive shaft is completely stuck, it won't turn at all.  I also called Baby Brezza and no response.  I am majorly P.O.'d.  I also overlooked the blade sticking isuue because I just wanted to love this machine so much.  But now I know it is truly a piece of junk and I never should have bothered.  I fell in love with it because it worked so nicely and made everything so much simpler.  I will truly miss you.....tear ;)\"} \n",
            "\n",
            "{'UserId': 'A3RQ2W75EF9YF7', 'Score': 3, 'Summary': 'The \"instant ramen\" of the kimchi/kim chee world', 'Text': 'Note: I did not buy product from this site<br /><br />The good:<br />-product has the basic ingredients needed for kimchi seasoning.<br />-One bag will take care of one large kimchi cabbage(I can\\'t remember the actual name but its the huge leafy green traditionally used for this).<br />-Just add water & a little chopping action<br />-after day 3, it starts to smell and taste like the real deal (I followed the direction except for the salt water bath.. I just salted each leaf & let it sit for 30 minutes, then rinsed. I also added more mix from another bag cause I wanted to be sure the flavor would not be watered down.)<br />-It wont win any taste awards but it gets the job done if your tight on money & time (college students rejoice!)<br /><br />The bad:<br /><br />- Your not working with fresh herbs so the finished kimchi \"red stuff\" is watery rather than thick & rich red (I guess because you are working with a fine powder & only \"just enough\" to do one batch).<br />- if you\\'re looking for the kimchi \"look\" & taste you are used to from pre-made.. get ready to be disappointed. See above reason.<br />- I have seen flour used to make kimchi, there is none here.<br /><br />Side note: Nothing beats fresh made so my next adventure will be hunting down raw ingredients. That said, I don\\'t feel like I \"wasted\" my money.'} \n",
            "\n"
          ]
        }
      ],
      "source": [
        "#Query 10\n",
        "#Search Type: Product Defects\n",
        "#Search Query: Searching for \"defective\", \"broken\", \"not working\", \"bad\", \"spoilt\", OR \"spoiled\"\n",
        "\n",
        "query10 = {\"$text\": {\"$search\": 'defective broken \"not working\" bad spoilt spoiled'}}\n",
        "projection = {\n",
        "    \"UserId\": 1,\n",
        "    \"Score\": 1,\n",
        "    \"Summary\": 1,\n",
        "    \"Text\": 1,\n",
        "    \"_id\": 0\n",
        "}\n",
        "\n",
        "results = collection.find(query10, projection).limit(10)\n",
        "for doc in results:\n",
        "    print(doc, \"\\n\")"
      ]
    },
    {
      "cell_type": "code",
      "execution_count": null,
      "id": "a8a4ed53-62fd-4a4e-b0f4-86ef17b1a969",
      "metadata": {
        "id": "a8a4ed53-62fd-4a4e-b0f4-86ef17b1a969",
        "outputId": "b9ee7f07-810b-4544-ee45-164941591930"
      },
      "outputs": [
        {
          "name": "stdout",
          "output_type": "stream",
          "text": [
            "{'UserId': 'A12H2Q6ZC5DEC9', 'Score': 1, 'Summary': 'cheap', 'Text': \"Not worth the money... cheap... smaller than the size of a shoe box... the whole thing is over priced and only worth half what it is selling for. Don't waste your money on this.\"} \n",
            "\n",
            "{'UserId': 'A1Z2TSPH4R2ET1', 'Score': 1, 'Summary': 'Cheap & Unreturnable!', 'Text': 'I was disappointed when I recieved this set, which was to be a gift for a friend. The packaging looked so much nicer online. In fact, the basket is cardboard and the products are very cheap. The sisal body sponge was torn and frayed! The product description is very misleading and I would be embarrassed to give this as a gift! I tried to return it, but it was not returnable! The product is cheap, not worth the money, and the whole experience was very frustrating.'} \n",
            "\n",
            "{'UserId': 'A3OVMTZY195ZCQ', 'Score': 1, 'Summary': 'Cheap bad tasting off brand products with even products missing', 'Text': 'I bought this gift as an house warming present and was pretty upset when it was openened. We all were upset when we tried the products. All the products were from a cheap \"off brand\", definitely not the products that are shown in the picture and a total ripp off. The cookies weren\\'t edible, we didn\\'t even finish the sausage as it tasted awful, the cheese spread was a cheap rip off and nasty, even squirt cheese tasts better. There were products missing in the package which were mentioned in the desciption. The only thing that was good and pretty nice was the cutting board. It was a total disappointment and definitely not worth the money!'} \n",
            "\n",
            "{'UserId': 'A2BQR4NADTXJ34', 'Score': 1, 'Summary': 'NOT worth the money', 'Text': \"you would expect soething worth the $20, but instead I got a cheap jar that has 50 cents worth of candy and had to pay $8 for shipping, that was a rip off. A jar of Tylanol the same size is less than half of what I paid for this cheap product, I've never been so disappointed.\"} \n",
            "\n",
            "{'UserId': 'A2MEWTNCEBOYEH', 'Score': 1, 'Summary': 'Not worth the money', 'Text': 'OMG..these bully sticks are so cheap looking - very thin.  It took my dog less then 3 minutes to chew one.<br />I usually  try to find thicker bully sticks so they last longer and my dog can get a better chew.  I usually buy them from bestbullysticks on Amazon and I will totally go back to them no matter what their price is.  Their bully sticks are nice and thick!!!!! I will NOT buy these again from this vendor again - to thin and cheap looking for a $1 a stick.'} \n",
            "\n",
            "{'UserId': 'A19JDXB5R33C7R', 'Score': 4, 'Summary': \"A darned good Mother's Day gift\", 'Text': 'I bought this product, the \"Art of Appreciation Gift Baskets Decadent Chocolate Truffle Treats\", for my wife for Mother\\'s Day.  My wife has reached the point in her life where she doesn\\'t like me to buy her jewelry very much (\"I have more than I can wear now!\"), and while flowers are nice, a guy can\\'t just get his girl flowers on every occasion.  But good chocolate ... now there is something she\\'s never told me she\\'s gotten too much of.  :-)  With that in mind, I searched around to find a chocolate gift basket for her, and this one looked like it would fit the bill.  Below are my ... well, her ... impressions.<br /><br />- All of the chocolate treats are of good quality.  By that I mean there are no cheap chocolate fillers.  And there was a decent variety of items to sample.<br />- Some of the boxes don\\'t have nearly as much product inside as the size of the container would suggest.  However, she tells me that the amount of treat for each was just right, enough to be satisfying, and gave her a good sample of the item.<br />- The gift basket was presented well, and was attractive.  The contents rested on shredded purple paper inside of a red tin basket, was enclosed in cellophane, and tied with a bow at the top.  She intends to re-use the tin basket when making a gift for another occasion, so it\\'s not cheap looking or junky.<br />- While a little on the pricey side, when you consider the quality of the treats and the overall presentation, I would say this gift basket is worth the money.<br /><br />Taste in chocolate is like taste in wine ... it can vary widely between individuals.  While none of the treats here struck her as \"Omigosh, get me more of this!\", she liked them all, and appreciated this as a gift.  Four stars.'} \n",
            "\n",
            "{'UserId': 'A30FU84A345TN2', 'Score': 5, 'Summary': 'Yum!  And cheap!', 'Text': \"If you've ever overpaid for a tiny bag of panko in the grocery store, consider stocking up on these excellent crumbs.  They are well packaged for long term storage (inner zipper bag inside box) and handle and taste great.  Well worth the money, especially if you get them on prime.  And yes, we cook constantly and have tried many different brands.\"} \n",
            "\n",
            "{'UserId': 'A1XMESDTSSRZHJ', 'Score': 2, 'Summary': 'CHOCOLATE TASTES CHEAP', 'Text': \"I thought I was purchasing a high quality item but it's not all that. The chocolate is very sweet and as you chew on this product you can tell the chocolate is loaded with sugar by the crunchy texture. I'm going to say it's not worth the money and I'm not satisfied.<br />At the same time of purchasing this product I also bought Sunmaid chocolate covered raisons which I rate from a 1-10...a 10. Now we are talking about yumminess!!!!!<br />So customers...if you are going to choose...let it be the Sunmaid...you won't be dissappointed\"} \n",
            "\n",
            "{'UserId': 'A3RIXRUNUJY8PQ', 'Score': 1, 'Summary': 'Review for phillips espresso machine', 'Text': 'This espresso was broken when we received it. This machine is Not worth the money. It is plastic and cheap.'} \n",
            "\n",
            "{'UserId': 'A2BJW69NMHS9YG', 'Score': 2, 'Summary': 'TUG PULL IS THIN CHEAP RUBBER, NOT A ROPE LIKE PICTURE SHOWS.', 'Text': 'My puppy chewed through the rubber tug pull within a few mins.<br />Not worth the money.'} \n",
            "\n"
          ]
        }
      ],
      "source": [
        "#Query 11\n",
        "#Search Type: Pricing Mentions\n",
        "#Search Query: Searching for \"overpriced\", \"cheap\", \"expensive\", \"worth the money\"\n",
        "\n",
        "query11 = {\"$text\": {\"$search\": 'overpriced cheap expensive \"worth the money\"'}}\n",
        "results = collection.find(query11, projection).limit(10)\n",
        "for doc in results:\n",
        "    print(doc, \"\\n\")"
      ]
    },
    {
      "cell_type": "code",
      "execution_count": null,
      "id": "c7239412-89a0-4c5f-870f-d74d49d57ee2",
      "metadata": {
        "id": "c7239412-89a0-4c5f-870f-d74d49d57ee2",
        "outputId": "109ffb4b-8465-4b85-afad-64921e0589e9"
      },
      "outputs": [
        {
          "name": "stdout",
          "output_type": "stream",
          "text": [
            "{'UserId': 'AMIR2WW0TTEFI', 'Score': 5, 'Summary': 'Glad I could order again. Missed my tea!', 'Text': 'I had been of this tea about a month I guess. Well I ordered again, friday Night and Tuesday mail had a pkg for me. (better than the delay with my normal vendor, im changing). I really did miss it and the energy and good feelings I get from drinking this tea. It is a pleasure to drink, I love the flavor also. It would be good to drink even without the benefits but in my case the benefits are numerous and I wouldnt and dont have a problem recomending this to friends or the curious.<br /><br /> Vendor=fast shipping, makes the difference for me and decent prices that I see went up everywhere.<br /><br />  The coca Tea will speak for itself.'} \n",
            "\n",
            "{'UserId': 'A2J750Z7NAR4IG', 'Score': 3, 'Summary': 'Super fast delivery', 'Text': 'Fast shipping. This snack is very tasty if you like slightly spicy.<br />My only issue is the packages are very small, bite size. Expensive for the amount you get. Larger packs would have earned it up to five stars.'} \n",
            "\n",
            "{'UserId': 'APEELAPXJKVX2', 'Score': 5, 'Summary': 'Beautiful arrangement and fast delivery', 'Text': \"I haven't seen any of the 3 arrangements that I've sent from Falcon Farms, but all the recipients have raved about them.  Very fast shipping, too.  One of these days I'll order one for myself!\"} \n",
            "\n",
            "{'UserId': 'A39PLV0ZAQ7UAX', 'Score': 5, 'Summary': 'Satisfied by delivery time, quality, and taste!', 'Text': 'Fast shipping, always service and a really great taste! What more could one ask for!!!'} \n",
            "\n",
            "{'UserId': 'A1ESMCS5K94YNG', 'Score': 5, 'Summary': 'Great price, fast delivery, perfect almonds', 'Text': 'We bought these to make traditional wedding favors.  They were large almonds, thick sugar (made them a little too sweet, IMO, but prevented cracking), almost every single one was in usable condition.  Fast shipping, great packaging, highly recommend.  By far the best price/value choice of any of the Jordan Almonds I saw online.'} \n",
            "\n",
            "{'UserId': 'A334J99IEXFFSW', 'Score': 5, 'Summary': 'Wonderful', 'Text': 'A consistently good product. Fast shipping, great pricing, and best of all on auto-delivery. A must buy for seed-aholics out there!'} \n",
            "\n",
            "{'UserId': 'AB6FOJ6DA3NV5', 'Score': 4, 'Summary': 'Good quality', 'Text': 'Very good quality, and super fast shipping. Product was exactly as described.  The delivery service treated the product a bit rough.'} \n",
            "\n",
            "{'UserId': 'A1SM4V2XVULQIE', 'Score': 5, 'Summary': 'I love these!', 'Text': \"Fast shipping and already devoured.  I've tried the Just the Cheese Nacho, Wisconsin, and Ranch styles thusfar.  Ranch is my all time favorite.  I'm going to have to increase the frequency of their delivery!\"} \n",
            "\n",
            "{'UserId': 'A1SM4V2XVULQIE', 'Score': 5, 'Summary': 'I love these!', 'Text': \"Fast shipping and already devoured.  I've tried the Just the Cheese Nacho, Wisconsin, and Ranch styles thusfar.  Ranch is my all time favorite.  I'm going to have to increase the frequency of their delivery!\"} \n",
            "\n",
            "{'UserId': 'A1SM4V2XVULQIE', 'Score': 5, 'Summary': 'I love these!', 'Text': \"Fast shipping and already devoured.  I've tried the Just the Cheese Nacho, Wisconsin, and Ranch styles thusfar.  Ranch is my all time favorite.  I'm going to have to increase the frequency of their delivery!\"} \n",
            "\n"
          ]
        }
      ],
      "source": [
        "#Query 12\n",
        "#Search Type: Delivery Experience\n",
        "#Search Query: Searching for \"fast shipping\", \"delivery\", \"delayed\"\n",
        "\n",
        "query12 = {\"$text\": {\"$search\": '\"fast shipping\" delivery delayed'}}\n",
        "\n",
        "results = collection.find(query12, projection).limit(10)\n",
        "for doc in results:\n",
        "    print(doc, \"\\n\")"
      ]
    },
    {
      "cell_type": "code",
      "execution_count": null,
      "id": "a77f00c5-5060-466e-a11c-24f491923271",
      "metadata": {
        "id": "a77f00c5-5060-466e-a11c-24f491923271",
        "outputId": "6e9397e5-d8fb-446a-8894-5435a80ffee5"
      },
      "outputs": [
        {
          "name": "stdout",
          "output_type": "stream",
          "text": [
            "{'UserId': 'A3F1G6UH4Y39X2', 'Score': 5, 'Summary': 'Wild Skipjack may be my favorite FOOD!', 'Text': 'Here\\'s a thank you to Smashing Wool\\'s [and another one] review for noting the can lining for this tuna is BPA-free.  I was wondering about that; I\\'m glad I took time to reread that review prior to posting mine. [As will be evident, I read and benefited from each of the reviews here when I posted mine. Thank you!]<br /><br />I was sparked by SW\\'s reminder of different ways to use tuna besides immediately snarfing it out of the can [one of the reasons I was curious about BPA].  Sometimes I leave some in the can and dump the rest into a pretty glass bowl, then snarf it after setting the can down for Arzel, my godly cat. She has to wait for what I leave in the can for her when I use the first method [I don\\'t like to torture my cat with that type of wait].<br /><br />I love this tuna so much and have missed real tuna for so many years of increasing takeover of soybean ooze, I dropped back to inhaling this TUNA unadulterated, after I [thank God, Jeff Bezos, and Amazon Customer Reviews] discovered this divine presentation.<br /><br />In my first purchase I bought the <a href=\"http://www.amazon.com/gp/product/B002EYBB3A\">Wild Planet Wild Albacore Tuna No Salt</a>. It sold me on all counts of its advertised positives, including the fact that the can is packed with big chunks of tuna MEAT which hasn\\'t been smashed down into mush with lots of limp water and/or tons of soybean oil sludge.<br /><br />The Albacore was PRIME, but I missed the uniquely natural, intensely healthy saltiness which identifies tuna to me [anyone interested could read Dr. Batmanghelidj\\'s book, <a href=\"http://www.amazon.com/gp/product/0970245823\">Obesity Cancer & Depression</a>, if he wants to know about the healing qualities of the right type of salt]. So I tried this Skipjack version to see if it had more of the SALTY tuna taste I crave.  A habit suddenly dissipated, a habit I had worked into with the Albacore, after a few cans of Skipjack had been digested unadulterated, with YUM in every bite.<br /><br />In my long ago history of a sort of youth, when I could still see what tuna MEAT looked like in the can by evidence of it from a few un-smashed chunks big enough for human vision to register... way back then, I relished mixing mayo, chopped onions, garlic, celery, and sweet Gerkin\\'s, etc., into canned tuna, for a sandwich or salad.  Yeah, as a 1947 born Baby Boomer I also made curried tuna casseroles and fresh dill laced pot pies; I prepared tuna in black-olive-and-mushroom studded, black-peppered gravy [or topped with chopped onions and melted Swiss cheese], and generously slipped it over a fully toasted bun or bagel, etc.<br /><br />With this new dozen can collection of this Skipjack tuna, I found myself wanting to renew and expand that almost sacred recipe-rhapsody, minus soy, plus old-days healthy mayo; minus freshly-conjured, GMO-miasma-dredged additives; minus waste products declared illegal to touch or breathe being dumped into food products; you know, minus all that crud intelligent insects crawl away from when they\\'ll live and flourish on genetically unmodified crude oils.  Other much older living Kindoms like bacteria, viruses, fungi, insects, etc., maybe have developed a type of sentience, even wisdom we might not ever achieve, though I do have hope [not the fake-hype type].<br /><br />Oops. I may have turned over the tuna box and set my feet onto it, lol. Maybe that\\'s a hint I should look for some organic, non GMO, no soy soap?<br /><br />ANYway.  I searched Amazon for an organic, no GMO, NO SOY mayo so I could begin to reconnect with my yums of youth, which I may have never actually had... I did have honest \"yums\"; it\\'s the youth I question.  I may be getting one of those now, an attitude of youth, even though I\\'m dying from anti-nutrients not only passed off as, but pushed as \"food\"?<br /><br />Let the blessings begin, though they probably began with this Slipjack tuna. Here\\'s the blessing I discovered and bought [which I hope I live long enough to review with high level rapture]:<br /><br /><a href=\"http://www.amazon.com/gp/product/B000XH8T8U\">Wilderness Family Mayonnaise, Certified Organic, 16 fl. oz. jar</a><br /><br />That mayo and its family of producers is clearly blessed.<br /><br />But this Skipjack tuna is so good, I finally quit adding even this mayo to it [not to worry, this type of mayo has a universe full of yum-and-yell \"yes!\" uses].<br /><br />I take time to scoop the solid tuna meat out of the can and into a cut-glass, fancy dish only to leave some of it in the can for Arzel, though sometimes I put hers in cut-glass, too... until I realized she likes the can method because she can lick the tuna juice clean off the inside... which brings us back to what inspired this comment turned review:<br /><br />Thank you, SW, for each detail in your review, especially for answering the BPA question I had in the back of my mind when I took time to reread.<br /><br />As has been becoming a new habit, I meant to make a brief, off the top comment under a review I particularly appreciated, and ended up with more than the review I intended to write next.  Maybe there\\'s some type of magic in a comment box which works for me even better than the review form, though I like the ease of that setup, too.<br /><br />I opened a can of Skipjack before heading out to a local cafe for breakfast this morning; forked lifted some of the thick, lusciously dense meat into my cut-glass bowl, and left a good portion in the can for Arzel. I snarfed up several bites  [from my bowl] before storing the remainder in the fridge. I considered eating a <a href=\"http://www.amazon.com/gp/product/B000EO0XAO\">Larabar Ginger Snap</a>, too, in defense against the varieties of soy I would be eating next, but didn\\'t want to upset my appetite for a DENNY\\'S senior omelet. Hey! DENNY\\'s is an icon from my youth. I wouldn\\'t abandon it in its struggle through the dark ages of soy. [During one of my Dark Ages in February 1985 in Portland, Oregon, a Denny\\'s ambiance, one-egg-breakfast helped lift my spirit out of a black hole. I began writing my first novel there, that morning, truly on the back of an envelop.]<br /><br />I believe in getting a healthy core of food into me whenever possible, to counteract the soybean overwhelm I always try to work my soul around when eating in cherished restaurants of various types and locations, where I set up my <a href=\"http://www.amazon.com/gp/product/B004LB4A32\">Samsung NF210-A03 10.1-Inch Netbook</a> and type, type, type.<br /><br />[Actually my beloved do-everything netbook, which I bought from Amazon, is a Samsung N220 Plus, but it\\'s not available here currently, so I linked a comparable one above.]<br /><br />Someday maybe GM enhanced Organisms will connect their significant intelligence with some of the innocent good people residing within the GMO soybean pushers paradigm... and communicate to them what REAL FOOD is and precisely why it\\'s real. Maybe that core of realism will spread... like a good virus?<br /><br />Maybe the trick would be to have the good guys [caught in the soybean web con] alternate bites from a regular can of smashed soy tuna, with bites from this offering of WILD SKIPJACK.  YES!!!!<br /><br />Taste buds do have sentience.<br /><br />I\\'m just saying...<br /><br />I\\'m too old to use that expression, LOL!<br /><br />Linda Shelnutt'} \n",
            "\n",
            "{'UserId': 'AV2UFRMTLL0MI', 'Score': 5, 'Summary': 'Perfectly packaged popcorn for single people', 'Text': 'Say that 10 times fast! It\\'s true though. They really put just enough kernels in the bag to satisfy you without feeling like you should have made 2! I love the Kettle Korn flavor too! If you\\'ve never tried it, you don\\'t know what you\\'re missing. It can be very addictive so maybe you better not try. Neah! Go right ahead! It\\'s popcorn - a great healthy snacking alternative to chips, candy, and other junk food.<br /><br />Tip: It says not to use the popcorn button on your microwave which is good advice but if you check that booklet thingy that came with yours (if you can remember which drawer it\\'s buried in) you might find that your popcorn button has multiple size settings like my Samsung model does. All it takes for me is to press the popcorn button 3 times to select \"Snack size\" and it comes out perfect every time - none burnt or scorched and only a few kernels unpopped.'} \n",
            "\n",
            "{'UserId': 'A18SUMK4D1VNJ2', 'Score': 1, 'Summary': 'Ritz crackers made in China!!!!!!', 'Text': 'Where to start~~ First of all I would like to say I have always loved Ritz crackers. Secondly I believe I\\'m at fault by not reading the reviews before I purchased this product. With a one and one half star out of five, I should\\'ve spent time in reading the reviews and why it didn\\'t have a better rating. No one as of yet has mentioned the fact that it\\'s not the same Ritz cracker that you would buy in the grocery store, at least to my knowledge. This product is clearly marked \"made in China\". There is no information on the website I could find that said this was an imported item. Thirdly, as other reviewers have mentioned, a lot of the product (package crackers) are broken as the other reviewers have mentioned. Last but not least-the taste. To me, who\\'ve been eating Ritz crackers ever since they came out, the taste is totally different than a partial box of Ritz crackers I had in my cupboard. The only way I can describe this is more of a wheat like taste very unlike the original American made Ritz cracker. I have to say though, that Amazon.com customer service was very good about this and refunded me the money I spent as I am a person who believes in buying as much American-made product as I can. I am not a complainer and most of the items I\\'ve received from Amazon\\'s gourmet foods have been packaged well and are as described on Amazon.com\\'s website accurately. If you are Chinese, please do not take offense to this as most of the electronic items in my home (name brand items like Samsung etc.) are made in China or another country outside of the United States. When it comes to food however, I prefer to stick to America-made products exclusively-does that make me a bad person?.<br /> I never thought at my age ( almost 70 years old and disabled) that I would be spending time writing reviews although I\\'m aware that most Americans would like to know where their food is made. That\\'s about it and good luck shopping.'} \n",
            "\n",
            "{'UserId': 'ACJT8MUC0LRF0', 'Score': 5, 'Summary': 'This is a premium roasted seaweed that is an exellent snack or cooking supplement ...', 'Text': 'Everyone familiar with seaweed knows that is has a high nutritional value and can be either used in cooking or as a snack.  There are several different varieties and this one is a green seaweed.  Each piece is rolled wafer-thin and is approximately 2 1/2\" x 3 /2,\" a dozen pieces per tray.  They are in individual trays, each packed with a Samsung silica-gel packet to keep them crisp and dry.  There are nine sleeves with three trays in each.<br /><br />INGREDIENTS:<br /><br />Seaweed, corn oil, salt, sesame oil<br /><br />Nutritional Facts<br />(One .017 oz tray)<br /><br />Calories  30<br /><br />Total Fat 1.6g<br />  Saturated Fat 0g<br />  Trans Fat 0g<br /><br />Cholesterol 0mg<br /><br />Sodium 75mg<br /><br />Total Carbohydrates 2g<br /><br />Dietary Fiber 2g<br /><br />Sugars 0g<br /><br />Protein 2g<br /><br />NOTE:  Each package carries a cautionary note that claims that the seaweed is processed in a \"facility that also processes milk, eggs, fish, crustacean, shellfish, tree nut, peanuts, wheat, soybeans, shrimp and sulphites products.\"<br /><br />There is a relatively low sodium content,but these have a very salty taste.  For the snacker who craves salt, but not the calories that other snacks offer, this premium roasted seaweed would be ideal.  After eating a package my salt craving virtually disappears.  They can also be used to add to soups or a side additive to your rice or sushi.  The trays are a little larger than I expected, but can be used by the gourmet on the go.'} \n",
            "\n",
            "{'UserId': 'A2YQR3A1S9A571', 'Score': 1, 'Summary': 'Not Kindle compatible.', 'Text': \"Unfortunately Amazon sent me a Fresh Whole Rabbit that was not in the Kindle format. When I tried to load the Fresh Whole Rabbit into my Kindle for some nice, relaxing, late-night reading... well, it's kind of gross now and my Kindle won't power up at all. Wouldn't have this problem if I'd gotten the Sony...\"} \n",
            "\n",
            "{'UserId': 'A3SKEOKLC1I8VS', 'Score': 1, 'Summary': 'Completely melted... waste of money', 'Text': \"I guess it's my fault for ordering chocolate online... but these arrived completely melted. I am not sure whether I can return this or not but I was really looking forward to eating these. I ate samples at the Sony Ericcson Open this year. And watching the Roger Federer airport commercial on TV made me really want to get these. I got so excited when I got the package only to be super disappointed :(\"} \n",
            "\n",
            "{'UserId': 'AC1F44HJEB1BV', 'Score': 5, 'Summary': 'The best custard in town!', 'Text': \"It's addictive!! Actually I am fond of Jane Austen movies. I've seen Sony Classic Pictures Persuasion many, many times. I noticed, in a luncheon scene after Anne's family moves to Bath, that the family was eating custard and it looked so yummy. So, I looked up English Custard and voila! Devon custard is the greatest in a parfait glass with whipped cream on top. Mmmmm. There's nothing like it!\"} \n",
            "\n",
            "{'UserId': 'A2RAEFX1IMVYOI', 'Score': 4, 'Summary': 'Quick, Easy, Durable, Touchy', 'Text': \"I've had this product for 6 or 7 months at this point and I use it for podcasting. I've used 3 different mics one was dynamic and the other two condenser. All three have worked just fine as if I had plugged them into a mixer or a PA system, no problems. I have also beaten the crap out of this thing, knocked it around way too much and left it on the floor at my desk where I record, no problems still runs fine and it's not showing any signs of stopping. This thing is also super easy, plug and record on any software including the free Audacity software, Garage Band, and Sony Acid (the three I've tested)<br />One problem, that gain knob, while very useful, is super super touchy. I found a volume I liked and then taped it down, otherwise it'll jack up or down the gain with the slightest jostling. Doesn't make this a bad product, it just means have some tape handy and this is a quick and easy solution especially for podcasters who don't want to be limited to the USB microphones and don't want to shell out big money for a USB compatible mixer.\"} \n",
            "\n",
            "{'UserId': 'A3OHLO0MWCZ0VJ', 'Score': 5, 'Summary': 'Price way too high for Amazion', 'Text': 'In the store you buy 3 for $12 Thats $4 a pack, But you pay sales tax. The Reason i want to advoid paying Sale taxes with free shipping i want to fire my local Sheriff.His deputies are very unprofessional they call you by your first name instead of sir and they break every law in the book. You name it. Speeding non emergency Running though red lights non emergency. Park at the fire lane at a local publix to get groceries. And they even get autographs at the Stadium while every fan was restricted not allowed near the visting teams bus outside the stadium. The Sheriffs name is Ken Mascara of St Lucie county. The Deputy was very rude when he pulled me over for accidenly leaving my brights on. I told him that,Instead he called me by my first name instead of sir and he replyed \"\" I dont belive you and i dont care\"\" and it cost me $115 total for my ticket. His Mother works at St Lucie bowling lanes and she wont even ask him to visit me, So i can workout the problem. I even went to Deputy supevisor at Fort Pierce and he wont let me see the sheriff cause hes afraid the Deputy might get fired. The only way to fire them is stop paying the local 0.5% local sales tax that the lame stupid voters on avenue D in Fort Pierce. So i decide to look at Amazon.com. I bought video games,Movies and TV Sets with free Shipping.I even bought Sony Playstation 3 with free shiping with No Sales taxes.So,,Sheriff Mascara if youre reading this i like to speak to you personaly see if i get this problem worked out against Deputy Ron.'} \n",
            "\n"
          ]
        }
      ],
      "source": [
        "#Query 13\n",
        "#Search Type: Brand-Specific Search\n",
        "#Search Query: Finding reviews mentioning popular brands like \"Samsung\",  \"Sony\"\n",
        "\n",
        "query13 = {\"$text\": {\"$search\": \"Samsung Sony\", \"$caseSensitive\": True}}\n",
        "results = collection.find(query13, projection).limit(10)\n",
        "for doc in results:\n",
        "    print(doc, \"\\n\")"
      ]
    },
    {
      "cell_type": "code",
      "execution_count": null,
      "id": "e524b2e3-ce10-4cbe-aaad-dcf7fd77ff9a",
      "metadata": {
        "id": "e524b2e3-ce10-4cbe-aaad-dcf7fd77ff9a",
        "outputId": "27e1d33c-dd63-4bfe-e9c9-499e223c9729"
      },
      "outputs": [
        {
          "name": "stdout",
          "output_type": "stream",
          "text": [
            "{'UserId': 'A2J9SOT1HCPJH7', 'Score': 5, 'Summary': 'Better than Better Than Gourmet', 'Text': \"After using this brand of stock/sauce starter, I've always been disappointed in any other brand.  More Than Gourmet products get harder and harder to find, as Whole Foods and a local market used to carry the larger sized items.  More Than Gourmet makes everything I use it for better than it would be without it.  Make your cooking taste better!  Use this product!  From Your wanna-be chef.\"} \n",
            "\n",
            "{'UserId': 'A3D4MFMTZRNXJ4', 'Score': 5, 'Summary': 'Better Than Milk... is better', 'Text': \"I have my 3 boys on a Gluten/Casein Free Diet!  I used to buy three different kinds of GF/CF milk.  They each liked a different kind.  Then I read about Better Than Milk Rice Milk in the; Special Diets for Special Kids book and gave it a try.  All three of my boys love it! I don't have to lug heavy cartons of milk home anymore.  The only tip I have it to make it in the blender, the powder mixes in better that way.  We are hooked now!\"} \n",
            "\n",
            "{'UserId': 'A26EQ8U96JA92T', 'Score': 3, 'Summary': 'Better than Soda but NOT Better for you.', 'Text': \"Switch markets itself as an alternative to soda.  It is essentially carbonated fruit juice with no added sweeteners.  I do agree that if you are a person who drinks a lot of soda or have  child who does, switching to his would be the better alternative.<br />BUT - this drink is not healthy by any means, the amount of fruit juice required for it's tastiness results in a HIGH sugar and calorie content for a fruit juice.  You would not want to drink 5 of these in a day and the better option would be a piece of fruit with less calories and sugar.<br /><br />I do love the black cherry flavor best!\"} \n",
            "\n",
            "{'UserId': 'A1WX42M589VAMQ', 'Score': 5, 'Summary': 'Better than the original \"nests\" I got a few years ago, much better!', 'Text': 'I don\\'t know if they changed the recipe for the better of if the new shapes I tried (this one and the lasagna) simply work better, but man, these are great.<br /><br />In the earlier days of FiberGourmet, I had tried the fettucine nests (regular and two flavored types) and really, they were just okay. The fiber was nice, the firmer texture is nice (I\\'m an al dente fan and hate mushy pasta), but it had a sort of grittiness and blandness that was only tolerable under lots of sauce and cheese.<br /><br />But since I have been trying to increase my hubby\\'s fiber intake (and I prefer high-fiber pasta for myself), I decided a couple months ago to try a few new things from FG: the cheese crackers, the rotini, the lasagna.<br /><br />I tried the lasagna first and it came out terrific. I needed a box and a half for my normal lasagna size, but the texture was beautiful and held up under microwaving as leftovers.<br /><br />The cheese crackers will be a staple for me. Amazing crunch and very like Cheez-Its (a bit more tangy or bitter, but with a better crunch and superb fiber count).<br /><br />The rotini is one I need to reorder, as I\\'ve gone through the 6 boxes already. It has paired beautifully with marinara and with lite alfredo sauce, and it was excellent in an improvised supper of the rotini with artichoke hearts, garlic, EVOO, spinach, and parmesan.<br /><br />The spaghetti stays very firm, which takes a tad bit of getting used to for me, but hubby liked the texture. Went just fine with marinara and meatballs and even better for me as leftover, as it didn\\'t get mushy at all and had nice \"tooth feel\". I made it with oil and garlic and hot pepper flakes it was delish. I also had it with vegan sloppy joe (textured soy) , cheddar, and tomato bits and it was very good.<br /><br />I do find I get quite a bit of gas when I have a generous serving, so I only eat it when I know I don\\'t have to be out and about. :)  But that\\'s a minor issue for me, as the high fiber and excellent firm texture and improved (imo) flavor from the original pasta they had.<br /><br />The price is a bit mad. One package of the spaghetti, for instance, is very slight. Only half pound (for those used to full pound spaghetti boxes). So, I used both boxes so I\\'d have leftovers for a couple days for me and hubby. Somehow, I don\\'t understand why the equivalent size to a standard spaghetti box has to be like five to six times as much (since I can get a box of spaghetti of decent to good quality locally for a buck to a bit more). These, at this amazon price of 18 bucks for six samplers, means each box averages 3 bucks. Two boxes of spaghetti to make one pound--6 or more bucks for that quantity. Nuts. It\\'s PASTA! They\\'re adding fiber, not truffle oil!<br /><br />A thumbs up. It may not suit a true pasta gourmet, but it makes me very happy...except for the price. But, well, even Dreamfields (my previous higher fiber pasta, which I\\'ll still buy from time to time) isn\\'t cheap compared to the regular pastas<br /><br />Enjoy.'} \n",
            "\n",
            "{'UserId': 'A1JJTBL2JYPH00', 'Score': 5, 'Summary': 'Better bags', 'Text': 'These are way better than the other more expensive ones Madella,  the plastic feels better and more area to write on,  Although they do not fit the adapter for the other one, These do have a better zip-lock and lay flat in the freezer, for better storage.'} \n",
            "\n",
            "{'UserId': 'A3OD2IMXLKDK83', 'Score': 5, 'Summary': \"Couldn't Be any Better\", 'Text': \"I have tasted all the Tortuga Rum Cakes.  I don't see how they could be any better!  They are fresh, satisfying, and delicious. They make great gifts.  I make a great rum cake myself, but can't make it any better than the Tortuga cakes.  And, they take me back to the beautiful Caribbean.\"} \n",
            "\n",
            "{'UserId': 'AHM8CGKRVJ16', 'Score': 4, 'Summary': 'better than most', 'Text': \"I really like the Kashi bars as they are not too sweet, they have interesting flavors, and they actually help me feel satisfied when I can't break for lunch.  I used to eat Quaker bars all the time, and these are much better tasting and do the job of filling me up better.\"} \n",
            "\n",
            "{'UserId': 'AFZILYQ3IMG9G', 'Score': 3, 'Summary': 'better than average but difficult to find better', 'Text': \"Dark chocolate is all about marketing and has little to do with quality. Chocolate connoisseurs know better but constitute a small fraction of the gourmet consumer base.<br /><br />Godiva chocolates are delicious and have a wonderful texture. They taste better than Sees Chocolates. Unfortunately, they just don't satisfy my chocolate craving.<br /><br />It's a shame what qualifies as chocolate here. In the US, dark chocolate must contain 15% chocolate liquor; European rules require 35% cocoa solids. American milk chocolate must contain 10% chocolate liquor; European standards require 25% cocoa solids. That means American milk chocolate is 90% not. No wonder those drug store easter chocolates taste so horrible.<br /><br />The ingredients of Godiva are far from top notch. At the prices they charge, it's a crime that Godiva uses artificial vanilla (vanillin), palm kernel oil, lecithin, preservatives, and artificial flavors made in some factory off the New Jersey Turnpike. I doubt real vanilla costs that much more per box of chocolates.<br /><br />Get a Valrhona pure chocolate bar (see other comments on where to purchase or buy conveniently from Amazon). They make one which contains 85% cocoa!\"} \n",
            "\n",
            "{'UserId': 'A26HFSVLAGULIM', 'Score': 4, 'Summary': \"THEIR COLUMBIAN COFFEE IS BETTER --  BUT THIS  'ALL PURPOSE' VARIETY IS STILL BETTER COFFEE THAN OUT OF A VENDING MACHINE\", 'Text': 'BETTER COFFEE THAN OUT OF A VENDING MACHINE<br /><br />It is supposed to be \"better coffee than a millionaire\\'s money can buy\" according to the jingle I heard countless times on radio and TV in the 1960s. Well, let\\'s not get carried away.<br /><br />This coffee is reputed to have been used daily in Manhattan for decades, since 1932, at the \"Chock Full O\\'Nuts\" coffee shops that peppered Midtown for nearly half a century until 30 years ago. We can, of course, still purchase it at our local grocery. It does have a strong but somewhat mellow taste for mainstream pre-ground coffee. If I can\\'t find Yuban locally, I will settle for the \\'Columbian Chock Full O\\'Nuts\\' before this one.<br /><br />This is a good product [better than most] and a good value, but Yuban seems more full bodied and much more mellow than this or even their \\'Columbian\\' offering.<br /><br />[I AM NOT AFFILIATED WITH ANY PRODUCT OR COMPANY]'} \n",
            "\n",
            "{'UserId': 'A30F7C10OGMFST', 'Score': 5, 'Summary': 'Better than milk is better than most!', 'Text': 'Better Than Milk is a fine beverage. I cannot compare it to milk, since I cannot drink milk. I can say that I like the product, and it goes great with my cereal.'} \n",
            "\n"
          ]
        }
      ],
      "source": [
        "#Query 14\n",
        "#Search Type: Comparison Search\n",
        "#Search Query: Finding reviews that mention \"better than\" to see comparative opinions\n",
        "\n",
        "query14 = {\"$text\": {\"$search\": '\"better than\"'}}\n",
        "results = collection.find(query14, projection).limit(10)\n",
        "for doc in results:\n",
        "    print(doc, \"\\n\")"
      ]
    },
    {
      "cell_type": "code",
      "execution_count": null,
      "id": "c6e35306-c9fc-4ad2-a975-4bdbe4e3f3ff",
      "metadata": {
        "id": "c6e35306-c9fc-4ad2-a975-4bdbe4e3f3ff",
        "outputId": "af568b45-717b-4cb8-e744-0dd026f7b9ab"
      },
      "outputs": [
        {
          "name": "stdout",
          "output_type": "stream",
          "text": [
            "{'UserId': 'AY1EF0GOH80EK', 'Score': 4, 'Summary': 'Do not taste from bottle! Mix with vanilla for true flavor.', 'Text': 'So I got this and tasted it strait out of the bottle, it tasted like smoky flavored milk - YUCK! I was depressed I was stuck with 4 bottles of this.  It sat on my shelf and I forgot about it. Last weekend I tasted a Zevia cream soda and was not pleased with the flavor, it tasted weird and smokey like the LorAnn oil I had gotten.  I tried to doctor up the soda with a little SF Vanilla Torani syrup and a tablespoon of heavy cream - IT TASTED AMAZING!!!  The odd smokiness was gone and it had a wonderful rich mouthfeel.<br /><br />So I wanted to see if this would help the LorAnn oil too.  I put a cup of whipping cream in a bowl and added a teaspoon of vanilla and tasted it, it tasted fine.  Then I added ONE DROP of the oil, it is very strong, and stirred it in - IT TASTED SO MUCH BETTER!  I whipped it up and put it on fruit and it was such a treat.<br /><br />Now I will always whip a drop of it with vanilla into desserts and whip cream.  It was such a happy accident to find out how to use it.  When added to vanilla it really adds a new depth of flavor and tastes so different than just out of the bottle or on its own in cream.<br /><br />It is VERY potent so only use a drop and increase after tasting, if you add too much it will ruin the recipe so use a light touch.'} \n",
            "\n",
            "{'UserId': 'AAZ084UMH8VZ2', 'Score': 5, 'Summary': 'My Go to sweetner', 'Text': 'I am so glad I was introduced the this brand of sweetner to replace sugar, this is so much better. I really like how it sweetens my herbal sweet teas without having to use too much, and how it can be used in place of pancake syrup too. Learning how to use it what the first thing I had to learn, once I learned how to use it, I became hooked. I would not even look at sugar any more. I highly reccomend if you want a clean fresh taste and feel to your foods.If you do purchase this sweetner, take advantage of ship and save, it will save you lots of money in the long run.'} \n",
            "\n",
            "{'UserId': 'A1VMDYBJRZ0M12', 'Score': 4, 'Summary': 'It Works', 'Text': \"This product works. If you are only looking to do vocals this is a good product. So far I've had it a few months with no experience of sound distortion or loss of power. Its great if you don't want to go to the trouble of figuring out how to use a mixer. I've been told a pre-amp is better but it seems to work alright for me and my MXL 67G.\"} \n",
            "\n",
            "{'UserId': 'A3TE8VVAVGSAX5', 'Score': 5, 'Summary': 'good option', 'Text': 'My daughter lives in Hawaii and sent me some great coffee from there. I have a Keurig and  was not sure how to use the new coffee. I got these fast fast and now am using my Hawaiian coffee. Great product.'} \n",
            "\n",
            "{'UserId': 'A3ST0DSDWMILR3', 'Score': 5, 'Summary': 'Really great taste! Price should be less though.', 'Text': \"This soup is incredibly good!  But honestly, I was looking for a better deal through Amazon. The free shipping is great, but it's over 3 bucks a can, and I can get it cheaper through my grocery store. They are always having WP sales for 2 bucks a can, 2.50 a can... so does anyone know about a better deal than this? It's a really good tasting soup!\"} \n",
            "\n",
            "{'UserId': 'AXJ1QYBUL86ON', 'Score': 5, 'Summary': 'Great product - mixes easily and value-priced', 'Text': \"Sweet Leaf Stevia Extract is powdered, pure stevia.  There are supposedly 400 servings (1/40th of a teaspoon) in a .4 ounce container, so it works out to be a fairly inexpensive natural, non-sugar sweetener and dietary supplement - less than 2 cents per serving and 1.5 cents per serving with Subscribe and Save - though it will take you a long time to use up one container, let alone four.  This extract has the sweetness of 300 - 360 times that of sugar, is a Kosher product, and it contains no additives.  Also the .4 ounce container is fairly small and has a shaker top, so it is easy to carry with you and use if you are away from home.  You could even attach a very small spoon with a rubber band to the container if you wanted to be even more precise with your serving sizes.  I started out using this in tea and I am now using it in my coffee as well.  It mixes fairly well in hot drinks.  It's easy to get used to the flavor in tea, but may take you some time in coffee. I think that it's worth it to take the time to get used to the taste.  The end result is that for every teaspoon of sugar or serving of artificial sweetener that you ingest in your coffee or tea during the day, you will be substituting a dietary supplement that has been shown to be healthy to your gums and in some studies to lower high blood pressure.  Every teaspoon of white granulated sugar has 4 grams of carbohydrates, 4 grams of sugar and 15 calories.  If you normally have 5 teaspoons of sugar during the day in your hot drinks, you would be saving 75 calories per day - a good portion of the recommended 100 calorie per day reduction to help with long-term weight loss.  The flavor of this pure extract compares very favorably with that of ground stevia leaf (blehhh!) which if you add it to tea will just float on the surface.  Also as compared with Truvia or other stevia plus other sweetener products, it is considerably less expensive and the taste is pure - not multi-layered.  If you want to enhance the flavor and it doesn't conflict with your diet regimen, consider adding a squirt of honey or a dash of table sugar to your beverage.  I am looking forward to perfecting a hot cocoa recipe.  Chocolate and cocoa seem to mask flavors very effectively.  I am not sure how to use stevia for baking.  That will take some experimentation and most likely require combining stevia with other wholesome sweeteners.<br />In all fairness, I have only tried Truvia once in tea, and I found that it had an almost cooling effect on my tongue and considerably less sweetness than stevia.  Many sweeteners come in single serving packets, and as a result they are considerably more expensive per serving. Why not start with a pure product?\"} \n",
            "\n",
            "{'UserId': 'A3DGVOM8ES5P4S', 'Score': 5, 'Summary': 'I am looking for Nutritional Information on these please', 'Text': 'Hi,<br />Does anyone know what the nutritional info. is on these specifically?...sugar content per bar, carbs?<br /><br />Thanks'} \n",
            "\n",
            "{'UserId': 'A2FTRXRNDDROA1', 'Score': 1, 'Summary': 'Made in China, causes some concerns', 'Text': \"I have been feeding these to our dog for years to help her with her joints, especially her hips. Ever since I started her on these as a treat, meaning I gave her one in the morning and another in the evening she regained her active self and they helped her get interested in her regular meals. It was a win, win situation for our finicky eater.<br /><br />However, I would like to note, that when I started her on these treats, they were being made in the USA. Resentfully I discovered that they are now produced in China. As we know, China produces some very high end products and some real crap as well. However, when it comes to food products that come from overseas a warning flag goes up in my mind, especially if they are coming from China. Personally I never noticed anything odd with our 14 year old dog's reaction to Happy Hips. Still, I decided that I did not want to subject her to a food product coming out of China.<br /><br />Does anyone know of another product like Happy Hips with Glucosamine (for the joints) in it, that is produced in the USA?\"} \n",
            "\n",
            "{'UserId': 'A1O7VTR3EGTNRE', 'Score': 4, 'Summary': 'Fun little snack; have video camera ready for first timers', 'Text': 'A+ for concept, ingredients, flavor, fun, snack-worthiness. C for function.<br /><br />This product is a great little snack idea and is great to add fruit servings in to your kiddos day. It\\'s a tad tart for my preference but both my 1 yr old and 4 yr old love these. They\\'re these little plasticized foil pouches that have a sort of bottle-like nipple\\'ish mouthpiece - but free flow - that the kids can suck the product out while squeezing the pouch flat. The mouthpiece itself is under the twist-off cap and is about 1/3 of an inch diameter. They have a permanent home in my go-bag as they do not require refrigeration.<br /><br />BUT they do require a clean-up crew until your child figures out how to use em. WARNING: DO NOT USE FOR FIRST TIME IN A CAR. They\\'re so cute and you\\'re thinking \"oh this is a perfect car snack!\" But they\\'re not until AFTER your child learns how hard they can squeeze em. My 4 yr old was coachable and likely could have been fine unsupervized in a carseat while I drive along. But my 1 yr old? Haha, she grabbed that thing up and WOOP! Up shoots a 3 inch geyser of applesauce-like-product. It was super cute and definitely a home-movie-moment but I\\'m glad we usually have wipes within reach. Unless you trust your kids to eat super neatly be cautious with this product: no dressy outfits, no papers, no artwork, nothing that can\\'t be wiped down with a moist cloth. This apple cinnamon product in particular I\\'m not concerned about color stains, but it is sticky and... well, it\\'s fruit.<br /><br />Once my girls got the hang of em it\\'s been great. I even trust my 1 yr old in the car with em - but only when I\\'m not alone and another passenger can clean up possible \\'geyser damage.\\'<br /><br />I bought this during a special and signed up for Subscribe & Save and the price was far better than in stores (Amazon was ~61% of my stores price). I\\'m definitely going to keep purchasing this product and try out other pure blended fruit flavors - I\\'m a little wary of the \\'touch of milk\\' products that require no refrigeration.'} \n",
            "\n",
            "{'UserId': 'AI9IPVQ6D4RXB', 'Score': 3, 'Summary': 'Can you recycle K-Cups???', 'Text': 'Does anyone know if K-Cups can be recycled?  I cannot seem to find out.  I would be much more likely to purchase a coffee machine that uses K-Cups if I knew the cups could be recycled.'} \n",
            "\n"
          ]
        }
      ],
      "source": [
        "#Query 15\n",
        "#Search Type: Question-Like Reviews\n",
        "#Search Query: Searching for \"does anyone know\" or \"how to use\" to find users asking questions\n",
        "\n",
        "query15 = {\n",
        "    \"$or\": [\n",
        "        {\"Text\": {\"$regex\": r\"does anyone know\", \"$options\": \"i\"}},\n",
        "        {\"Text\": {\"$regex\": r\"how to use\", \"$options\": \"i\"}}\n",
        "    ]\n",
        "}\n",
        "\n",
        "results = collection.find(query15, projection).limit(10)\n",
        "for doc in results:\n",
        "    print(doc, \"\\n\")"
      ]
    },
    {
      "cell_type": "code",
      "execution_count": null,
      "id": "6b9ca398-81d7-4c81-9c0f-71fe266d9fd0",
      "metadata": {
        "id": "6b9ca398-81d7-4c81-9c0f-71fe266d9fd0",
        "outputId": "b8b9bce6-c74e-46f0-836f-30919adddb7e"
      },
      "outputs": [
        {
          "data": {
            "text/plain": [
              "{'_id': ObjectId('67cc8d2e14becb6d21d57e71'),\n",
              " 'Id': 1,\n",
              " 'ProductId': 'B001E4KFG0',\n",
              " 'UserId': 'A3SGXH7AUHU8GW',\n",
              " 'ProfileName': 'delmartian',\n",
              " 'HelpfulnessNumerator': 1,\n",
              " 'HelpfulnessDenominator': 1,\n",
              " 'Score': 5,\n",
              " 'Summary': 'Good Quality Dog Food',\n",
              " 'Text': 'I have bought several of the Vitality canned dog food products and have found them all to be of good quality. The product looks more like a stew than a processed meat and it smells better. My Labrador is finicky and she appreciates this product better than  most.',\n",
              " 'Date': '2011-04-27'}"
            ]
          },
          "execution_count": 353,
          "metadata": {},
          "output_type": "execute_result"
        }
      ],
      "source": [
        "collection.find_one()"
      ]
    },
    {
      "cell_type": "markdown",
      "id": "40a003a4-64d0-407c-ae66-b8192066f5cf",
      "metadata": {
        "id": "40a003a4-64d0-407c-ae66-b8192066f5cf"
      },
      "source": [
        "__<h2>Aggregations</h2>__"
      ]
    },
    {
      "cell_type": "code",
      "execution_count": null,
      "id": "73348f56-7357-484c-a972-155703261db1",
      "metadata": {
        "id": "73348f56-7357-484c-a972-155703261db1",
        "outputId": "dac807a8-c5c1-425d-b230-25e580e5ad33"
      },
      "outputs": [
        {
          "name": "stdout",
          "output_type": "stream",
          "text": [
            "{'_id': 5, 'Num_reviews_per_score': 363102} \n",
            "\n",
            "{'_id': 4, 'Num_reviews_per_score': 80654} \n",
            "\n",
            "{'_id': 1, 'Num_reviews_per_score': 52264} \n",
            "\n",
            "{'_id': 3, 'Num_reviews_per_score': 42638} \n",
            "\n",
            "{'_id': 2, 'Num_reviews_per_score': 29743} \n",
            "\n"
          ]
        }
      ],
      "source": [
        "#Query 1\n",
        "#Search Type: Distribution of Review Scores\n",
        "#Search Query: Calculating the number of reviews per rating (E.g. 5-star, 4-star, etc.)\n",
        "\n",
        "#query1 = {\"$group\": {\"_id\": \"$Score\", \"Num_reviews_per_score\": {\"$count\":{}}}}  #Alternative query\n",
        "query1 = {\n",
        "    \"$group\":\n",
        "    {\n",
        "        \"_id\": \"$Score\",           #The _id specifies the field to group by\n",
        "        \"Num_reviews_per_score\":{\"$sum\":1}\n",
        "    }\n",
        "}\n",
        "\n",
        "order_results_by = {\"$sort\": {\"Num_reviews_per_score\":-1}}  #Sorting in descending order\n",
        "\n",
        "results = collection.aggregate([query1, order_results_by])   #The stages in an aggregation pipeline are passed in a list\n",
        "for doc in results:\n",
        "    print(doc, \"\\n\")"
      ]
    },
    {
      "cell_type": "code",
      "execution_count": null,
      "id": "315e20c5-2f6a-48b4-865a-caaf4def2ff1",
      "metadata": {
        "id": "315e20c5-2f6a-48b4-865a-caaf4def2ff1",
        "outputId": "23a6c1cd-3648-4900-a214-16eedf4822fe"
      },
      "outputs": [
        {
          "name": "stdout",
          "output_type": "stream",
          "text": [
            "Overall Rating: 4.1833\n"
          ]
        }
      ],
      "source": [
        "#Query 2\n",
        "#Search Type: Overall Rating Calculation\n",
        "#Search Query: Computing the weighted average of all review scores\n",
        "\n",
        "query2 = {\n",
        "    \"$group\":\n",
        "    {\n",
        "        \"_id\": \"$Score\",\n",
        "        \"Num_reviews_per_score\": {\"$sum\":1}\n",
        "    }\n",
        "}\n",
        "\n",
        "results = collection.aggregate([query2])\n",
        "\n",
        "total_score = []\n",
        "num_reviews = []\n",
        "for doc in results:\n",
        "    total_score.append(doc[\"_id\"] * doc[\"Num_reviews_per_score\"])\n",
        "    num_reviews.append(doc[\"Num_reviews_per_score\"])\n",
        "\n",
        "if sum(num_reviews) > 0:\n",
        "    final_weighted_score = sum(total_score)/sum(num_reviews)\n",
        "    print(f\"Overall Rating: {final_weighted_score:.4f}\")\n",
        "else:\n",
        "    print(\"No reviews yet!\")"
      ]
    },
    {
      "cell_type": "code",
      "execution_count": null,
      "id": "6d5105c6-a911-4e1c-b0a0-dade19c3ee1c",
      "metadata": {
        "id": "6d5105c6-a911-4e1c-b0a0-dade19c3ee1c",
        "outputId": "0229a804-aa55-4d59-f5e3-d4aa32de127a"
      },
      "outputs": [
        {
          "name": "stdout",
          "output_type": "stream",
          "text": [
            "{'_id': 'B007JFMH8M', 'TotalReviews': 913} \n",
            "\n",
            "{'_id': 'B002QWHJOU', 'TotalReviews': 632} \n",
            "\n",
            "{'_id': 'B002QWP8H0', 'TotalReviews': 632} \n",
            "\n",
            "{'_id': 'B002QWP89S', 'TotalReviews': 632} \n",
            "\n",
            "{'_id': 'B0026RQTGE', 'TotalReviews': 632} \n",
            "\n"
          ]
        }
      ],
      "source": [
        "#Query 3\n",
        "#Search Type: Most Reviewed Products\n",
        "#Search Query: Finding the top 5 products with the highest number of reviews\n",
        "\n",
        "query3 = {\n",
        "    \"$group\":\n",
        "    {\n",
        "        \"_id\": \"$ProductId\",\n",
        "        \"TotalReviews\": {\"$sum\":1}\n",
        "    }\n",
        "}\n",
        "\n",
        "order_by = {\n",
        "    \"$sort\":\n",
        "    {\n",
        "        \"TotalReviews\":-1\n",
        "    }\n",
        "}\n",
        "\n",
        "limit = {\n",
        "    \"$limit\": 5\n",
        "}\n",
        "\n",
        "results = collection.aggregate([query3, order_by, limit])\n",
        "for doc in results:\n",
        "    print(doc, \"\\n\")"
      ]
    },
    {
      "cell_type": "code",
      "execution_count": null,
      "id": "e6484df5-f995-4ea6-b51e-3871d51acbe1",
      "metadata": {
        "id": "e6484df5-f995-4ea6-b51e-3871d51acbe1",
        "outputId": "caf56c33-9bce-440f-de5f-807e5521652a"
      },
      "outputs": [
        {
          "data": {
            "image/png": "[encoded data removed]",
            "text/plain": [
              "<Figure size 1200x600 with 1 Axes>"
            ]
          },
          "metadata": {},
          "output_type": "display_data"
        }
      ],
      "source": [
        "#Query 4\n",
        "#Search Type: Monthly Review Trend\n",
        "#Search Query: Analyzing how the number of reviews change over time\n",
        "\n",
        "#Converting the \"Date\" string field to an actual date format\n",
        "convert_date = {\n",
        "    \"$addFields\":\n",
        "    {\n",
        "        \"FormattedDate\":\n",
        "        {\n",
        "            \"$dateFromString\": {\"dateString\": \"$Date\"}\n",
        "        }\n",
        "    }\n",
        "}\n",
        "\n",
        "#Grouping the reviews by month\n",
        "query4 = {\n",
        "    \"$group\":\n",
        "    {\n",
        "        \"_id\": {\"$dateToString\": {\"format\": \"%Y-%m\", \"date\":\"$FormattedDate\"}},\n",
        "        \"MonthlyReviewCount\": {\"$sum\":1}\n",
        "    }\n",
        "}\n",
        "\n",
        "\n",
        "#Sorting by date in ascending order\n",
        "sort_date = {\n",
        "    \"$sort\":\n",
        "    {\"_id\": 1}\n",
        "}\n",
        "\n",
        "pipeline = [convert_date, query4, sort_date]\n",
        "results = collection.aggregate(pipeline)\n",
        "\n",
        "monthlyReviewCount = []\n",
        "month = []\n",
        "#'_id': '2012-10', 'MonthlyReviewCount': 20329\n",
        "for doc in results:\n",
        "    month.append(doc[\"_id\"])\n",
        "    monthlyReviewCount.append(doc[\"MonthlyReviewCount\"])\n",
        "\n",
        "#Visualizing the Result\n",
        "import matplotlib.pyplot as plt\n",
        "\n",
        "X = month\n",
        "y = monthlyReviewCount\n",
        "\n",
        "plt.figure(figsize=(12,6))\n",
        "plt.plot(X, y)\n",
        "plt.xlabel(\"Date (months)\")\n",
        "plt.xticks(X[::6], rotation=45)\n",
        "plt.ylabel(\"Count of Reviews\")\n",
        "plt.title(\"Plot of Monthly Reviews Count\")\n",
        "plt.show();"
      ]
    },
    {
      "cell_type": "code",
      "execution_count": null,
      "id": "9f7d3df9-7c7c-4951-8929-9c9b132d438f",
      "metadata": {
        "id": "9f7d3df9-7c7c-4951-8929-9c9b132d438f",
        "outputId": "3fdf17e1-1c73-4a4c-b781-68b37438b05c"
      },
      "outputs": [
        {
          "name": "stdout",
          "output_type": "stream",
          "text": [
            "Score: 3, Avg Review Length: 520.34\n",
            "Score: 4, Avg Review Length: 496.60\n",
            "Score: 2, Avg Review Length: 490.96\n",
            "Score: 1, Avg Review Length: 478.09\n",
            "Score: 5, Avg Review Length: 402.46\n"
          ]
        }
      ],
      "source": [
        "#Query 5\n",
        "#Search Type: Average Review Length per Score\n",
        "#Search Query: Query to determine if lower ratings have longer review texts on an average\n",
        "\n",
        "project = {\n",
        "    \"$project\":\n",
        "    {\n",
        "        \"Score\":1,\n",
        "        \"ReviewLength\": {\"$strLenCP\": \"$Text\"}\n",
        "    }\n",
        "}\n",
        "\n",
        "query5 = {\n",
        "    \"$group\":\n",
        "    {\n",
        "        \"_id\": \"$Score\",\n",
        "        \"AvgReviewLength\": {\"$avg\": \"$ReviewLength\"}\n",
        "    }\n",
        "}\n",
        "\n",
        "sort = {\"$sort\": {\"AvgReviewLength\": -1}}\n",
        "\n",
        "pipeline = [project, query5, sort]\n",
        "\n",
        "results = collection.aggregate(pipeline)\n",
        "\n",
        "for doc in results:\n",
        "    print(f\"Score: {doc[\"_id\"]}, Avg Review Length: {doc[\"AvgReviewLength\"]:.2f}\")\n",
        "\n"
      ]
    },
    {
      "cell_type": "code",
      "execution_count": null,
      "id": "26d53647-c3eb-409a-9990-c0b5c356d3e0",
      "metadata": {
        "id": "26d53647-c3eb-409a-9990-c0b5c356d3e0",
        "outputId": "a0c972e0-2ab9-4020-d04c-afbe3d9ec904"
      },
      "outputs": [
        {
          "name": "stdout",
          "output_type": "stream",
          "text": [
            "Word: 'Great' Count: 48228\n",
            "Word: 'the' Count: 39866\n",
            "Word: 'for' Count: 37050\n",
            "Word: 'and' Count: 33269\n",
            "Word: 'a' Count: 28005\n",
            "Word: 'Good' Count: 22434\n",
            "Word: 'but' Count: 20885\n",
            "Word: 'good' Count: 20477\n",
            "Word: 'to' Count: 19745\n",
            "Word: 'of' Count: 19566\n"
          ]
        }
      ],
      "source": [
        "#Query 6\n",
        "#Search Type: Most Frequent Words in Review Summaries\n",
        "#Search Query: Find the most common words customers use in the review summaries\n",
        "\n",
        "project = {\n",
        "    \"$project\":\n",
        "    {\n",
        "        \"words\": {\"$split\": [\"$Summary\", \" \"]}\n",
        "    }\n",
        "}\n",
        "\n",
        "unwind = {\"$unwind\": \"$words\"}\n",
        "\n",
        "group = {\n",
        "    \"$group\":\n",
        "    {\n",
        "        \"_id\": \"$words\",\n",
        "        \"Count\": {\"$sum\": 1}\n",
        "    }\n",
        "}\n",
        "\n",
        "sort = {\n",
        "    \"$sort\": {\"Count\": -1}\n",
        "}\n",
        "\n",
        "limit = {\"$limit\": 10}    #Limiting the results to the top ten\n",
        "\n",
        "pipeline = [project, unwind, group, sort, limit]\n",
        "\n",
        "results = collection.aggregate(pipeline)\n",
        "\n",
        "for doc in results:\n",
        "    print(f\"Word: '{doc[\"_id\"]}' Count: {doc[\"Count\"]}\")"
      ]
    },
    {
      "cell_type": "code",
      "execution_count": null,
      "id": "0fe46d6e-382f-4b9d-a81b-441e86910193",
      "metadata": {
        "id": "0fe46d6e-382f-4b9d-a81b-441e86910193",
        "outputId": "1309de7a-b2d6-49c1-de7d-a184c3e44cd9"
      },
      "outputs": [
        {
          "name": "stdout",
          "output_type": "stream",
          "text": [
            "UserId: 'A3OXHLG6DIBRW8', Total Reviews: 448\n",
            "UserId: 'A1YUL9PCJR3JTY', Total Reviews: 421\n",
            "UserId: 'AY12DBB0U420B', Total Reviews: 389\n",
            "UserId: 'A281NPSIMI1C2R', Total Reviews: 365\n",
            "UserId: 'A1Z54EM24Y40LL', Total Reviews: 256\n",
            "UserId: 'A1TMAVN4CEM8U8', Total Reviews: 204\n",
            "UserId: 'A2MUGFV2TDQ47K', Total Reviews: 201\n",
            "UserId: 'A3TVZM3ZIXG8YW', Total Reviews: 199\n",
            "UserId: 'A3PJZ8TU8FDQ1K', Total Reviews: 178\n",
            "UserId: 'AQQLWCMRNDFGI', Total Reviews: 176\n"
          ]
        }
      ],
      "source": [
        "#Query 7\n",
        "#Search Type: Customers with the most reviews\n",
        "#Search Query: Query to identify the most active customers\n",
        "\n",
        "query7 = {\n",
        "    \"$group\":\n",
        "    {\n",
        "        \"_id\": \"$UserId\",\n",
        "        \"TotalReviews\": {\"$sum\": 1}\n",
        "    }\n",
        "}\n",
        "\n",
        "sort = {\"$sort\": {\"TotalReviews\": -1}}\n",
        "limit = {\"$limit\":10}\n",
        "\n",
        "pipeline = [query7, sort, limit]\n",
        "\n",
        "results = collection.aggregate(pipeline)\n",
        "\n",
        "for doc in results:\n",
        "    print(f\"UserId: '{doc[\"_id\"]}', Total Reviews: {doc[\"TotalReviews\"]}\")"
      ]
    },
    {
      "cell_type": "code",
      "execution_count": null,
      "id": "562454cb-dccf-4090-a49b-3f79e7b7fb2a",
      "metadata": {
        "id": "562454cb-dccf-4090-a49b-3f79e7b7fb2a",
        "outputId": "b113a410-1846-456a-b6d9-563320a5ce4d"
      },
      "outputs": [
        {
          "name": "stdout",
          "output_type": "stream",
          "text": [
            "Percentage of positive reviews to negative reviews is: 84.40%\n",
            "Percentage of negative reviews to positive reviews is: 15.60%\n"
          ]
        }
      ],
      "source": [
        "#Query 8\n",
        "#Search Type: Percentage of Positive vs Negative Reviews\n",
        "#Search Query: Compute the proportion of high vs low ratings\n",
        "\n",
        "query8 = {\n",
        "    \"$group\":\n",
        "    {\n",
        "        \"_id\": \"$Score\",\n",
        "        \"TotalReviewPerScore\": {\"$sum\":1}\n",
        "    }\n",
        "}\n",
        "\n",
        "sort = {\"$sort\": {\"_id\": 1}}\n",
        "\n",
        "results = collection.aggregate([query8, sort])\n",
        "\n",
        "#Assumptions:\n",
        "# - Negative reviews have scores of 1 and 2\n",
        "# - Neutral reviews have scores of 3\n",
        "# - Positive reviews have scores of 4 and 5\n",
        "\n",
        "#Hence, let's find the percentage of positive vs negative reviews\n",
        "positiveReviews = []\n",
        "negativeReviews = []\n",
        "neutralReviews = []\n",
        "\n",
        "for doc in results:\n",
        "    if doc[\"_id\"] == 1 or doc[\"_id\"] == 2:\n",
        "        negativeReviews.append(doc[\"TotalReviewPerScore\"])\n",
        "    elif doc[\"_id\"] == 4 or doc[\"_id\"] == 5:\n",
        "        positiveReviews.append(doc[\"TotalReviewPerScore\"])\n",
        "    else:\n",
        "        neutralReviews.append(doc[\"TotalReviewPerScore\"])\n",
        "\n",
        "sumPositiveReviews = sum(positiveReviews)\n",
        "sumNegativeReviews = sum(negativeReviews)\n",
        "ratioPositive = sumPositiveReviews/(sumPositiveReviews + sumNegativeReviews)\n",
        "ratioNegative = sumNegativeReviews/(sumPositiveReviews + sumNegativeReviews)\n",
        "\n",
        "print(f\"Percentage of positive reviews to negative reviews is: {ratioPositive*100:.2f}%\")\n",
        "print(f\"Percentage of negative reviews to positive reviews is: {ratioNegative*100:.2f}%\")"
      ]
    },
    {
      "cell_type": "code",
      "execution_count": null,
      "id": "2a99d9fa-5bd6-40de-88ac-46101d15852f",
      "metadata": {
        "id": "2a99d9fa-5bd6-40de-88ac-46101d15852f",
        "outputId": "147220ab-a2c6-45c1-f2de-534e0857dccc"
      },
      "outputs": [
        {
          "name": "stdout",
          "output_type": "stream",
          "text": [
            "Products with highest average rating:\n",
            "\n",
            "Product Id: 'B000F865ZQ', Average Satisfaction Score: 5.0\n",
            "Product Id: 'B002UTXRQ8', Average Satisfaction Score: 5.0\n",
            "Product Id: 'B00012181W', Average Satisfaction Score: 5.0\n",
            "Product Id: 'B004B3MDAW', Average Satisfaction Score: 5.0\n",
            "Product Id: 'B003L8APTY', Average Satisfaction Score: 5.0\n",
            "Product Id: 'B004AC4BKE', Average Satisfaction Score: 5.0\n",
            "Product Id: 'B0001PB9BS', Average Satisfaction Score: 5.0\n",
            "Product Id: 'B006XXO43M', Average Satisfaction Score: 5.0\n",
            "Product Id: 'B00126GC2G', Average Satisfaction Score: 5.0\n",
            "Product Id: 'B0001W7M44', Average Satisfaction Score: 5.0\n"
          ]
        }
      ],
      "source": [
        "#Query 9\n",
        "#Search Type: Average Rating per Product Category\n",
        "#Search Query: Query to determine which categories have the highest satisfaction\n",
        "\n",
        "query9 = {\n",
        "    \"$group\":\n",
        "    {\n",
        "        \"_id\": \"$ProductId\",\n",
        "        \"AverageRating\": {\"$avg\": \"$Score\"}\n",
        "    }\n",
        "}\n",
        "\n",
        "sort = {\"$sort\": {\"AverageRating\": -1}}\n",
        "limit = {\"$limit\":10}\n",
        "pipeline = [query9, sort, limit]\n",
        "\n",
        "results = collection.aggregate(pipeline)\n",
        "print(\"Products with highest average rating:\\n\")\n",
        "for doc in results:\n",
        "    print(f\"Product Id: '{doc[\"_id\"]}', Average Satisfaction Score: {doc[\"AverageRating\"]}\")"
      ]
    },
    {
      "cell_type": "code",
      "execution_count": null,
      "id": "a812970d-bcca-4aaa-ac8a-1be7c77c77d9",
      "metadata": {
        "id": "a812970d-bcca-4aaa-ac8a-1be7c77c77d9",
        "outputId": "a8714a69-a65f-4fad-b58a-61ab115e317e"
      },
      "outputs": [
        {
          "name": "stdout",
          "output_type": "stream",
          "text": [
            "Products with lowest average rating:\n",
            "\n",
            "Product Id: 'B005ZFTJGQ', Average Satisfaction Score: 1.0\n",
            "Product Id: 'B004FRUO32', Average Satisfaction Score: 1.0\n",
            "Product Id: 'B00454YBHK', Average Satisfaction Score: 1.0\n",
            "Product Id: 'B002ESSNRS', Average Satisfaction Score: 1.0\n",
            "Product Id: 'B004G5ZYTW', Average Satisfaction Score: 1.0\n",
            "Product Id: 'B006SLNRUK', Average Satisfaction Score: 1.0\n",
            "Product Id: 'B008CANIIG', Average Satisfaction Score: 1.0\n",
            "Product Id: 'B005DQD404', Average Satisfaction Score: 1.0\n",
            "Product Id: 'B001SAZYGQ', Average Satisfaction Score: 1.0\n",
            "Product Id: 'B007TGL2TQ', Average Satisfaction Score: 1.0\n"
          ]
        }
      ],
      "source": [
        "#Query 9b\n",
        "#Search Type: Average Rating per Product Category\n",
        "#Search Query: Query to determine which categories have the lowest satisfaction\n",
        "\n",
        "query9 = {\n",
        "    \"$group\":\n",
        "    {\n",
        "        \"_id\": \"$ProductId\",\n",
        "        \"AverageRating\": {\"$avg\": \"$Score\"}\n",
        "    }\n",
        "}\n",
        "\n",
        "sort = {\"$sort\": {\"AverageRating\": 1}}\n",
        "limit = {\"$limit\":10}\n",
        "pipeline = [query9, sort, limit]\n",
        "\n",
        "results = collection.aggregate(pipeline)\n",
        "print(\"Products with lowest average rating:\\n\")\n",
        "for doc in results:\n",
        "    print(f\"Product Id: '{doc[\"_id\"]}', Average Satisfaction Score: {doc[\"AverageRating\"]}\")"
      ]
    },
    {
      "cell_type": "code",
      "execution_count": null,
      "id": "51497642-bfc5-482d-b781-56fba12bcf04",
      "metadata": {
        "id": "51497642-bfc5-482d-b781-56fba12bcf04",
        "outputId": "2568ee5e-47d0-40d2-bdae-bc3b854ca563"
      },
      "outputs": [
        {
          "name": "stdout",
          "output_type": "stream",
          "text": [
            "Length Range: 0, Avg Rating: 4.15, Count: 71\n",
            "Length Range: 50, Avg Rating: 4.41, Count: 14999\n",
            "Length Range: 100, Avg Rating: 4.34, Count: 155467\n",
            "Length Range: 200, Avg Rating: 4.17, Count: 243821\n",
            "Length Range: 500, Avg Rating: 4.03, Count: 110685\n",
            "Length Range: 1000, Avg Rating: 3.98, Count: 43060\n",
            "Length Range: 5000+, Avg Rating: 3.92, Count: 298\n"
          ]
        }
      ],
      "source": [
        "#Query 10\n",
        "#Search Type: Average Rating by Review Length\n",
        "#Search Query: Query to check if longer reviews correlate with higher/lower ratings\n",
        "\n",
        "query10 = [\n",
        "    {\"$project\": {\n",
        "        \"Score\": 1,\n",
        "        \"ReviewLength\": {\"$strLenCP\": \"$Text\"}\n",
        "    }},\n",
        "    {\"$bucket\": {\n",
        "        \"groupBy\": \"$ReviewLength\",\n",
        "        \"boundaries\": [0, 50, 100, 200, 500, 1000, 5000],\n",
        "        \"default\": \"5000+\",\n",
        "        \"output\": {\n",
        "            \"AvgRating\": {\"$avg\": \"$Score\"},\n",
        "            \"Count\": {\"$sum\": 1}\n",
        "        }\n",
        "    }}\n",
        "]\n",
        "\n",
        "results = collection.aggregate(query10)\n",
        "for doc in results:\n",
        "    print(f\"Length Range: {doc['_id']}, Avg Rating: {doc['AvgRating']:.2f}, Count: {doc['Count']}\")\n"
      ]
    },
    {
      "cell_type": "code",
      "execution_count": null,
      "id": "24ad0d9e-1a40-423e-bfcf-14ebddaa7b27",
      "metadata": {
        "id": "24ad0d9e-1a40-423e-bfcf-14ebddaa7b27",
        "outputId": "4baaec30-89cb-48aa-c036-be4df38c11c6"
      },
      "outputs": [
        {
          "data": {
            "text/plain": [
              "{'_id': ObjectId('67cc8d2e14becb6d21d57e71'),\n",
              " 'Id': 1,\n",
              " 'ProductId': 'B001E4KFG0',\n",
              " 'UserId': 'A3SGXH7AUHU8GW',\n",
              " 'ProfileName': 'delmartian',\n",
              " 'HelpfulnessNumerator': 1,\n",
              " 'HelpfulnessDenominator': 1,\n",
              " 'Score': 5,\n",
              " 'Summary': 'Good Quality Dog Food',\n",
              " 'Text': 'I have bought several of the Vitality canned dog food products and have found them all to be of good quality. The product looks more like a stew than a processed meat and it smells better. My Labrador is finicky and she appreciates this product better than  most.',\n",
              " 'Date': '2011-04-27'}"
            ]
          },
          "execution_count": 498,
          "metadata": {},
          "output_type": "execute_result"
        }
      ],
      "source": [
        "collection.find_one()"
      ]
    },
    {
      "cell_type": "markdown",
      "id": "a4319b7a-5ace-49ac-87d0-bec8b6b9707c",
      "metadata": {
        "id": "a4319b7a-5ace-49ac-87d0-bec8b6b9707c"
      },
      "source": [
        "__<h2>Semantic Search</h2>__"
      ]
    },
    {
      "cell_type": "markdown",
      "id": "35eec806-ef6a-458e-a28b-d26eefcf8dcc",
      "metadata": {
        "id": "35eec806-ef6a-458e-a28b-d26eefcf8dcc"
      },
      "source": [
        "__<h3>Steps Taken:</h3>__\n",
        "\n",
        "1. Select an Embedding Model (E.g. OpenAI's text-embedding-ada-002, BERT-based model like sentence-transformers) <br>\n",
        "Note: I used a sentence-transformers model (a free, open-source model for embeddings) for this project.<br>\n",
        "I specifically used the \"all-MiniLM-l6-v2\" pre-trained sentence-transformers model.<br>\n",
        "2. Embed all the review Texts from the data (this is the preprocessing step) and store the vector embeddings in MongoDB.\n",
        "   This process is referred to as vector embeddings <br>\n",
        "3. Index the Vectors in MongoDB <br>\n",
        "4. Perform semantic searches (vector search, cosine similarity search)<br>\n",
        "For this work, I used cosine similarity to find the most relevant reviews.<br>\n",
        "5. Optimize the process with an index(e.g. using \"faiss\" or \"Annoy\" for fast retrieval)"
      ]
    },
    {
      "cell_type": "markdown",
      "id": "0bdc5c2a-08c0-4cb5-9268-a7826f566f4b",
      "metadata": {
        "id": "0bdc5c2a-08c0-4cb5-9268-a7826f566f4b"
      },
      "source": [
        "__<h3>Installing and Loading the Chosen Embedding Model</h3>__"
      ]
    },
    {
      "cell_type": "code",
      "execution_count": null,
      "id": "72194635-abe4-4bc7-b055-c8ef88289c7c",
      "metadata": {
        "id": "72194635-abe4-4bc7-b055-c8ef88289c7c"
      },
      "outputs": [],
      "source": [
        "#Installing sentence-transformers\n",
        "!pip install sentence-transformers"
      ]
    },
    {
      "cell_type": "code",
      "execution_count": null,
      "id": "c3bd0763-a253-42e5-b351-55d2c5f91586",
      "metadata": {
        "id": "c3bd0763-a253-42e5-b351-55d2c5f91586"
      },
      "outputs": [],
      "source": [
        "#Reinstalling the necessary packages\n",
        "\n",
        "!pip install --upgrade transformers sentence-transformers"
      ]
    },
    {
      "cell_type": "code",
      "execution_count": null,
      "id": "8076b5ee-125c-4e8d-bfad-b15a0d804579",
      "metadata": {
        "colab": {
          "referenced_widgets": [
            "0d710a6476494fd4957a7a493fb19034",
            "adb26f033882454fbb643821c81d8a6d",
            "78af99aa45054b89b087dd59a6af1d7b",
            "99cc85013bc0490bbe48db1585b96e28",
            "de82f5cd0d0e48b9866888283f242290",
            "390d9d90e72e4e1b9866e01b9ae9cdd3",
            "e2201418f3bc4d26bcf3106890f74d2e",
            "0ed3a6fafbea441e935d9dd348cb814d",
            "f1a452cd03e249a09d4c0eb40d9b9027",
            "2747bca2bd31420c9dbfeafc550119a4",
            "f2be1bc7446e48eb8bab51cc660fce3d"
          ]
        },
        "id": "8076b5ee-125c-4e8d-bfad-b15a0d804579",
        "outputId": "98c6eddf-d661-4f5d-b71a-965c8a1981a0"
      },
      "outputs": [
        {
          "data": {
            "application/vnd.jupyter.widget-view+json": {
              "model_id": "0d710a6476494fd4957a7a493fb19034",
              "version_major": 2,
              "version_minor": 0
            },
            "text/plain": [
              "modules.json:   0%|          | 0.00/349 [00:00<?, ?B/s]"
            ]
          },
          "metadata": {},
          "output_type": "display_data"
        },
        {
          "name": "stderr",
          "output_type": "stream",
          "text": [
            "C:\\Users\\Admin\\anaconda3\\lib\\site-packages\\huggingface_hub\\file_download.py:142: UserWarning: `huggingface_hub` cache-system uses symlinks by default to efficiently store duplicated files but your machine does not support them in C:\\Users\\Admin\\.cache\\huggingface\\hub\\models--sentence-transformers--all-MiniLM-L6-v2. Caching files will still work but in a degraded version that might require more space on your disk. This warning can be disabled by setting the `HF_HUB_DISABLE_SYMLINKS_WARNING` environment variable. For more details, see https://huggingface.co/docs/huggingface_hub/how-to-cache#limitations.\n",
            "To support symlinks on Windows, you either need to activate Developer Mode or to run Python as an administrator. In order to activate developer mode, see this article: https://docs.microsoft.com/en-us/windows/apps/get-started/enable-your-device-for-development\n",
            "  warnings.warn(message)\n"
          ]
        },
        {
          "data": {
            "application/vnd.jupyter.widget-view+json": {
              "model_id": "adb26f033882454fbb643821c81d8a6d",
              "version_major": 2,
              "version_minor": 0
            },
            "text/plain": [
              "config_sentence_transformers.json:   0%|          | 0.00/116 [00:00<?, ?B/s]"
            ]
          },
          "metadata": {},
          "output_type": "display_data"
        },
        {
          "data": {
            "application/vnd.jupyter.widget-view+json": {
              "model_id": "78af99aa45054b89b087dd59a6af1d7b",
              "version_major": 2,
              "version_minor": 0
            },
            "text/plain": [
              "README.md:   0%|          | 0.00/10.5k [00:00<?, ?B/s]"
            ]
          },
          "metadata": {},
          "output_type": "display_data"
        },
        {
          "data": {
            "application/vnd.jupyter.widget-view+json": {
              "model_id": "99cc85013bc0490bbe48db1585b96e28",
              "version_major": 2,
              "version_minor": 0
            },
            "text/plain": [
              "sentence_bert_config.json:   0%|          | 0.00/53.0 [00:00<?, ?B/s]"
            ]
          },
          "metadata": {},
          "output_type": "display_data"
        },
        {
          "data": {
            "application/vnd.jupyter.widget-view+json": {
              "model_id": "de82f5cd0d0e48b9866888283f242290",
              "version_major": 2,
              "version_minor": 0
            },
            "text/plain": [
              "config.json:   0%|          | 0.00/612 [00:00<?, ?B/s]"
            ]
          },
          "metadata": {},
          "output_type": "display_data"
        },
        {
          "data": {
            "application/vnd.jupyter.widget-view+json": {
              "model_id": "390d9d90e72e4e1b9866e01b9ae9cdd3",
              "version_major": 2,
              "version_minor": 0
            },
            "text/plain": [
              "model.safetensors:   0%|          | 0.00/90.9M [00:00<?, ?B/s]"
            ]
          },
          "metadata": {},
          "output_type": "display_data"
        },
        {
          "data": {
            "application/vnd.jupyter.widget-view+json": {
              "model_id": "e2201418f3bc4d26bcf3106890f74d2e",
              "version_major": 2,
              "version_minor": 0
            },
            "text/plain": [
              "tokenizer_config.json:   0%|          | 0.00/350 [00:00<?, ?B/s]"
            ]
          },
          "metadata": {},
          "output_type": "display_data"
        },
        {
          "data": {
            "application/vnd.jupyter.widget-view+json": {
              "model_id": "0ed3a6fafbea441e935d9dd348cb814d",
              "version_major": 2,
              "version_minor": 0
            },
            "text/plain": [
              "vocab.txt:   0%|          | 0.00/232k [00:00<?, ?B/s]"
            ]
          },
          "metadata": {},
          "output_type": "display_data"
        },
        {
          "data": {
            "application/vnd.jupyter.widget-view+json": {
              "model_id": "f1a452cd03e249a09d4c0eb40d9b9027",
              "version_major": 2,
              "version_minor": 0
            },
            "text/plain": [
              "tokenizer.json:   0%|          | 0.00/466k [00:00<?, ?B/s]"
            ]
          },
          "metadata": {},
          "output_type": "display_data"
        },
        {
          "data": {
            "application/vnd.jupyter.widget-view+json": {
              "model_id": "2747bca2bd31420c9dbfeafc550119a4",
              "version_major": 2,
              "version_minor": 0
            },
            "text/plain": [
              "special_tokens_map.json:   0%|          | 0.00/112 [00:00<?, ?B/s]"
            ]
          },
          "metadata": {},
          "output_type": "display_data"
        },
        {
          "data": {
            "application/vnd.jupyter.widget-view+json": {
              "model_id": "f2be1bc7446e48eb8bab51cc660fce3d",
              "version_major": 2,
              "version_minor": 0
            },
            "text/plain": [
              "config.json:   0%|          | 0.00/190 [00:00<?, ?B/s]"
            ]
          },
          "metadata": {},
          "output_type": "display_data"
        }
      ],
      "source": [
        "#Loading the chosen pre-trained model\n",
        "\n",
        "#First, we import SentenceTransformer from the correct library\n",
        "from sentence_transformers import SentenceTransformer\n",
        "\n",
        "#Loading the model\n",
        "model = SentenceTransformer(\"sentence-transformers/all-MiniLM-L6-v2\")\n",
        "\n",
        "#Note: Since I am already connected to MongoDB, no need to connect again."
      ]
    },
    {
      "cell_type": "markdown",
      "id": "c194f6b9-e111-4383-a8e2-8c54946caaf2",
      "metadata": {
        "id": "c194f6b9-e111-4383-a8e2-8c54946caaf2"
      },
      "source": [
        "__<h3> Embedding all review texts from the data</h3>__"
      ]
    },
    {
      "cell_type": "code",
      "execution_count": null,
      "id": "ff574416-9b97-4ab1-aa30-cb24cfdde823",
      "metadata": {
        "id": "ff574416-9b97-4ab1-aa30-cb24cfdde823",
        "outputId": "0059bf10-b549-440e-ff43-c3d0277b3e06"
      },
      "outputs": [
        {
          "name": "stdout",
          "output_type": "stream",
          "text": [
            "Embeddings stored successfully!\n"
          ]
        }
      ],
      "source": [
        "#First, let's fetch all review using a projection to return only the \"_id\" and \"Text\" fields\n",
        "reviews = collection.find(\n",
        "    {},\n",
        "    {\"_id\":1, \"Text\":1}\n",
        ").batch_size(1000)       #Working with a batch size of 1_000 to avoid timeout issues\n",
        "\n",
        "#Embedding the reviews and storing them in MongoDB\n",
        "for review in reviews:\n",
        "    text = review[\"Text\"]\n",
        "    embedding = model.encode(text).tolist()  #Converts the vector embeddings to list for MongoDB storage\n",
        "\n",
        "    #Updating each of the corresponding MongoDB document with the vector embedding\n",
        "    collection.update_one({\"_id\": review[\"_id\"]}, {\"$set\": {\"embedding\": embedding}})\n",
        "\n",
        "print(\"Embeddings stored successfully!\")"
      ]
    },
    {
      "cell_type": "code",
      "execution_count": null,
      "id": "f79e39ae-421c-4beb-a9c3-f4bfdcb6b624",
      "metadata": {
        "id": "f79e39ae-421c-4beb-a9c3-f4bfdcb6b624",
        "outputId": "9574ccd3-b6a7-4f9b-ecf6-3495dfbb1c25"
      },
      "outputs": [
        {
          "name": "stdout",
          "output_type": "stream",
          "text": [
            "User's query:\n",
            "'great customer service'\n",
            "\n",
            "Top Retrieved Documents:\n",
            "\n",
            "_id: 67cc8da614becb6d21d9e7b2\n",
            "Review: Excellent customer service and product. Arrived very quickly and a well packaged item, a fun item to have around the office for a quick treat.\n",
            "Similarity Score: 0.6866\n",
            "\n",
            "_id: 67cc8d8c14becb6d21d8e9ec\n",
            "Review: Good service; good product. Delivery charges a little high relative to price of the product.\n",
            "Similarity Score: 0.6743\n",
            "\n",
            "_id: 67cc8db314becb6d21da6e94\n",
            "Review: Good service; good product. Delivery charges a little high relative to price of the product.\n",
            "Similarity Score: 0.6743\n",
            "\n",
            "_id: 67cc8d5914becb6d21d7001d\n",
            "Review: This company has fantastic customer service. They were very friendly and polite, and were able to expedite my order to arrive on time.\n",
            "Similarity Score: 0.6717\n",
            "\n",
            "_id: 67cc8d3114becb6d21d5936a\n",
            "Review: The customer service was beyond compare.  I would gladly do business with this company again.\n",
            "Similarity Score: 0.6594\n",
            "\n"
          ]
        }
      ],
      "source": [
        "#Function to perform a semantic search\n",
        "def semantic_search(query, top_n=5):\n",
        "    #First, generating the query embedding\n",
        "    query_embedding = model.encode(query)       #The same model used in generating the stored embeddings is used in encoding the query\n",
        "\n",
        "    #Retrieve all the stored embeddings from MongoDB\n",
        "    reviews = collection.find({},{\"_id\":1, \"Text\":1, \"embedding\":1})\n",
        "\n",
        "    #Computing cosine similarity between the query embeddings and retrieved  stored embeddings\n",
        "    results = []\n",
        "    for review in reviews:\n",
        "        #Convert the retrieved embedding to an array\n",
        "        #Note: The query embedding is already an array\n",
        "        stored_embedding = np.array(review[\"embedding\"])\n",
        "\n",
        "        #Computing the cosine similarity\n",
        "        similarity = np.dot(stored_embedding, query_embedding)/(\n",
        "            np.linalg.norm(stored_embedding) * np.linalg.norm(query_embedding)\n",
        "        )\n",
        "\n",
        "        #Storing the result of the cosine similarity in the \"results\" list\n",
        "        results.append((review[\"_id\"], review[\"Text\"], similarity))\n",
        "\n",
        "    #Sorting the results in descending order of the similarity score to return the top values\n",
        "    results.sort(key=lambda x: x[2], reverse=True)\n",
        "\n",
        "    #Displaying the top_n results\n",
        "    for _id, text, score in results[:top_n]:\n",
        "        print(f\"_id: {_id}\\nReview: {text}\\nSimilarity Score: {score:.4f}\\n\")\n",
        "\n",
        "#Example usage:\n",
        "query = \"great customer service\"\n",
        "print(f\"User's query:\\n'{query}'\\n\\nTop Retrieved Documents:\\n\")\n",
        "semantic_search(query)"
      ]
    },
    {
      "cell_type": "code",
      "execution_count": null,
      "id": "12d6218a-b50e-465d-bdae-99a130e5287d",
      "metadata": {
        "id": "12d6218a-b50e-465d-bdae-99a130e5287d",
        "outputId": "56a6bc09-14e6-4897-b2af-40158587cee8"
      },
      "outputs": [
        {
          "name": "stdout",
          "output_type": "stream",
          "text": [
            "User's query:\n",
            "'How to detect fake reviews in Amazon product listings?'\n",
            "\n",
            "Top Retrieved Documents:\n",
            "\n",
            "_id: 67cc8d3714becb6d21d5d01f\n",
            "Review: It seems alot of items on Amazon get undeserved glowing reviews.  I tried these (original and chocolate) because of the reviews but they're nothing special. I'm sure I'll end up throwing them away when they go stale.  This has happened to me before so I wonder if Amazon pays people to write reviews?\n",
            "Similarity Score: 0.5257\n",
            "\n",
            "_id: 67cc8dd814becb6d21dbe7fb\n",
            "Review: It seems alot of items on Amazon get undeserved glowing reviews.  I tried these (original and chocolate) because of the reviews but they're nothing special. I'm sure I'll end up throwing them away when they go stale.  This has happened to me before so I wonder if Amazon pays people to write reviews?\n",
            "Similarity Score: 0.5257\n",
            "\n",
            "_id: 67cc8e0614becb6d21dda7a2\n",
            "Review: Why am I getting emails from Amazon to review something I didn't get? They were out of this product, so there is nothing to review. I rated it one star because I had to rate it.\n",
            "Similarity Score: 0.5161\n",
            "\n",
            "_id: 67cc8d5a14becb6d21d70bdf\n",
            "Review: Do not like to leave reviews. Look at the stars to see my review.<br />So Amazon.com get over your inane rules!\n",
            "Similarity Score: 0.5018\n",
            "\n",
            "_id: 67cc8dcc14becb6d21db70c8\n",
            "Review: I have dealt with Amazon for most of my purchases. They have been very good to me in all respects. I believe their way of allowing purchases with me for other Buisnesses has been good as each is a gurantee I will not be mislead in anything I buy. .....Ned Kost\n",
            "Similarity Score: 0.4940\n",
            "\n"
          ]
        }
      ],
      "source": [
        "#Identifying fake or suspicious reviews\n",
        "query1 = \"How to detect fake reviews in Amazon product listings?\"\n",
        "print(f\"User's query:\\n'{query1}'\\n\\nTop Retrieved Documents:\\n\")\n",
        "semantic_search(query1)"
      ]
    },
    {
      "cell_type": "markdown",
      "id": "bf4a0f69-9cee-4fe6-86a4-9bf7b44b4507",
      "metadata": {
        "id": "bf4a0f69-9cee-4fe6-86a4-9bf7b44b4507"
      },
      "source": [
        "__<h3>Implementing FAISS to Imporve the Performance of our Semantic Search</h3>__"
      ]
    },
    {
      "cell_type": "code",
      "execution_count": null,
      "id": "abb57295-1a63-4a6b-a8b2-0f83315165d4",
      "metadata": {
        "id": "abb57295-1a63-4a6b-a8b2-0f83315165d4",
        "outputId": "34c58c0b-b906-489e-9c79-c8a885837557"
      },
      "outputs": [
        {
          "name": "stdout",
          "output_type": "stream",
          "text": [
            "Collecting faiss-cpu\n",
            "  Downloading faiss_cpu-1.10.0-cp310-cp310-win_amd64.whl.metadata (4.5 kB)\n",
            "Requirement already satisfied: numpy<3.0,>=1.25.0 in c:\\users\\admin\\anaconda3\\lib\\site-packages (from faiss-cpu) (2.1.3)\n",
            "Requirement already satisfied: packaging in c:\\users\\admin\\anaconda3\\lib\\site-packages (from faiss-cpu) (24.2)\n",
            "Downloading faiss_cpu-1.10.0-cp310-cp310-win_amd64.whl (13.7 MB)\n",
            "   ---------------------------------------- 0.0/13.7 MB ? eta -:--:--\n",
            "   ------ --------------------------------- 2.4/13.7 MB 12.2 MB/s eta 0:00:01\n",
            "   ---------------- ----------------------- 5.5/13.7 MB 12.0 MB/s eta 0:00:01\n",
            "   -------------------- ------------------- 7.1/13.7 MB 10.4 MB/s eta 0:00:01\n",
            "   ----------------------------- ---------- 10.0/13.7 MB 11.3 MB/s eta 0:00:01\n",
            "   ---------------------------------------  13.4/13.7 MB 12.0 MB/s eta 0:00:01\n",
            "   ---------------------------------------- 13.7/13.7 MB 11.3 MB/s eta 0:00:00\n",
            "Installing collected packages: faiss-cpu\n",
            "Successfully installed faiss-cpu-1.10.0\n"
          ]
        }
      ],
      "source": [
        "#Installing FAISS\n",
        "!pip install faiss-cpu"
      ]
    },
    {
      "cell_type": "code",
      "execution_count": null,
      "id": "d69e3205-f00b-4268-9c2a-5513e81f5f3c",
      "metadata": {
        "id": "d69e3205-f00b-4268-9c2a-5513e81f5f3c"
      },
      "outputs": [],
      "source": [
        "#Importing FAISS (Facebook AI Similarity Search)\n",
        "import faiss"
      ]
    },
    {
      "cell_type": "code",
      "execution_count": null,
      "id": "106b2025-c3c1-4b23-9046-5aec1658c597",
      "metadata": {
        "id": "106b2025-c3c1-4b23-9046-5aec1658c597"
      },
      "outputs": [],
      "source": [
        "#Loading embeddings from MongoDB\n",
        "\n",
        "docs = list(collection.find({}, {\"_id\":1, \"embedding\":1}))  #Fetching the embeddings\n",
        "\n",
        "#Isolating the \"_ids\" and \"embedding\"\n",
        "doc_ids = [(doc[\"_id\"]) for doc in docs]\n",
        "#Note: The dtype for the vectors to be added to a FAISS index must be float32\n",
        "embeddings = np.asarray([doc[\"embedding\"] for doc in docs], dtype=np.float32)\n",
        "\n",
        "#Ensuring the embeddings are in the correct shape\n",
        "dimension = embeddings.shape[1]  #Gets the number of features"
      ]
    },
    {
      "cell_type": "code",
      "execution_count": null,
      "id": "1865952f-aeda-42ef-9b20-2baa4cf239e2",
      "metadata": {
        "id": "1865952f-aeda-42ef-9b20-2baa4cf239e2"
      },
      "outputs": [],
      "source": [
        "import os\n",
        "import pickle\n",
        "from bson import ObjectId"
      ]
    },
    {
      "cell_type": "code",
      "execution_count": null,
      "id": "73b9fb90-9769-4362-920d-402eddd7a334",
      "metadata": {
        "id": "73b9fb90-9769-4362-920d-402eddd7a334",
        "outputId": "34d906c5-8842-4ee6-ecd1-11040ca30b56"
      },
      "outputs": [
        {
          "name": "stdout",
          "output_type": "stream",
          "text": [
            "FAISS index already exists. Skipping build...\n"
          ]
        }
      ],
      "source": [
        "#Creating and building the FAISS index to use Hierarchical Navigable Small World Graphs (HNSW)\n",
        "\n",
        "#First, we create an HNSW index\n",
        "M = 32  #This controls the graph connectivity (higher = more accurate, but slower)\n",
        "\n",
        "#Creating and building the FAISS index only if it doesn't exist\n",
        "if not os.path.exists(\"faiss_hnsw.index\"):\n",
        "    #initialize the FAISS index (using HNSW)\n",
        "    index_hnsw = faiss.IndexHNSWFlat(dimension, M, faiss.METRIC_L2)\n",
        "\n",
        "    #Adding the embeddings to the initialized FAISS index\n",
        "    index_hnsw.add(embeddings)\n",
        "\n",
        "    #Saving the index for future use\n",
        "    faiss.write_index(index_hnsw, \"faiss_hnsw.index\")\n",
        "\n",
        "    #Save doc_ids mapping (since FAISS only stores vectors)\n",
        "    with open(\"doc_ids.pkl\", \"wb\") as f:\n",
        "        pickle.dump(doc_ids, f)\n",
        "\n",
        "    print(\"FAISS HNSW index built and saved successfully!\")\n",
        "else:\n",
        "    print(\"FAISS index already exists. Skipping build...\")"
      ]
    },
    {
      "cell_type": "code",
      "execution_count": null,
      "id": "7977c646-198f-49fe-b688-6cc8eac9f488",
      "metadata": {
        "id": "7977c646-198f-49fe-b688-6cc8eac9f488"
      },
      "outputs": [],
      "source": [
        "#Performing Optimized Semantic Search\n",
        "def optimized_semantic_search(query, top_k=5):\n",
        "    #Using \"global\" to avoid reloading the FAISS index and doc_ids if they exist in memory\n",
        "    global index_hnsw, doc_ids\n",
        "\n",
        "    #Load the FAISS index only if not already in memory\n",
        "    if \"index_hnsw\" not in globals():\n",
        "        #Load the FAISS index\n",
        "        index_hnsw = faiss.read_index(\"faiss_hnsw.index\")\n",
        "\n",
        "    #Load doc_ids mapping\n",
        "    if \"doc_ids\" not in globals():\n",
        "        with open(\"doc_ids.pkl\", \"rb\") as f:\n",
        "            doc_ids = pickle.load(f)\n",
        "\n",
        "    #Embedding the user's query\n",
        "    query_embedding = model.encode(query)       #The same model used in generating the stored embeddings is used in encoding the query\n",
        "\n",
        "    #Converting embedded user's query to FAISS format\n",
        "    faiss_query_embedding = np.asarray(query_embedding, dtype=np.float32).reshape(1,-1)\n",
        "\n",
        "    #Performing FAISS search\n",
        "    distances, indices = index_hnsw.search(faiss_query_embedding, top_k)\n",
        "\n",
        "    #Retrieving matching documents from MongoDB\n",
        "    results = []\n",
        "    for i in range(len(indices[0])):\n",
        "        idx = indices[0][i]\n",
        "        if idx >= len(doc_ids):   #Prevent IndexError\n",
        "            continue\n",
        "        doc_id = doc_ids[idx]  #Getting the document ID\n",
        "        document = collection.find_one({\"_id\": ObjectId(doc_id)}, {\"_id\":1, \"Summary\":1, \"Text\":1})  #Fetching the exact document from MongoDB\n",
        "\n",
        "        if document:   #Ensuring that document is not None\n",
        "            results.append({\"document\": document, \"distance\": distances[0][i]})\n",
        "\n",
        "    return results"
      ]
    },
    {
      "cell_type": "markdown",
      "id": "2dc9046c-fae0-4638-8ed5-a513a1260991",
      "metadata": {
        "id": "2dc9046c-fae0-4638-8ed5-a513a1260991"
      },
      "source": [
        "__<h3>Performing Optimized Semantic Searches using FAISS Index with HNSW</h3>__"
      ]
    },
    {
      "cell_type": "code",
      "execution_count": null,
      "id": "f52449f6-18f5-4ec7-8b3d-c5c450431c96",
      "metadata": {
        "id": "f52449f6-18f5-4ec7-8b3d-c5c450431c96",
        "outputId": "bba1812f-3de6-4385-d764-daf9ec6d177e"
      },
      "outputs": [
        {
          "name": "stdout",
          "output_type": "stream",
          "text": [
            "{'document': {'_id': ObjectId('67cc8d3714becb6d21d5d01f'), 'Summary': 'Disappointed', 'Text': \"It seems alot of items on Amazon get undeserved glowing reviews.  I tried these (original and chocolate) because of the reviews but they're nothing special. I'm sure I'll end up throwing them away when they go stale.  This has happened to me before so I wonder if Amazon pays people to write reviews?\"}, 'distance': 0.94864106} \n",
            "\n",
            "{'document': {'_id': ObjectId('67cc8dd814becb6d21dbe7fb'), 'Summary': 'Disappointed', 'Text': \"It seems alot of items on Amazon get undeserved glowing reviews.  I tried these (original and chocolate) because of the reviews but they're nothing special. I'm sure I'll end up throwing them away when they go stale.  This has happened to me before so I wonder if Amazon pays people to write reviews?\"}, 'distance': 0.94864106} \n",
            "\n",
            "{'document': {'_id': ObjectId('67cc8e0614becb6d21dda7a2'), 'Summary': 'They were out!', 'Text': \"Why am I getting emails from Amazon to review something I didn't get? They were out of this product, so there is nothing to review. I rated it one star because I had to rate it.\"}, 'distance': 0.9677428} \n",
            "\n",
            "{'document': {'_id': ObjectId('67cc8d5a14becb6d21d70bdf'), 'Summary': 'Yummy', 'Text': 'Do not like to leave reviews. Look at the stars to see my review.<br />So Amazon.com get over your inane rules!'}, 'distance': 0.9964795} \n",
            "\n",
            "{'document': {'_id': ObjectId('67cc8e0614becb6d21ddaed5'), 'Summary': 'YUM!!!', 'Text': \"I've used Amazon for over a year and have yet to leave a review for any product--but THIS, this is delicious!\"}, 'distance': 1.0259424} \n",
            "\n"
          ]
        }
      ],
      "source": [
        "#Query 1\n",
        "#Identifying fake or suspicious reviews\n",
        "query1 = \"How to detect fake reviews in Amazon product listings?\"\n",
        "results = optimized_semantic_search(query1)\n",
        "for doc in results:\n",
        "    print(doc,\"\\n\")"
      ]
    }
  ],
  "metadata": {
    "kernelspec": {
      "display_name": "Python [conda env:base] *",
      "language": "python",
      "name": "conda-base-py"
    },
    "language_info": {
      "codemirror_mode": {
        "name": "ipython",
        "version": 3
      },
      "file_extension": ".py",
      "mimetype": "text/x-python",
      "name": "python",
      "nbconvert_exporter": "python",
      "pygments_lexer": "ipython3",
      "version": "3.10.16"
    },
    "colab": {
      "provenance": []
    }
  },
  "nbformat": 4,
  "nbformat_minor": 5
}